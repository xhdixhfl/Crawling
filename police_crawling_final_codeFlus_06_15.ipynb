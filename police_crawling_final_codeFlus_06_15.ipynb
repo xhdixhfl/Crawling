{
 "cells": [
  {
   "cell_type": "markdown",
   "id": "cd2da076",
   "metadata": {},
   "source": [
    "# 필수 라이브러리 로딩"
   ]
  },
  {
   "cell_type": "code",
   "execution_count": 1,
   "id": "b5627a13",
   "metadata": {},
   "outputs": [],
   "source": [
    "# 필수 라이브러리 로딩\n",
    "from selenium import webdriver\n",
    "from selenium.webdriver.chrome.service import Service\n",
    "from selenium.webdriver.common.keys import Keys\n",
    "from selenium.webdriver.common.by import By\n",
    "from selenium.webdriver import ActionChains # 스크롤\n",
    "from urllib import request # 이미지\n",
    "import csv\n",
    "import time\n",
    "# page로딩과 구조 로딩에 gab이 있어서 원하는 tag나올떄까지 기다리는거\n",
    "from selenium.webdriver.support.ui import WebDriverWait\n",
    "from selenium.webdriver.support import expected_conditions as EC\n",
    "\n",
    "import numpy as np # 결측값 삽입용\n",
    "import re # 정규표현식\n",
    "import pandas as pd"
   ]
  },
  {
   "cell_type": "markdown",
   "id": "3f1086ac",
   "metadata": {},
   "source": [
    "# 변수 선언"
   ]
  },
  {
   "cell_type": "code",
   "execution_count": 2,
   "id": "a98699da",
   "metadata": {},
   "outputs": [],
   "source": [
    "## 교재 테이블 리스트들 \n",
    "main_title = []  # 본제\n",
    "sub_title = []  # 부제\n",
    "author = []  # 저자\n",
    "publish = []  # 출판\n",
    "date = []  # 발행일\n",
    "cate = []  # 네이버 카테고리\n",
    "cate_kb = [] # 교보 카테고리\n",
    "tot_page = []  # 전체 쪽수\n",
    "size = []  # 크기\n",
    "wei = []  # 무게\n",
    "img = [] # 이미지\n",
    "book_info = []  # 책소개\n",
    "book_review = []  # 책서평\n",
    "kobo_cate = []\n",
    "title_isbn = [] # isbn 교재명\n",
    "set_isbn = [] #set\n",
    "isbn = []\n",
    "book_type = [] #제본\n",
    "ver = []  # 판정보\n",
    "last_ver = []  # 이전 판 정보\n",
    "pn_isbn = [] # 페이지 관련 끌기\n",
    "keyword = []  # 키워드\n",
    "price = []\n",
    "\n",
    "index = []\n",
    "idx_page = []\n",
    "\n",
    "# 관련 사전 정의\n",
    "info_dic = {'author':author, 'publish': publish, 'date':date}\n",
    "isbn_dic = {'isbn':isbn, 'book_type': book_type, 'ver':ver,'last_ver':last_ver ,'pn_isbn':pn_isbn ,\\\n",
    "           'keyword':keyword, 'set_isbn': set_isbn, 'price':price}\n",
    "plus_dic = {'book_info':book_info, 'book_review': book_review, 'index':index}"
   ]
  },
  {
   "cell_type": "markdown",
   "id": "bd5c8e67",
   "metadata": {},
   "source": [
    "# 함수 정의"
   ]
  },
  {
   "cell_type": "markdown",
   "id": "97beed9b",
   "metadata": {},
   "source": [
    "- 수정되어야 할 사항\n",
    "1. 검색창에 저장된 책 제목 검색\n",
    "2. 검색후 가장 위에 존재하는 판매처 클릭\n",
    "> 이후 과정은 모두 동일\n"
   ]
  },
  {
   "cell_type": "code",
   "execution_count": 3,
   "id": "e32f5d3f",
   "metadata": {},
   "outputs": [],
   "source": [
    "# 저자, 출판, 발행일 수집 함수\n",
    "def info_func():\n",
    "    info = driver.find_elements(By.CLASS_NAME, \"bookTitle_item_info__IMLyY\")\n",
    "    check = []\n",
    "    for i in range(len(info)):\n",
    "        a = info[i].text.split('\\n')\n",
    "        if a[0] == '저자':\n",
    "            check.append('author')\n",
    "            author.append(a[1]) # 저자\n",
    "        elif a[0] == '출판':\n",
    "            check.append('publish')\n",
    "            publish.append(a[1])\n",
    "        elif a[0] == '발행':\n",
    "            check.append('date')\n",
    "            date.append(a[1])\n",
    "        else:\n",
    "            pass\n",
    "    for c in ['author','publish', 'date']:\n",
    "        if c not in check:\n",
    "            info_dic[c].append(np.NaN)\n",
    "\n",
    "# 네이버 카테고리, isbn번호 수집  \n",
    "def sub1_func():\n",
    "    sub1 = driver.find_elements(By.CLASS_NAME, \"bookBasicInfo_info_detail__I0Fx5\") # 카테고리, ISBN\n",
    "    # cate \n",
    "    cate.append(sub1[0].text)\n",
    "    # code\n",
    "    code = sub1[-1].text\n",
    "    return code\n",
    "\n",
    "# 페이지수, 무게, 크기 수집\n",
    "def sub2_func():\n",
    "    sub2 = driver.find_elements(By.CLASS_NAME, \"bookBasicInfo_spec__qmQ_N\") # 쪽수, 크기(무게)\n",
    "    if len(sub2) == 3:\n",
    "        tot_page.append(sub2[0].text)\n",
    "        # wei\n",
    "        wei.append(sub2[1].text)\n",
    "        # size\n",
    "        size.append(sub2[2].text)\n",
    "    elif len(sub2) == 2:\n",
    "        tot_page.append(sub2[0].text)\n",
    "        # wei\n",
    "        wei.append(np.NaN)\n",
    "        # size\n",
    "        size.append(sub2[1].text)\n",
    "    elif len(sub2) == 1:\n",
    "        tot_page.append(sub2[0].text)\n",
    "        wei.append(np.NaN)\n",
    "        size.append(np.NaN)\n",
    "    else:\n",
    "        tot_page.append(np.NaN)\n",
    "        wei.append(np.NaN)\n",
    "        size.append(np.NaN)\n",
    "\n",
    "# 이미지 수집\n",
    "def img_func(code):\n",
    "    # image\n",
    "    img_url = driver.find_element(By.XPATH, '//*[@id=\"container\"]/div[2]/div[1]/div[1]/div[1]/div[1]/div/img').get_attribute(\"src\")\n",
    "    driver.implicitly_wait(5)\n",
    "    request.urlretrieve(img_url,f\"C:\\\\total_img\\\\{code}.jpg\")\n",
    "    img.append(f'{code}.jpg')\n",
    "\n",
    "# 목차 수집시 행별 페이지수 수집\n",
    "def pages(a_text):\n",
    "    t_ls = []\n",
    "    for x in a_text[1:-1]:\n",
    "        if x.split(' ')[-1].isnumeric() == True: # 수정함\n",
    "            t_ls.append(x[-1]) # sub_p\n",
    "        else:\n",
    "            t_ls.append(np.NaN)\n",
    "    return t_ls\n",
    "\n",
    "# 책소개, 서평, 목차 수집\n",
    "def new_idx():\n",
    "    plus_info = driver.find_elements(By.CLASS_NAME,'infoItem_info_item__1Nm8P')\n",
    "    plus_ls = []\n",
    "    for a in plus_info:\n",
    "        a_text = a.text.split('\\n')\n",
    "        if a_text[0]== '책 소개':\n",
    "            a_text = [t for t in a_text if t != '' ]\n",
    "            book_info.append(a_text[1:-1])\n",
    "            plus_ls.append('book_info')\n",
    "            \n",
    "        elif a_text[0]== '출판사 서평':\n",
    "            a_text = [t for t in a_text if t != '' ]\n",
    "            book_review.append(a_text[1:-1])\n",
    "            plus_ls.append('book_review')\n",
    "            \n",
    "        elif a_text[0]== '목차':\n",
    "            a_text = [t for t in a_text if t != '' ]\n",
    "            index.append(a_text[1:-1])\n",
    "            plus_ls.append('index')\n",
    "            t_ls = pages(a_text)\n",
    "            idx_page.append(t_ls)\n",
    "        else:\n",
    "            pass\n",
    "    return plus_ls"
   ]
  },
  {
   "cell_type": "code",
   "execution_count": 4,
   "id": "a6e77e7e",
   "metadata": {},
   "outputs": [],
   "source": [
    "# 교보문고 category 수집\n",
    "def kobo():\n",
    "    driver.find_element(By.PARTIAL_LINK_TEXT, '교보').click()\n",
    "    driver.switch_to.window(driver.window_handles[2]) \n",
    "    driver.implicitly_wait(5)\n",
    "    try:\n",
    "        kb = driver.find_element(By.CLASS_NAME, 'category_list_item').text\n",
    "        kb = kb.split('>')\n",
    "        kb = [k.strip() for k in kb]\n",
    "        cate_kb.append(list(set(kb)))\n",
    "    except:\n",
    "        cate_kb.append(np.NaN)\n",
    "    driver.close()\n",
    "    driver.implicitly_wait(5)\n",
    "    driver.switch_to.window(driver.window_handles[1])\n",
    "    driver.implicitly_wait(5)\n",
    "    print('정보수집kb')"
   ]
  },
  {
   "cell_type": "code",
   "execution_count": 5,
   "id": "40c5e037",
   "metadata": {},
   "outputs": [],
   "source": [
    "# 네이보 도서내에서 실행될 함수\n",
    "def naver():\n",
    "    # 창 전환\n",
    "    driver.switch_to.window(driver.window_handles[1]) \n",
    "    driver.implicitly_wait(5)\n",
    "    try: # 제목 수집 -부제가 없는지 확인먼저 \n",
    "        sub_title.append(driver.find_element(By.CLASS_NAME,f'bookTitle_sub_title__B0uMS').text) # 부\n",
    "        main_title.append(driver.find_element(By.CLASS_NAME,f'bookTitle_book_name__JuBQ2').text) # 본\n",
    "        \n",
    "    except:\n",
    "        main_title.append(driver.find_element(By.CLASS_NAME,f'bookTitle_title_area__fspvB').text) #부제랑 안나눠졌을시\n",
    "        sub_title.append(np.NaN)\n",
    "    \n",
    "    driver.implicitly_wait(5)\n",
    "    try:\n",
    "        info_func() # 저자, 출판, 발행일 수집\n",
    "    except:\n",
    "        for x in [author, publish, date]:\n",
    "            x.append(np.NaN)  # 해당 정보가 없으면 널 값\n",
    "\n",
    "    try:\n",
    "        code = sub1_func() # 카테고리, isbn 수집\n",
    "    except:\n",
    "        print('sub1함수 예외상황')\n",
    "    \n",
    "    try:\n",
    "        sub2_func() # 페이지, 책 규격\n",
    "    except:\n",
    "        print('sub2함수 예외상황')\n",
    "    \n",
    "    try:\n",
    "        img_func(code) # 이미지\n",
    "    except:\n",
    "        img.append(np.nan)\n",
    "    # 교보문고 링크 존재여부 확인   \n",
    "    book_text = driver.find_elements(By.CLASS_NAME, 'bookSeller_mall_name__S0crJ')\n",
    "    book_text = [bt.text.split('\\n')[0] for bt in book_text]\n",
    "    if '교보문고' in book_text:\n",
    "        kobo() # 교보문고 카테고리 수집\n",
    "    else:\n",
    "        cate_kb.append(np.NaN)    \n",
    "        \n",
    "    plus_ls = new_idx() # 소개, 서평, 목차 수집\n",
    "    for p in ['book_info','book_review','index']:\n",
    "        if p not in plus_ls:\n",
    "            plus_dic[p].append(np.NaN) # 수집된 결과 없을시 널 값 부여\n",
    "    \n",
    "    \n",
    "    return code"
   ]
  },
  {
   "cell_type": "code",
   "execution_count": 6,
   "id": "38f8cbd4",
   "metadata": {},
   "outputs": [],
   "source": [
    "# 단일권의 ISBN 수집 코드\n",
    "def one_isbn():\n",
    "    check = []\n",
    "    driver.find_element(By.XPATH, f'//*[@id=\"resultList_div\"]/form/div[{1}]/div/div/div/a').click()\n",
    "    driver.implicitly_wait(5)\n",
    "    tit = driver.find_element(By.CSS_SELECTOR,'#contents > div > div.resultViewDetail > div.tit').text\n",
    "    title_isbn.append(tit.split(']')[1]) # 타이틀 수집, 현재는 제외된 부분\n",
    "    # 행 수 카운트\n",
    "    num = driver.find_elements(By.XPATH, '//*[@id=\"contents\"]/div/div[1]/div[2]/div[2]/ul/li')\n",
    "    for n in range(len(num)):\n",
    "        a = num[n].text.split('\\n')\n",
    "        if a[0] == 'ISBN':\n",
    "            check.append('isbn')\n",
    "            isbn.append(re.sub(r'[^0-9]', '', a[1].split(' ')[0])) # 저자\n",
    "        elif a[0] in ['세트ISBN','SET ISBN']:\n",
    "            check.append('set_isbn')\n",
    "            set_isbn.append(re.sub(r'[^0-9]', '', a[1].split(' ')[0]))\n",
    "        elif a[0] in ['제본형식','제본형식(종이)']:\n",
    "            check.append('book_type')\n",
    "            book_type.append(a[-1])\n",
    "        elif a[0] == '판사항':\n",
    "            check.append('ver')\n",
    "            ver.append(a[-1])\n",
    "        elif a[0] == '이전판 정보':\n",
    "            check.append('last_ver')\n",
    "            last_ver.append(re.sub(r'[^0-9]', '', a[1]))\n",
    "        elif a[0] == '형태 및 본문언어':\n",
    "            check.append('pn_isbn')\n",
    "            pn_isbn.append(np.NaN)\n",
    "           # pn_isbn.append(a[1]) 세트의 개별권만 수집하도록 변경됨\n",
    "        elif a[0] == '키워드':\n",
    "            check.append('keyword')\n",
    "            keyword.append(a[1]) \n",
    "        elif a[0] in ['가격', '가격정보']:\n",
    "            if re.sub(r'[^0-9]', '', a[1]) != '':\n",
    "                price.append(re.sub(r'[^0-9]', '', a[1]))\n",
    "                check.append('price')\n",
    "            else:\n",
    "                price.append(np.NaN)\n",
    "                check.append('price')\n",
    "        else:\n",
    "            pass\n",
    "\n",
    "    for c in ['isbn','book_type','ver','last_ver','pn_isbn','keyword', 'set_isbn', 'price']:\n",
    "        if c not in check:\n",
    "            isbn_dic[c].append(np.NaN)\n",
    "        else:\n",
    "            pass"
   ]
  },
  {
   "cell_type": "code",
   "execution_count": 7,
   "id": "61aca44d",
   "metadata": {},
   "outputs": [],
   "source": [
    "# 세트권의 각 항목별 수집해야하는 내용 모음\n",
    "def set_code_search(x):\n",
    "    driver.find_element(By.XPATH, f'//*[@id=\"resultList_div\"]/form/div[{x}]/div/div/div/a').click()\n",
    "    driver.implicitly_wait(5)\n",
    "    num = driver.find_elements(By.XPATH, '//*[@id=\"contents\"]/div/div[1]/div[2]/div[2]/ul/li')\n",
    "    check = []\n",
    "    for n in range(len(num)):\n",
    "        a = num[n].text.split('\\n')\n",
    "        if a[0] == 'ISBN':\n",
    "            check.append('isbn')\n",
    "            isbn.append(re.sub(r'[^0-9]', '', a[1].split(' ')[0])) \n",
    "        elif a[0] in ['세트ISBN','SET ISBN']:\n",
    "            check.append('set_isbn')\n",
    "            set_is = re.sub(r'[^0-9]', '', a[1].split(' ')[0])\n",
    "            set_isbn.append(set_is)\n",
    "        elif a[0] in ['제본형식','제본형식(종이)'] :\n",
    "            check.append('book_type')\n",
    "            book_type.append(a[-1])\n",
    "        elif a[0] == '판사항':\n",
    "            check.append('ver')\n",
    "            ver.append(a[-1])\n",
    "        elif a[0] == '이전판 정보':\n",
    "            check.append('last_ver')\n",
    "            last_ver.append(re.sub(r'[^0-9]', '', a[1]))\n",
    "        elif a[0] == '형태 및 본문언어':\n",
    "            check.append('pn_isbn')\n",
    "            pni = a[1].split('/')[0]\n",
    "            pn_isbn.append(re.sub(r'[^0-9]', '', pni))\n",
    "        elif a[0] == '키워드':\n",
    "            check.append('keyword')\n",
    "            keyword.append(a[-1])\n",
    "        elif a[0] in ['가격', '가격정보']:\n",
    "            if re.sub(r'[^0-9]', '', a[1]) != '':\n",
    "                price.append(re.sub(r'[^0-9]', '', a[1]))\n",
    "                check.append('price')\n",
    "            else:\n",
    "                price.append(np.NaN)\n",
    "                check.append('price')\n",
    "\n",
    "    for c in ['book_type','ver','last_ver','pn_isbn','keyword', 'price']:\n",
    "        if c not in check:\n",
    "            isbn_dic[c].append(np.NaN)\n",
    "    if 'isbn' not in check:\n",
    "        isbn.append(set_is)\n",
    "    if 'set_isbn' not in check:\n",
    "        set_isbn.append(set_is)\n",
    "    driver.back()\n",
    "    driver.implicitly_wait(5)\n",
    "\n",
    "# 세트로 이루어진 정보들중 세트와 개별권 구별 함수\n",
    "def set_code():\n",
    "    find_set = driver.find_elements(By.CLASS_NAME, 'dot-list')\n",
    "    last_idx = []\n",
    "    first_idx = ''\n",
    "    for i, fs in enumerate(find_set):\n",
    "        fs = fs.text.split('\\n')\n",
    "        fs = [f.replace(':', '') for f in fs]\n",
    "        fs = [f.split(' ')[0] for f in fs]\n",
    "        print(fs)\n",
    "        if 'ISBN' not in fs:\n",
    "            first_idx = i+1\n",
    "        else:\n",
    "            last_idx.append(i+1)\n",
    "    return first_idx,last_idx\n",
    " \n",
    "# 위에서 구한 정보를 토대로 세트권 정보 먼저 수집, (네이버 정보와 연결하기 위함)\n",
    "def set_code_find(x,y):\n",
    "    set_code_search(x)\n",
    "    print('set ok')\n",
    "    for i in y:\n",
    "        set_code_search(i)\n",
    "        for c in [book_info, img, wei, size, tot_page, cate, date, publish, author, sub_title,\\\n",
    "                  main_title, index, idx_page, book_review, cate_kb]:\n",
    "            c.append(np.NaN)\n",
    "    print('last ok')"
   ]
  },
  {
   "cell_type": "code",
   "execution_count": 8,
   "id": "6f92c5cd",
   "metadata": {},
   "outputs": [],
   "source": [
    "# isbn이 단일권인지 세트권인지 판별하는 함수\n",
    "def search_isbn(code): \n",
    "    driver.get(f'https://www.nl.go.kr/seoji/contents/S80100000000.do?schType=simple&schStr={code}')\n",
    "    driver.implicitly_wait(5)\n",
    "    num = driver.find_elements(By.CLASS_NAME, 'resultData')\n",
    "    if len(num) == 1: # 단일 경우 함수\n",
    "        one_isbn()\n",
    "    else:\n",
    "        x, y = set_code()\n",
    "        set_code_find(x,y)\n",
    "    driver.close() # 종료\n",
    "    driver.implicitly_wait(5)\n",
    "    driver.switch_to.window(driver.window_handles[0])\n",
    "    print('isbn수집 완')"
   ]
  },
  {
   "cell_type": "code",
   "execution_count": 9,
   "id": "bab76e28",
   "metadata": {},
   "outputs": [],
   "source": [
    "# 판매처 링크를 보유한 상품 판별 및 클릭 함수\n",
    "def find_new():\n",
    "    try:\n",
    "#         elements = driver.find_elements(By.CLASS_NAME,f'bookListItem_vendor__d_xBD')\n",
    "        elements = driver.find_elements(By.PARTIAL_LINK_TEXT,f'판매처')\n",
    "        print(len(elements),\"상품수\")\n",
    "        for i,ele in enumerate(elements):\n",
    "            print(i, ele.text)\n",
    "            ele.send_keys(Keys.ENTER)\n",
    "            driver.implicitly_wait(5)\n",
    "            print('상품클릭')\n",
    "            # 네이버 함수\n",
    "            code = naver()\n",
    "            print(code)\n",
    "            # isbn 함수\n",
    "            search_isbn(code)\n",
    "    except:\n",
    "        print(\"find예외\")\n",
    "        driver.implicitly_wait(5)"
   ]
  },
  {
   "cell_type": "code",
   "execution_count": 14,
   "id": "9346fb3a",
   "metadata": {},
   "outputs": [],
   "source": [
    "# 검색할 단어 집합\n",
    "questions = [9791168809055, 9791168809352, 9788963367620, 9791166871085, 9791192930015, 9791168809697,\\\n",
    "            9791165233808, 9791166184871, 9791168809154, 9791168809055, 9791165233822, 9791166871078,\\\n",
    "            9791160492538, 9791160492521, 9791168809642, 9791168809659, 9791168808713, 9791168809567,\\\n",
    "            9791168808720]\n",
    "\n",
    "def find_flus():\n",
    "    try:\n",
    "        elements = driver.find_elements(By.PARTIAL_LINK_TEXT,f'판매처')\n",
    "        print(len(elements),\"상품수\")\n",
    "        elements[0].send_keys(Keys.ENTER)\n",
    "        driver.implicitly_wait(5)\n",
    "        print('상품클릭')\n",
    "        # 네이버 함수\n",
    "        code = naver()\n",
    "        print(code)\n",
    "        # isbn 함수\n",
    "        search_isbn(code)\n",
    "    except:\n",
    "        print(\"find예외\")\n",
    "        driver.implicitly_wait(5)"
   ]
  },
  {
   "cell_type": "code",
   "execution_count": 28,
   "id": "a19f0847",
   "metadata": {},
   "outputs": [],
   "source": [
    "# 검색할 단어 집합\n",
    "questions = [ 9791168809659, 9791168808713, 9791168809567,\\\n",
    "            9791168808720]\n",
    "\n",
    "def find_flus():\n",
    "    try:\n",
    "        elements = driver.find_elements(By.PARTIAL_LINK_TEXT,f'판매처')\n",
    "        print(len(elements),\"상품수\")\n",
    "        elements[0].send_keys(Keys.ENTER)\n",
    "        driver.implicitly_wait(5)\n",
    "        print('상품클릭')\n",
    "        # 네이버 함수\n",
    "        code = naver()\n",
    "        print(code)\n",
    "        # isbn 함수\n",
    "        search_isbn(code)\n",
    "    except:\n",
    "        print(\"find예외\")\n",
    "        driver.implicitly_wait(5)"
   ]
  },
  {
   "cell_type": "markdown",
   "id": "519e06c1",
   "metadata": {},
   "source": [
    "# 드라이버 세팅"
   ]
  },
  {
   "cell_type": "code",
   "execution_count": 15,
   "id": "a7d42bf3",
   "metadata": {},
   "outputs": [],
   "source": [
    "# 첫화면\n",
    "URL = 'https://search.shopping.naver.com/book/search/category?bookTabType=ALL&catId=50005981&pageIndex=1&pageSize=40&sort=DATE'\n",
    "ops = webdriver.ChromeOptions()\n",
    "ops.add_experimental_option('excludeSwitches', ['enable-logging'])\n",
    "\n",
    "sv = Service(executable_path= 'C:\\Data\\chromedriver')\n",
    "driver = webdriver.Chrome(service=sv, options=ops)\n",
    "\n",
    "driver.get(url=URL)"
   ]
  },
  {
   "cell_type": "markdown",
   "id": "01c52cad",
   "metadata": {},
   "source": [
    "# 데이터 수집\n",
    "- 중간에 클릭 오류가 왕왕 발생해서 50개씩 끊어서 실행함\n",
    "- find함수의 예외사항을 수정한다면, 한번에도 가능하지 않을까 생각함"
   ]
  },
  {
   "cell_type": "code",
   "execution_count": 24,
   "id": "dd72edd8",
   "metadata": {},
   "outputs": [],
   "source": [
    "ques = driver.find_element(By.CLASS_NAME, 'searchInput_search_input__vLBeq')"
   ]
  },
  {
   "cell_type": "code",
   "execution_count": 25,
   "id": "09571a46",
   "metadata": {},
   "outputs": [],
   "source": [
    "ques.send_keys('1')"
   ]
  },
  {
   "cell_type": "code",
   "execution_count": 29,
   "id": "bd453eb7",
   "metadata": {},
   "outputs": [
    {
     "name": "stdout",
     "output_type": "stream",
     "text": [
      "1 상품수\n",
      "상품클릭\n",
      "정보수집kb\n",
      "9791168809659\n",
      "isbn수집 완\n",
      "1 상품수\n",
      "상품클릭\n",
      "정보수집kb\n",
      "9791168808713\n",
      "isbn수집 완\n",
      "1 상품수\n",
      "상품클릭\n",
      "정보수집kb\n",
      "9791168809567\n",
      "isbn수집 완\n",
      "1 상품수\n",
      "상품클릭\n",
      "정보수집kb\n",
      "9791168808720\n",
      "isbn수집 완\n"
     ]
    }
   ],
   "source": [
    "for q in questions:\n",
    "    ques = driver.find_element(By.CLASS_NAME, 'searchInput_search_input__vLBeq')\n",
    "    ques.clear() # input 초기화\n",
    "    ques.send_keys(q) # 검색단어 보내기\n",
    "    ques.send_keys(Keys.ENTER)\n",
    "    find_flus()\n",
    "    "
   ]
  },
  {
   "cell_type": "code",
   "execution_count": 30,
   "id": "a4151c3f",
   "metadata": {},
   "outputs": [
    {
     "data": {
      "text/plain": [
       "(19, 19, 19, 19, 19)"
      ]
     },
     "execution_count": 30,
     "metadata": {},
     "output_type": "execute_result"
    }
   ],
   "source": [
    "len(main_title), len(date), len(cate_kb), len(isbn), len(index)"
   ]
  },
  {
   "cell_type": "code",
   "execution_count": 34,
   "id": "40c74ec9",
   "metadata": {},
   "outputs": [],
   "source": [
    "driver.close()"
   ]
  },
  {
   "cell_type": "markdown",
   "id": "6282a431",
   "metadata": {},
   "source": [
    "# 데이터 저장"
   ]
  },
  {
   "cell_type": "code",
   "execution_count": 31,
   "id": "0fe96674",
   "metadata": {},
   "outputs": [
    {
     "name": "stderr",
     "output_type": "stream",
     "text": [
      "C:\\Data\\conda\\lib\\site-packages\\pandas\\util\\_decorators.py:211: FutureWarning: the 'encoding' keyword is deprecated and will be removed in a future version. Please take steps to stop the use of 'encoding'\n",
      "  return func(*args, **kwargs)\n"
     ]
    }
   ],
   "source": [
    "test = pd.DataFrame({'main_title': main_title, 'sub_title':sub_title,'cate':cate, 'tot_page':tot_page,\\\n",
    "                     'author':author,'publish':publish, 'date':date, 'size':size, 'wei':wei,'img':img,\\\n",
    "                    'book_info':book_info, 'book_review':book_review,'index':index,'idx_page':idx_page,\\\n",
    "                     'set_isbn':set_isbn, 'isbn':isbn,'price':price, 'book_type':book_type, 'ver':ver,\\\n",
    "                     'last_ver':last_ver,'pn_isbn':pn_isbn,'keyword':keyword, 'cate_kb':cate_kb})\n",
    "test.to_excel('C:/police_data/total_book6-2.xlsx',encoding = 'utf-8-sig', index=False)"
   ]
  },
  {
   "cell_type": "code",
   "execution_count": 32,
   "id": "fd3aae0e",
   "metadata": {},
   "outputs": [
    {
     "name": "stderr",
     "output_type": "stream",
     "text": [
      "C:\\Data\\conda\\lib\\site-packages\\pandas\\util\\_decorators.py:211: FutureWarning: the 'encoding' keyword is deprecated and will be removed in a future version. Please take steps to stop the use of 'encoding'\n",
      "  return func(*args, **kwargs)\n"
     ]
    }
   ],
   "source": [
    "# 카테고리 수집\n",
    "cate_test = pd.DataFrame({'main_title': main_title, 'isbn':isbn, 'keyword': keyword,'cate_kb':cate_kb})\n",
    "cate_test.to_excel('C:/police_data/total_cate6-2.xlsx',encoding = 'utf-8-sig', index=False)"
   ]
  },
  {
   "cell_type": "code",
   "execution_count": 33,
   "id": "98cbb7a2",
   "metadata": {},
   "outputs": [
    {
     "name": "stderr",
     "output_type": "stream",
     "text": [
      "C:\\Data\\conda\\lib\\site-packages\\pandas\\util\\_decorators.py:211: FutureWarning: the 'encoding' keyword is deprecated and will be removed in a future version. Please take steps to stop the use of 'encoding'\n",
      "  return func(*args, **kwargs)\n"
     ]
    }
   ],
   "source": [
    "# 목차 테이블\n",
    "idx_test = pd.DataFrame({'main_title': main_title,'isbn':isbn,'index': index, 'idx_page':idx_page})\n",
    "idx_test.to_excel('C:/police_data/total_idx6-2.xlsx',encoding = 'utf-8-sig', index=False)"
   ]
  },
  {
   "cell_type": "code",
   "execution_count": null,
   "id": "3cb9aa55",
   "metadata": {},
   "outputs": [],
   "source": []
  }
 ],
 "metadata": {
  "kernelspec": {
   "display_name": "Python 3 (ipykernel)",
   "language": "python",
   "name": "python3"
  },
  "language_info": {
   "codemirror_mode": {
    "name": "ipython",
    "version": 3
   },
   "file_extension": ".py",
   "mimetype": "text/x-python",
   "name": "python",
   "nbconvert_exporter": "python",
   "pygments_lexer": "ipython3",
   "version": "3.10.9"
  }
 },
 "nbformat": 4,
 "nbformat_minor": 5
}
