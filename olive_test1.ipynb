{
 "cells": [
  {
   "cell_type": "code",
   "execution_count": 1,
   "id": "9f527b02-8ca4-4258-8025-c9880123e2df",
   "metadata": {},
   "outputs": [],
   "source": [
    "# 필수 라이브러리 로딩\n",
    "from selenium import webdriver\n",
    "from selenium.webdriver.chrome.service import Service\n",
    "from selenium.webdriver.common.by import By\n",
    "import csv\n",
    "import time"
   ]
  },
  {
   "cell_type": "code",
   "execution_count": 2,
   "id": "6a37dddc-e172-4f62-95fd-d0f2b28707ba",
   "metadata": {},
   "outputs": [],
   "source": [
    "# driver 설정\n",
    "URL = 'https://www.oliveyoung.co.kr/store/goods/getGoodsDetail.do?goodsNo=A000000176292&dispCatNo=100000100010008&trackingCd=Cat100000100010008_MID'\n",
    "ops = webdriver.ChromeOptions()\n",
    "ops.add_experimental_option('excludeSwitches', ['enable-logging'])\n",
    "\n",
    "sv = Service(executable_path= 'C:\\\\Users\\\\admin\\\\Downloads\\\\chroemdriver')\n",
    "driver = webdriver.Chrome(service=sv, options=ops)\n",
    "\n",
    "driver.get(url=URL)\n",
    "driver.find_element(By.XPATH,f'//*[@id=\"reviewInfo\"]/a').click()"
   ]
  },
  {
   "cell_type": "markdown",
   "id": "2202c472-b795-4e4a-bdb3-b890d733577a",
   "metadata": {},
   "source": [
    "- 해당 카테고리의 제품 사진들 \n",
    "' //*[@id=\"Contents\"]/ul[2]/li[1] '\n",
    "' //*[@id=\"Contents\"]/ul[2]/li[2] '"
   ]
  },
  {
   "cell_type": "code",
   "execution_count": 18,
   "id": "2122dab1-2151-4605-9400-11661dfa18cc",
   "metadata": {},
   "outputs": [
    {
     "data": {
      "text/plain": [
       "'피부타입\\n복합성에 좋아요\\n피부고민\\n보습에 좋아요\\n자극도\\n자극없이 순해요'"
      ]
     },
     "execution_count": 18,
     "metadata": {},
     "output_type": "execute_result"
    }
   ],
   "source": [
    "driver.find_element(By.XPATH, '//*[@id=\"gdasList\"]/li[1]/div[2]/div[2]').text"
   ]
  },
  {
   "cell_type": "markdown",
   "id": "a18fff54-cffb-4e57-94e2-f8f2fcd6b573",
   "metadata": {},
   "source": [
    "### 한가지 상품에 필요한 구문 확인"
   ]
  },
  {
   "cell_type": "code",
   "execution_count": 32,
   "id": "30237dda-6e86-4be3-8f67-35654bc7c384",
   "metadata": {},
   "outputs": [],
   "source": [
    "# driver 설정\n",
    "URL = 'https://www.oliveyoung.co.kr/store/display/getMCategoryList.do?dispCatNo=100000100010008&isLoginCnt=0&aShowCnt=0&bShowCnt=0&cShowCnt=0&gateCd=Drawer&trackingCd=Cat100000100010008_MID'\n",
    "ops = webdriver.ChromeOptions()\n",
    "ops.add_experimental_option('excludeSwitches', ['enable-logging'])\n",
    "\n",
    "sv = Service(executable_path= 'C:\\\\Users\\\\admin\\\\Downloads\\\\chroemdriver')\n",
    "driver = webdriver.Chrome(service=sv, options=ops)\n",
    "\n",
    "driver.get(url=URL)\n",
    "driver.find_element(By.XPATH,f'//*[@id=\"Contents\"]/ul[2]/li[1]').click()"
   ]
  },
  {
   "cell_type": "code",
   "execution_count": null,
   "id": "f77d4034-3629-46dd-b30d-b0e6bd07dcda",
   "metadata": {},
   "outputs": [],
   "source": [
    "for i in range(1,6):\n",
    "    star = driver.find_element(By.XPATH, f'//*[@id=\"gdasList\"]/li[{i}]/div[2]/div[1]/span[1]').text\n",
    "    print(star)\n",
    "    keyword = [driver.find_element(By.XPATH, f'//*[@id=\"gdasList\"]/li[{i}]/div[2]/div[2]/dl[{j}]/dd/span').text for j in range(1,4)]\n",
    "    print(keyword)\n",
    "    rv_text = driver.find_element(By.XPATH, f'//*[@id=\"gdasList\"]/li[{i}]/div[2]/div[3]').text\n",
    "    print(rv_text)"
   ]
  },
  {
   "cell_type": "code",
   "execution_count": 48,
   "id": "73eb7481-0603-447a-a7e4-d41946c8fccf",
   "metadata": {},
   "outputs": [
    {
     "data": {
      "text/plain": [
       "'5점만점에 5점'"
      ]
     },
     "execution_count": 48,
     "metadata": {},
     "output_type": "execute_result"
    }
   ],
   "source": [
    "# brand\n",
    "driver.find_element(By.XPATH,'//*[@id=\"gdasList\"]/li[1]/div[2]/div[1]/span[1]').text"
   ]
  },
  {
   "cell_type": "code",
   "execution_count": 22,
   "id": "b3c4be74-4159-4de6-b22e-90a0306a314f",
   "metadata": {},
   "outputs": [
    {
     "data": {
      "text/plain": [
       "'[대용량+미니어처] 넘버즈인 3번 결광가득 에센스 토너 300ml 어워즈 한정기획 (+3번 결광케어 키트 5종 증정)'"
      ]
     },
     "execution_count": 22,
     "metadata": {},
     "output_type": "execute_result"
    }
   ],
   "source": [
    "# pname\n",
    "driver.find_element(By.XPATH,'//*[@id=\"Contents\"]/div[2]/div[2]/div/p[2]').text"
   ]
  },
  {
   "cell_type": "code",
   "execution_count": 23,
   "id": "6e629d07-07f4-46f7-af40-a104273b176e",
   "metadata": {},
   "outputs": [
    {
     "data": {
      "text/plain": [
       "'32,000\\n원\\n23,000\\n원\\n혜택 정보'"
      ]
     },
     "execution_count": 23,
     "metadata": {},
     "output_type": "execute_result"
    }
   ],
   "source": [
    "# price\n",
    "driver.find_element(By.XPATH,'//*[@id=\"Contents\"]/div[2]/div[2]/div/div[1]').text"
   ]
  },
  {
   "cell_type": "code",
   "execution_count": 24,
   "id": "476958b6-4b8e-4b1d-96c6-f6e4fdbfd5aa",
   "metadata": {},
   "outputs": [
    {
     "data": {
      "text/plain": [
       "'고객 리뷰\\n4.7 (6,052건)'"
      ]
     },
     "execution_count": 24,
     "metadata": {},
     "output_type": "execute_result"
    }
   ],
   "source": [
    "# star\n",
    "driver.find_element(By.XPATH,'//*[@id=\"repReview\"]').text"
   ]
  },
  {
   "cell_type": "code",
   "execution_count": null,
   "id": "f5ddaf8d-f375-40aa-8b11-1e0dd4a643f3",
   "metadata": {},
   "outputs": [],
   "source": [
    "# 페이지 이동\n",
    "driver.find_element(By.XPATH,f'//*[@id=\"reviewInfo\"]/a').click()"
   ]
  },
  {
   "cell_type": "code",
   "execution_count": 36,
   "id": "be38d1c4-4f92-45b9-9bd9-8ea09c6181cd",
   "metadata": {},
   "outputs": [
    {
     "data": {
      "text/plain": [
       "'5점만점에 5점'"
      ]
     },
     "execution_count": 36,
     "metadata": {},
     "output_type": "execute_result"
    }
   ],
   "source": [
    "# rstar\n",
    "driver.find_element(By.XPATH,'//*[@id=\"gdasList\"]/li[1]/div[2]/div[1]/span[1]/span').text"
   ]
  },
  {
   "cell_type": "code",
   "execution_count": 37,
   "id": "600f481a-785c-4598-9cfd-3676b2778d82",
   "metadata": {},
   "outputs": [
    {
     "data": {
      "text/plain": [
       "'피부타입\\n복합성에 좋아요\\n피부고민\\n보습에 좋아요\\n자극도\\n자극없이 순해요'"
      ]
     },
     "execution_count": 37,
     "metadata": {},
     "output_type": "execute_result"
    }
   ],
   "source": [
    "# rkeyword\n",
    "driver.find_element(By.XPATH,'//*[@id=\"gdasList\"]/li[1]/div[2]/div[2]').text"
   ]
  },
  {
   "cell_type": "code",
   "execution_count": 38,
   "id": "ebb9b854-6ad5-42da-ab43-93c8c2251aec",
   "metadata": {},
   "outputs": [
    {
     "data": {
      "text/plain": [
       "'✨ 재구매 6통 중인 토너입니댱 ! 워낙 넘버즈인이 스킨케어로  유명해서 뭐 더 설명할 것도 없지만!!! 그중에서도 3번 결광토너는 진짜 젤 유명한데 다 그 이유가 있습니당\\n\\n▪️ 제형\\n제형이 완전 워터 제형은 아니고 살짝 콧물 50퍼센트 정도 들어간 콧물 제형이예요 그래서 닦토 보다는 흡토 할때 써주기 좋은 제형입니당 촉촉하고 좋아요 !\\n\\n▪️향\\n향이 은근 있는 토너예욤 저는 향에 민감한 편은 아니라서 괜찮았는데 나는 향에 민감하다 하시는 분들은 테스터를 해보시는걸 추천합니당 !\\n\\n▪️ 추천하는 피부 타입\\n저는 여름엔 티존엔 유분기가 도는 복합성 타입인데 넘 잘 사용하고 있어요 건성이신분들도 건조하지 않게 잘 사용하실수 있을것 같아요 :) 완전 악지성만 아니라면 완전 강추\\n\\n▪️ 효과\\n3번 토너를 꾸준히 사용하면 피부결이 보들보들 해지는게 느껴지더라구요 속건조 잡을때도 좋고 피부가 거칠거칠 하다 ! 하시는 분들은 한번 사용해보셨음 좋겠어용'"
      ]
     },
     "execution_count": 38,
     "metadata": {},
     "output_type": "execute_result"
    }
   ],
   "source": [
    "# rtext\n",
    "driver.find_element(By.XPATH,'//*[@id=\"gdasList\"]/li[1]/div[2]/div[3]').text"
   ]
  },
  {
   "cell_type": "code",
   "execution_count": 39,
   "id": "b6c391fc-42b6-4b46-98f6-e9838e2b3dc7",
   "metadata": {},
   "outputs": [],
   "source": [
    "# 한사람의 리뷰 내용만 리스트로 만들기\n",
    "rstar = driver.find_element(By.XPATH,'//*[@id=\"gdasList\"]/li[1]/div[2]/div[1]/span[1]/span').text\n",
    "rkeyword = driver.find_element(By.XPATH,'//*[@id=\"gdasList\"]/li[1]/div[2]/div[2]').text\n",
    "rtext = driver.find_element(By.XPATH,'//*[@id=\"gdasList\"]/li[1]/div[2]/div[3]').text\n",
    "review = [rstar, rkeyword, rtext]"
   ]
  },
  {
   "cell_type": "code",
   "execution_count": 41,
   "id": "8617e334-e9a4-4c65-97fe-b599ae876ca2",
   "metadata": {},
   "outputs": [
    {
     "name": "stdout",
     "output_type": "stream",
     "text": [
      "['5점만점에 5점', '피부타입\\n복합성에 좋아요\\n피부고민\\n보습에 좋아요\\n자극도\\n자극없이 순해요', '✨ 재구매 6통 중인 토너입니댱 ! 워낙 넘버즈인이 스킨케어로  유명해서 뭐 더 설명할 것도 없지만!!! 그중에서도 3번 결광토너는 진짜 젤 유명한데 다 그 이유가 있습니당\\n\\n▪️ 제형\\n제형이 완전 워터 제형은 아니고 살짝 콧물 50퍼센트 정도 들어간 콧물 제형이예요 그래서 닦토 보다는 흡토 할때 써주기 좋은 제형입니당 촉촉하고 좋아요 !\\n\\n▪️향\\n향이 은근 있는 토너예욤 저는 향에 민감한 편은 아니라서 괜찮았는데 나는 향에 민감하다 하시는 분들은 테스터를 해보시는걸 추천합니당 !\\n\\n▪️ 추천하는 피부 타입\\n저는 여름엔 티존엔 유분기가 도는 복합성 타입인데 넘 잘 사용하고 있어요 건성이신분들도 건조하지 않게 잘 사용하실수 있을것 같아요 :) 완전 악지성만 아니라면 완전 강추\\n\\n▪️ 효과\\n3번 토너를 꾸준히 사용하면 피부결이 보들보들 해지는게 느껴지더라구요 속건조 잡을때도 좋고 피부가 거칠거칠 하다 ! 하시는 분들은 한번 사용해보셨음 좋겠어용']\n"
     ]
    }
   ],
   "source": [
    "print([rstar, rkeyword, rtext])"
   ]
  },
  {
   "cell_type": "code",
   "execution_count": 43,
   "id": "437a8d7e-f268-4d66-8112-4de25d563009",
   "metadata": {},
   "outputs": [],
   "source": [
    "# 리뷰를 2중 리스트로 \n",
    "review = []\n",
    "for i in range(1,6):\n",
    "    rstar = driver.find_element(By.XPATH,f'//*[@id=\"gdasList\"]/li[{i}]/div[2]/div[1]/span[1]/span').text\n",
    "    rkeyword = driver.find_element(By.XPATH,f'//*[@id=\"gdasList\"]/li[{i}]/div[2]/div[2]').text\n",
    "    rtext = driver.find_element(By.XPATH,f'//*[@id=\"gdasList\"]/li[{i}]/div[2]/div[3]').text\n",
    "    review.append([rstar, rkeyword, rtext])"
   ]
  },
  {
   "cell_type": "code",
   "execution_count": 44,
   "id": "24c29264-6c03-4e74-adaf-fb2e0e9a1a9e",
   "metadata": {},
   "outputs": [
    {
     "data": {
      "text/plain": [
       "[['5점만점에 5점',\n",
       "  '피부타입\\n복합성에 좋아요\\n피부고민\\n보습에 좋아요\\n자극도\\n자극없이 순해요',\n",
       "  '✨ 재구매 6통 중인 토너입니댱 ! 워낙 넘버즈인이 스킨케어로  유명해서 뭐 더 설명할 것도 없지만!!! 그중에서도 3번 결광토너는 진짜 젤 유명한데 다 그 이유가 있습니당\\n\\n▪️ 제형\\n제형이 완전 워터 제형은 아니고 살짝 콧물 50퍼센트 정도 들어간 콧물 제형이예요 그래서 닦토 보다는 흡토 할때 써주기 좋은 제형입니당 촉촉하고 좋아요 !\\n\\n▪️향\\n향이 은근 있는 토너예욤 저는 향에 민감한 편은 아니라서 괜찮았는데 나는 향에 민감하다 하시는 분들은 테스터를 해보시는걸 추천합니당 !\\n\\n▪️ 추천하는 피부 타입\\n저는 여름엔 티존엔 유분기가 도는 복합성 타입인데 넘 잘 사용하고 있어요 건성이신분들도 건조하지 않게 잘 사용하실수 있을것 같아요 :) 완전 악지성만 아니라면 완전 강추\\n\\n▪️ 효과\\n3번 토너를 꾸준히 사용하면 피부결이 보들보들 해지는게 느껴지더라구요 속건조 잡을때도 좋고 피부가 거칠거칠 하다 ! 하시는 분들은 한번 사용해보셨음 좋겠어용'],\n",
       " ['5점만점에 5점',\n",
       "  '피부타입\\n건성에 좋아요\\n피부고민\\n보습에 좋아요\\n자극도\\n자극없이 순해요',\n",
       "  '겨울철이라 피부결 관리를 하고 싶어서 이전에 패드기획전 때부터 사보고 싶었던 넘버즈인 3번 제품을 픽!\\n이번 올영어워즈 기회에 유명한 토너를 구매해봤습니다. 기대됩니다.\\n후르디아 바디로션과 향이 비슷해요.\\n흐르는 물토너 제형이 아니고 약간 점성이 있는데 부드럽고 촉촉해요.'],\n",
       " ['5점만점에 5점',\n",
       "  '피부타입\\n건성에 좋아요\\n피부고민\\n보습에 좋아요\\n자극도\\n자극없이 순해요',\n",
       "  '항상 믿고 쓰는 넘버즈원 결광토너!!\\n지난 여름 좀 더 가벼운 찰떡토너를 썼었는데 아직 남아있어서 계속 사용중이였거든요.\\n근데 기초관리를 아무리 해줘도 피부가 당기길래 다시 3번 결광토너로 돌아왔어요...\\n역시 가을, 겨울에 사용하기 좋은 너란 녀석..\\n내가 늦었지..? 널 다시 만나고 피부가 당기지 않아 너무 행복하구나🥺🥺🥺\\n\\n여튼 그렇게 돌아왔는데 아니.. 대용량이라니요...?\\n고객의 심리를 이렇게 잘 알아주시다니 너무 좋다구요!!!\\n냅다 대용량으로 질러버렸쟈냐🤍🤍🤍\\n\\n보습 잘되는 3번 결광토너 다들 지금 꼭 사세요.\\n저 수부지에 민감 피부인데 이건 트러블 1도 안나서 정착했던 토너에요.\\n\\n요즘 같은 겨울에 사용하기 완전 좋아요.\\n일단 화장이 잘 먹는다는 부분에서 굿굿'],\n",
       " ['5점만점에 5점',\n",
       "  '피부타입\\n건성에 좋아요\\n피부고민\\n보습에 좋아요\\n자극도\\n자극없이 순해요',\n",
       "  '💛 넘버즈인 3번 토너 후기 💛\\n\\n결광토너라는 이름에 걸맞게 피부 속부터 은은하게 윤광이 돌고 피부결 개선에 큰 도움이 된 제품이였어요'],\n",
       " ['5점만점에 5점',\n",
       "  '피부타입\\n복합성에 좋아요\\n피부고민\\n주름/미백에 좋아요\\n자극도\\n자극없이 순해요',\n",
       "  '넘버즈인 3번 토너 또는 3번 결세럼 가득 만들었다는 글 많이 봤었거든요?😄 그래서 처음엔 토너 뭐 별거 있나 하는 생각에 세럼이지!!하는 마음에 결세럼 주문 완료했었어요. 그런데,, 뭔가 토너가 계속 밟혀서 결세럼 취소하고 토너를 구매하게 되었습니다.\\n\\n결과적으로 아주~~ 아주~~ 잘한 선택이었어요ㅠㅠ💜\\n\\n📍 구매이유 : 결 정리 밑 모공 관리되는 것 같다는 글이 하도 많이 보여서ㅎㅎ 속는 셈 치고 구매하게 됨\\n\\n📍 장점 : 진짜 피부 결이 맑아지고 결이 정리되고, 모공이 늘어나지 않고 잘 관리되는 것 같이 느껴집니다..!\\n+ 수분감도 가득채워져요!\\n(사진 보시면 아시겠지만, 아직 반도 비운 지 않았는데, 이걸 느끼고 있다면 한병 다 비웠을 땐 어떨지 기대가 됩니다)\\n\\n📍사용법 : 닦토 안하고 저는 그냥 손바닥에 토너 두고 얼굴에 찹찹 발라요!! 이걸 세번 반복합니다!!!!!! \\n\\n📍제형 : 물 제형은 아닙니다! 약간 묽은 듯하지만 물 제형은 아닌.. 그런 제형ㅎㅎ\\n\\n📍향 : 발효성분 많아서 그런가 뭔가… 향이 특이하고 강해요. 그런데 막 인위적으로 머리 아픈 향은 아니라 저는 괜찮았어요!']]"
      ]
     },
     "execution_count": 44,
     "metadata": {},
     "output_type": "execute_result"
    }
   ],
   "source": [
    "review"
   ]
  },
  {
   "cell_type": "code",
   "execution_count": 47,
   "id": "897dc2d9-df12-40de-8a00-8a6703e8db9f",
   "metadata": {},
   "outputs": [
    {
     "name": "stdout",
     "output_type": "stream",
     "text": [
      "넘버즈인 [대용량+미니어처] 넘버즈인 3번 결광가득 에센스 토너 300ml 어워즈 한정기획 (+3번 결광케어 키트 5종 증정) 32,000\n",
      "원\n",
      "23,000\n",
      "원\n",
      "혜택 정보 고객 리뷰\n",
      "4.7 (6,052건) [['5점만점에 5점', '피부타입\\n복합성에 좋아요\\n피부고민\\n보습에 좋아요\\n자극도\\n자극없이 순해요', '✨ 재구매 6통 중인 토너입니댱 ! 워낙 넘버즈인이 스킨케어로  유명해서 뭐 더 설명할 것도 없지만!!! 그중에서도 3번 결광토너는 진짜 젤 유명한데 다 그 이유가 있습니당\\n\\n▪️ 제형\\n제형이 완전 워터 제형은 아니고 살짝 콧물 50퍼센트 정도 들어간 콧물 제형이예요 그래서 닦토 보다는 흡토 할때 써주기 좋은 제형입니당 촉촉하고 좋아요 !\\n\\n▪️향\\n향이 은근 있는 토너예욤 저는 향에 민감한 편은 아니라서 괜찮았는데 나는 향에 민감하다 하시는 분들은 테스터를 해보시는걸 추천합니당 !\\n\\n▪️ 추천하는 피부 타입\\n저는 여름엔 티존엔 유분기가 도는 복합성 타입인데 넘 잘 사용하고 있어요 건성이신분들도 건조하지 않게 잘 사용하실수 있을것 같아요 :) 완전 악지성만 아니라면 완전 강추\\n\\n▪️ 효과\\n3번 토너를 꾸준히 사용하면 피부결이 보들보들 해지는게 느껴지더라구요 속건조 잡을때도 좋고 피부가 거칠거칠 하다 ! 하시는 분들은 한번 사용해보셨음 좋겠어용'], ['5점만점에 5점', '피부타입\\n건성에 좋아요\\n피부고민\\n보습에 좋아요\\n자극도\\n자극없이 순해요', '겨울철이라 피부결 관리를 하고 싶어서 이전에 패드기획전 때부터 사보고 싶었던 넘버즈인 3번 제품을 픽!\\n이번 올영어워즈 기회에 유명한 토너를 구매해봤습니다. 기대됩니다.\\n후르디아 바디로션과 향이 비슷해요.\\n흐르는 물토너 제형이 아니고 약간 점성이 있는데 부드럽고 촉촉해요.'], ['5점만점에 5점', '피부타입\\n건성에 좋아요\\n피부고민\\n보습에 좋아요\\n자극도\\n자극없이 순해요', '항상 믿고 쓰는 넘버즈원 결광토너!!\\n지난 여름 좀 더 가벼운 찰떡토너를 썼었는데 아직 남아있어서 계속 사용중이였거든요.\\n근데 기초관리를 아무리 해줘도 피부가 당기길래 다시 3번 결광토너로 돌아왔어요...\\n역시 가을, 겨울에 사용하기 좋은 너란 녀석..\\n내가 늦었지..? 널 다시 만나고 피부가 당기지 않아 너무 행복하구나🥺🥺🥺\\n\\n여튼 그렇게 돌아왔는데 아니.. 대용량이라니요...?\\n고객의 심리를 이렇게 잘 알아주시다니 너무 좋다구요!!!\\n냅다 대용량으로 질러버렸쟈냐🤍🤍🤍\\n\\n보습 잘되는 3번 결광토너 다들 지금 꼭 사세요.\\n저 수부지에 민감 피부인데 이건 트러블 1도 안나서 정착했던 토너에요.\\n\\n요즘 같은 겨울에 사용하기 완전 좋아요.\\n일단 화장이 잘 먹는다는 부분에서 굿굿'], ['5점만점에 5점', '피부타입\\n건성에 좋아요\\n피부고민\\n보습에 좋아요\\n자극도\\n자극없이 순해요', '💛 넘버즈인 3번 토너 후기 💛\\n\\n결광토너라는 이름에 걸맞게 피부 속부터 은은하게 윤광이 돌고 피부결 개선에 큰 도움이 된 제품이였어요'], ['5점만점에 5점', '피부타입\\n복합성에 좋아요\\n피부고민\\n주름/미백에 좋아요\\n자극도\\n자극없이 순해요', '넘버즈인 3번 토너 또는 3번 결세럼 가득 만들었다는 글 많이 봤었거든요?😄 그래서 처음엔 토너 뭐 별거 있나 하는 생각에 세럼이지!!하는 마음에 결세럼 주문 완료했었어요. 그런데,, 뭔가 토너가 계속 밟혀서 결세럼 취소하고 토너를 구매하게 되었습니다.\\n\\n결과적으로 아주~~ 아주~~ 잘한 선택이었어요ㅠㅠ💜\\n\\n📍 구매이유 : 결 정리 밑 모공 관리되는 것 같다는 글이 하도 많이 보여서ㅎㅎ 속는 셈 치고 구매하게 됨\\n\\n📍 장점 : 진짜 피부 결이 맑아지고 결이 정리되고, 모공이 늘어나지 않고 잘 관리되는 것 같이 느껴집니다..!\\n+ 수분감도 가득채워져요!\\n(사진 보시면 아시겠지만, 아직 반도 비운 지 않았는데, 이걸 느끼고 있다면 한병 다 비웠을 땐 어떨지 기대가 됩니다)\\n\\n📍사용법 : 닦토 안하고 저는 그냥 손바닥에 토너 두고 얼굴에 찹찹 발라요!! 이걸 세번 반복합니다!!!!!! \\n\\n📍제형 : 물 제형은 아닙니다! 약간 묽은 듯하지만 물 제형은 아닌.. 그런 제형ㅎㅎ\\n\\n📍향 : 발효성분 많아서 그런가 뭔가… 향이 특이하고 강해요. 그런데 막 인위적으로 머리 아픈 향은 아니라 저는 괜찮았어요!']]\n"
     ]
    }
   ],
   "source": [
    "# 하나의 상품을 한번에 출력시키는 구문 정리\n",
    "brand = driver.find_element(By.XPATH,'//*[@id=\"Contents\"]/div[2]/div[2]/div/p[1]').text\n",
    "pname = driver.find_element(By.XPATH,'//*[@id=\"Contents\"]/div[2]/div[2]/div/p[2]').text\n",
    "price = driver.find_element(By.XPATH,'//*[@id=\"Contents\"]/div[2]/div[2]/div/div[1]').text\n",
    "star = driver.find_element(By.XPATH,'//*[@id=\"repReview\"]').text\n",
    "review = []\n",
    "for i in range(1,6):\n",
    "    rstar = driver.find_element(By.XPATH,f'//*[@id=\"gdasList\"]/li[{i}]/div[2]/div[1]/span[1]/span').text\n",
    "    rkeyword = driver.find_element(By.XPATH,f'//*[@id=\"gdasList\"]/li[{i}]/div[2]/div[2]').text\n",
    "    rtext = driver.find_element(By.XPATH,f'//*[@id=\"gdasList\"]/li[{i}]/div[2]/div[3]').text\n",
    "    review.append([rstar, rkeyword, rtext])\n",
    "print(brand, pname, price, star, review)"
   ]
  },
  {
   "cell_type": "code",
   "execution_count": 51,
   "id": "69dbdb4d-1237-4d36-9acc-cf9b28172e91",
   "metadata": {},
   "outputs": [],
   "source": [
    "# driver 설정\n",
    "URL = 'https://www.oliveyoung.co.kr/store/display/getMCategoryList.do?dispCatNo=100000100010008&isLoginCnt=0&aShowCnt=0&bShowCnt=0&cShowCnt=0&gateCd=Drawer&trackingCd=Cat100000100010008_MID'\n",
    "ops = webdriver.ChromeOptions()\n",
    "ops.add_experimental_option('excludeSwitches', ['enable-logging'])\n",
    "\n",
    "sv = Service(executable_path= 'C:\\\\Users\\\\admin\\\\Downloads\\\\chroemdriver')\n",
    "driver = webdriver.Chrome(service=sv, options=ops)\n",
    "\n",
    "driver.get(url=URL)"
   ]
  },
  {
   "cell_type": "code",
   "execution_count": 52,
   "id": "4ac714ef-0bf6-4778-a0f4-ac2cd9096b4a",
   "metadata": {},
   "outputs": [
    {
     "ename": "NoSuchElementException",
     "evalue": "Message: no such element: Unable to locate element: {\"method\":\"xpath\",\"selector\":\"//*[@id=\"gdasList\"]/li[1]/div[2]/div[1]/span[1]/span\"}\n  (Session info: chrome=109.0.5414.75)\nStacktrace:\nBacktrace:\n\t(No symbol) [0x004C6643]\n\t(No symbol) [0x0045BE21]\n\t(No symbol) [0x0035DA9D]\n\t(No symbol) [0x00391342]\n\t(No symbol) [0x0039147B]\n\t(No symbol) [0x003C8DC2]\n\t(No symbol) [0x003AFDC4]\n\t(No symbol) [0x003C6B09]\n\t(No symbol) [0x003AFB76]\n\t(No symbol) [0x003849C1]\n\t(No symbol) [0x00385E5D]\n\tGetHandleVerifier [0x0073A142+2497106]\n\tGetHandleVerifier [0x007685D3+2686691]\n\tGetHandleVerifier [0x0076BB9C+2700460]\n\tGetHandleVerifier [0x00573B10+635936]\n\t(No symbol) [0x00464A1F]\n\t(No symbol) [0x0046A418]\n\t(No symbol) [0x0046A505]\n\t(No symbol) [0x0047508B]\n\tBaseThreadInitThunk [0x776400F9+25]\n\tRtlGetAppContainerNamedObjectPath [0x779E7BBE+286]\n\tRtlGetAppContainerNamedObjectPath [0x779E7B8E+238]\n",
     "output_type": "error",
     "traceback": [
      "\u001b[1;31m---------------------------------------------------------------------------\u001b[0m",
      "\u001b[1;31mNoSuchElementException\u001b[0m                    Traceback (most recent call last)",
      "\u001b[1;32m~\\AppData\\Local\\Temp/ipykernel_7592/4153385551.py\u001b[0m in \u001b[0;36m<module>\u001b[1;34m\u001b[0m\n\u001b[0;32m      8\u001b[0m     \u001b[0mdriver\u001b[0m\u001b[1;33m.\u001b[0m\u001b[0mfind_element\u001b[0m\u001b[1;33m(\u001b[0m\u001b[0mBy\u001b[0m\u001b[1;33m.\u001b[0m\u001b[0mXPATH\u001b[0m\u001b[1;33m,\u001b[0m\u001b[1;34mf'//*[@id=\"reviewInfo\"]/a'\u001b[0m\u001b[1;33m)\u001b[0m\u001b[1;33m.\u001b[0m\u001b[0mclick\u001b[0m\u001b[1;33m(\u001b[0m\u001b[1;33m)\u001b[0m\u001b[1;33m\u001b[0m\u001b[1;33m\u001b[0m\u001b[0m\n\u001b[0;32m      9\u001b[0m     \u001b[1;32mfor\u001b[0m \u001b[0mi\u001b[0m \u001b[1;32min\u001b[0m \u001b[0mrange\u001b[0m\u001b[1;33m(\u001b[0m\u001b[1;36m1\u001b[0m\u001b[1;33m,\u001b[0m\u001b[1;36m6\u001b[0m\u001b[1;33m)\u001b[0m\u001b[1;33m:\u001b[0m\u001b[1;33m\u001b[0m\u001b[1;33m\u001b[0m\u001b[0m\n\u001b[1;32m---> 10\u001b[1;33m         \u001b[0mrstar\u001b[0m \u001b[1;33m=\u001b[0m \u001b[0mdriver\u001b[0m\u001b[1;33m.\u001b[0m\u001b[0mfind_element\u001b[0m\u001b[1;33m(\u001b[0m\u001b[0mBy\u001b[0m\u001b[1;33m.\u001b[0m\u001b[0mXPATH\u001b[0m\u001b[1;33m,\u001b[0m\u001b[1;34mf'//*[@id=\"gdasList\"]/li[{i}]/div[2]/div[1]/span[1]/span'\u001b[0m\u001b[1;33m)\u001b[0m\u001b[1;33m.\u001b[0m\u001b[0mtext\u001b[0m\u001b[1;33m\u001b[0m\u001b[1;33m\u001b[0m\u001b[0m\n\u001b[0m\u001b[0;32m     11\u001b[0m         \u001b[0mrkeyword\u001b[0m \u001b[1;33m=\u001b[0m \u001b[0mdriver\u001b[0m\u001b[1;33m.\u001b[0m\u001b[0mfind_element\u001b[0m\u001b[1;33m(\u001b[0m\u001b[0mBy\u001b[0m\u001b[1;33m.\u001b[0m\u001b[0mXPATH\u001b[0m\u001b[1;33m,\u001b[0m\u001b[1;34mf'//*[@id=\"gdasList\"]/li[{i}]/div[2]/div[2]'\u001b[0m\u001b[1;33m)\u001b[0m\u001b[1;33m.\u001b[0m\u001b[0mtext\u001b[0m\u001b[1;33m\u001b[0m\u001b[1;33m\u001b[0m\u001b[0m\n\u001b[0;32m     12\u001b[0m         \u001b[0mrtext\u001b[0m \u001b[1;33m=\u001b[0m \u001b[0mdriver\u001b[0m\u001b[1;33m.\u001b[0m\u001b[0mfind_element\u001b[0m\u001b[1;33m(\u001b[0m\u001b[0mBy\u001b[0m\u001b[1;33m.\u001b[0m\u001b[0mXPATH\u001b[0m\u001b[1;33m,\u001b[0m\u001b[1;34mf'//*[@id=\"gdasList\"]/li[{i}]/div[2]/div[3]'\u001b[0m\u001b[1;33m)\u001b[0m\u001b[1;33m.\u001b[0m\u001b[0mtext\u001b[0m\u001b[1;33m\u001b[0m\u001b[1;33m\u001b[0m\u001b[0m\n",
      "\u001b[1;32mC:\\Anaconda3\\lib\\site-packages\\selenium\\webdriver\\remote\\webdriver.py\u001b[0m in \u001b[0;36mfind_element\u001b[1;34m(self, by, value)\u001b[0m\n\u001b[0;32m    859\u001b[0m             \u001b[0mvalue\u001b[0m \u001b[1;33m=\u001b[0m \u001b[1;34m'[name=\"%s\"]'\u001b[0m \u001b[1;33m%\u001b[0m \u001b[0mvalue\u001b[0m\u001b[1;33m\u001b[0m\u001b[1;33m\u001b[0m\u001b[0m\n\u001b[0;32m    860\u001b[0m \u001b[1;33m\u001b[0m\u001b[0m\n\u001b[1;32m--> 861\u001b[1;33m         \u001b[1;32mreturn\u001b[0m \u001b[0mself\u001b[0m\u001b[1;33m.\u001b[0m\u001b[0mexecute\u001b[0m\u001b[1;33m(\u001b[0m\u001b[0mCommand\u001b[0m\u001b[1;33m.\u001b[0m\u001b[0mFIND_ELEMENT\u001b[0m\u001b[1;33m,\u001b[0m \u001b[1;33m{\u001b[0m\u001b[1;34m\"using\"\u001b[0m\u001b[1;33m:\u001b[0m \u001b[0mby\u001b[0m\u001b[1;33m,\u001b[0m \u001b[1;34m\"value\"\u001b[0m\u001b[1;33m:\u001b[0m \u001b[0mvalue\u001b[0m\u001b[1;33m}\u001b[0m\u001b[1;33m)\u001b[0m\u001b[1;33m[\u001b[0m\u001b[1;34m\"value\"\u001b[0m\u001b[1;33m]\u001b[0m\u001b[1;33m\u001b[0m\u001b[1;33m\u001b[0m\u001b[0m\n\u001b[0m\u001b[0;32m    862\u001b[0m \u001b[1;33m\u001b[0m\u001b[0m\n\u001b[0;32m    863\u001b[0m     \u001b[1;32mdef\u001b[0m \u001b[0mfind_elements\u001b[0m\u001b[1;33m(\u001b[0m\u001b[0mself\u001b[0m\u001b[1;33m,\u001b[0m \u001b[0mby\u001b[0m\u001b[1;33m=\u001b[0m\u001b[0mBy\u001b[0m\u001b[1;33m.\u001b[0m\u001b[0mID\u001b[0m\u001b[1;33m,\u001b[0m \u001b[0mvalue\u001b[0m\u001b[1;33m:\u001b[0m \u001b[0mOptional\u001b[0m\u001b[1;33m[\u001b[0m\u001b[0mstr\u001b[0m\u001b[1;33m]\u001b[0m \u001b[1;33m=\u001b[0m \u001b[1;32mNone\u001b[0m\u001b[1;33m)\u001b[0m \u001b[1;33m->\u001b[0m \u001b[0mList\u001b[0m\u001b[1;33m[\u001b[0m\u001b[0mWebElement\u001b[0m\u001b[1;33m]\u001b[0m\u001b[1;33m:\u001b[0m\u001b[1;33m\u001b[0m\u001b[1;33m\u001b[0m\u001b[0m\n",
      "\u001b[1;32mC:\\Anaconda3\\lib\\site-packages\\selenium\\webdriver\\remote\\webdriver.py\u001b[0m in \u001b[0;36mexecute\u001b[1;34m(self, driver_command, params)\u001b[0m\n\u001b[0;32m    442\u001b[0m         \u001b[0mresponse\u001b[0m \u001b[1;33m=\u001b[0m \u001b[0mself\u001b[0m\u001b[1;33m.\u001b[0m\u001b[0mcommand_executor\u001b[0m\u001b[1;33m.\u001b[0m\u001b[0mexecute\u001b[0m\u001b[1;33m(\u001b[0m\u001b[0mdriver_command\u001b[0m\u001b[1;33m,\u001b[0m \u001b[0mparams\u001b[0m\u001b[1;33m)\u001b[0m\u001b[1;33m\u001b[0m\u001b[1;33m\u001b[0m\u001b[0m\n\u001b[0;32m    443\u001b[0m         \u001b[1;32mif\u001b[0m \u001b[0mresponse\u001b[0m\u001b[1;33m:\u001b[0m\u001b[1;33m\u001b[0m\u001b[1;33m\u001b[0m\u001b[0m\n\u001b[1;32m--> 444\u001b[1;33m             \u001b[0mself\u001b[0m\u001b[1;33m.\u001b[0m\u001b[0merror_handler\u001b[0m\u001b[1;33m.\u001b[0m\u001b[0mcheck_response\u001b[0m\u001b[1;33m(\u001b[0m\u001b[0mresponse\u001b[0m\u001b[1;33m)\u001b[0m\u001b[1;33m\u001b[0m\u001b[1;33m\u001b[0m\u001b[0m\n\u001b[0m\u001b[0;32m    445\u001b[0m             \u001b[0mresponse\u001b[0m\u001b[1;33m[\u001b[0m\u001b[1;34m\"value\"\u001b[0m\u001b[1;33m]\u001b[0m \u001b[1;33m=\u001b[0m \u001b[0mself\u001b[0m\u001b[1;33m.\u001b[0m\u001b[0m_unwrap_value\u001b[0m\u001b[1;33m(\u001b[0m\u001b[0mresponse\u001b[0m\u001b[1;33m.\u001b[0m\u001b[0mget\u001b[0m\u001b[1;33m(\u001b[0m\u001b[1;34m\"value\"\u001b[0m\u001b[1;33m,\u001b[0m \u001b[1;32mNone\u001b[0m\u001b[1;33m)\u001b[0m\u001b[1;33m)\u001b[0m\u001b[1;33m\u001b[0m\u001b[1;33m\u001b[0m\u001b[0m\n\u001b[0;32m    446\u001b[0m             \u001b[1;32mreturn\u001b[0m \u001b[0mresponse\u001b[0m\u001b[1;33m\u001b[0m\u001b[1;33m\u001b[0m\u001b[0m\n",
      "\u001b[1;32mC:\\Anaconda3\\lib\\site-packages\\selenium\\webdriver\\remote\\errorhandler.py\u001b[0m in \u001b[0;36mcheck_response\u001b[1;34m(self, response)\u001b[0m\n\u001b[0;32m    247\u001b[0m                 \u001b[0malert_text\u001b[0m \u001b[1;33m=\u001b[0m \u001b[0mvalue\u001b[0m\u001b[1;33m[\u001b[0m\u001b[1;34m\"alert\"\u001b[0m\u001b[1;33m]\u001b[0m\u001b[1;33m.\u001b[0m\u001b[0mget\u001b[0m\u001b[1;33m(\u001b[0m\u001b[1;34m\"text\"\u001b[0m\u001b[1;33m)\u001b[0m\u001b[1;33m\u001b[0m\u001b[1;33m\u001b[0m\u001b[0m\n\u001b[0;32m    248\u001b[0m             \u001b[1;32mraise\u001b[0m \u001b[0mexception_class\u001b[0m\u001b[1;33m(\u001b[0m\u001b[0mmessage\u001b[0m\u001b[1;33m,\u001b[0m \u001b[0mscreen\u001b[0m\u001b[1;33m,\u001b[0m \u001b[0mstacktrace\u001b[0m\u001b[1;33m,\u001b[0m \u001b[0malert_text\u001b[0m\u001b[1;33m)\u001b[0m  \u001b[1;31m# type: ignore[call-arg]  # mypy is not smart enough here\u001b[0m\u001b[1;33m\u001b[0m\u001b[1;33m\u001b[0m\u001b[0m\n\u001b[1;32m--> 249\u001b[1;33m         \u001b[1;32mraise\u001b[0m \u001b[0mexception_class\u001b[0m\u001b[1;33m(\u001b[0m\u001b[0mmessage\u001b[0m\u001b[1;33m,\u001b[0m \u001b[0mscreen\u001b[0m\u001b[1;33m,\u001b[0m \u001b[0mstacktrace\u001b[0m\u001b[1;33m)\u001b[0m\u001b[1;33m\u001b[0m\u001b[1;33m\u001b[0m\u001b[0m\n\u001b[0m",
      "\u001b[1;31mNoSuchElementException\u001b[0m: Message: no such element: Unable to locate element: {\"method\":\"xpath\",\"selector\":\"//*[@id=\"gdasList\"]/li[1]/div[2]/div[1]/span[1]/span\"}\n  (Session info: chrome=109.0.5414.75)\nStacktrace:\nBacktrace:\n\t(No symbol) [0x004C6643]\n\t(No symbol) [0x0045BE21]\n\t(No symbol) [0x0035DA9D]\n\t(No symbol) [0x00391342]\n\t(No symbol) [0x0039147B]\n\t(No symbol) [0x003C8DC2]\n\t(No symbol) [0x003AFDC4]\n\t(No symbol) [0x003C6B09]\n\t(No symbol) [0x003AFB76]\n\t(No symbol) [0x003849C1]\n\t(No symbol) [0x00385E5D]\n\tGetHandleVerifier [0x0073A142+2497106]\n\tGetHandleVerifier [0x007685D3+2686691]\n\tGetHandleVerifier [0x0076BB9C+2700460]\n\tGetHandleVerifier [0x00573B10+635936]\n\t(No symbol) [0x00464A1F]\n\t(No symbol) [0x0046A418]\n\t(No symbol) [0x0046A505]\n\t(No symbol) [0x0047508B]\n\tBaseThreadInitThunk [0x776400F9+25]\n\tRtlGetAppContainerNamedObjectPath [0x779E7BBE+286]\n\tRtlGetAppContainerNamedObjectPath [0x779E7B8E+238]\n"
     ]
    }
   ],
   "source": [
    "for i in range(1,6):\n",
    "    driver.find_element(By.XPATH,f'//*[@id=\"Contents\"]/ul[2]/li[{i}]').click()\n",
    "    brand = driver.find_element(By.XPATH,'//*[@id=\"Contents\"]/div[2]/div[2]/div/p[1]').text\n",
    "    pname = driver.find_element(By.XPATH,'//*[@id=\"Contents\"]/div[2]/div[2]/div/p[2]').text\n",
    "    price = driver.find_element(By.XPATH,'//*[@id=\"Contents\"]/div[2]/div[2]/div/div[1]').text\n",
    "    star = driver.find_element(By.XPATH,'//*[@id=\"repReview\"]').text\n",
    "    review = []\n",
    "    driver.find_element(By.XPATH,f'//*[@id=\"reviewInfo\"]/a').click()\n",
    "    for i in range(1,6):\n",
    "        rstar = driver.find_element(By.XPATH,f'//*[@id=\"gdasList\"]/li[{i}]/div[2]/div[1]/span[1]/span').text\n",
    "        rkeyword = driver.find_element(By.XPATH,f'//*[@id=\"gdasList\"]/li[{i}]/div[2]/div[2]').text\n",
    "        rtext = driver.find_element(By.XPATH,f'//*[@id=\"gdasList\"]/li[{i}]/div[2]/div[3]').text\n",
    "        review.append([rstar, rkeyword, rtext])\n",
    "    driver.back()\n",
    "    \n",
    "    print(f'__{i}예시__')\n",
    "    print(brand, pname, price, star, review)\n"
   ]
  },
  {
   "cell_type": "code",
   "execution_count": null,
   "id": "5605c340-d68d-4e94-bb13-f69bd6a4df85",
   "metadata": {},
   "outputs": [],
   "source": [
    "# 한개로 연습하기\n",
    "    driver.find_element(By.XPATH,f'//*[@id=\"Contents\"]/ul[2]/li[{i}]').click()\n",
    "    brand = driver.find_element(By.XPATH,'//*[@id=\"Contents\"]/div[2]/div[2]/div/p[1]').text\n",
    "    pname = driver.find_element(By.XPATH,'//*[@id=\"Contents\"]/div[2]/div[2]/div/p[2]').text\n",
    "    price = driver.find_element(By.XPATH,'//*[@id=\"Contents\"]/div[2]/div[2]/div/div[1]').text\n",
    "    star = driver.find_element(By.XPATH,'//*[@id=\"repReview\"]').text\n",
    "    review = []\n",
    "    driver.find_element(By.XPATH,f'//*[@id=\"reviewInfo\"]/a').click()\n",
    "    for i in range(1,6):\n",
    "        rstar = driver.find_element(By.XPATH,f'//*[@id=\"gdasList\"]/li[{i}]/div[2]/div[1]/span[1]/span').text\n",
    "        rkeyword = driver.find_element(By.XPATH,f'//*[@id=\"gdasList\"]/li[{i}]/div[2]/div[2]').text\n",
    "        rtext = driver.find_element(By.XPATH,f'//*[@id=\"gdasList\"]/li[{i}]/div[2]/div[3]').text\n",
    "        review.append([rstar, rkeyword, rtext])\n",
    "    driver.back()\n",
    "    \n",
    "    print(f'__{i}예시__')\n",
    "    print(brand, pname, price, star, review)\n"
   ]
  }
 ],
 "metadata": {
  "kernelspec": {
   "display_name": "Python 3 (ipykernel)",
   "language": "python",
   "name": "python3"
  },
  "language_info": {
   "codemirror_mode": {
    "name": "ipython",
    "version": 3
   },
   "file_extension": ".py",
   "mimetype": "text/x-python",
   "name": "python",
   "nbconvert_exporter": "python",
   "pygments_lexer": "ipython3",
   "version": "3.9.7"
  }
 },
 "nbformat": 4,
 "nbformat_minor": 5
}
