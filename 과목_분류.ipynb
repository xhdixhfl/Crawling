{
  "nbformat": 4,
  "nbformat_minor": 0,
  "metadata": {
    "colab": {
      "provenance": []
    },
    "kernelspec": {
      "name": "python3",
      "display_name": "Python 3"
    },
    "language_info": {
      "name": "python"
    }
  },
  "cells": [
    {
      "cell_type": "code",
      "source": [
        "from google.colab import drive\n",
        "drive.mount('/content/drive')"
      ],
      "metadata": {
        "colab": {
          "base_uri": "https://localhost:8080/"
        },
        "id": "Qsw4HJTP_244",
        "outputId": "8b442da0-2005-4543-dacb-cf42ddb07b02"
      },
      "execution_count": null,
      "outputs": [
        {
          "output_type": "stream",
          "name": "stdout",
          "text": [
            "Mounted at /content/drive\n"
          ]
        }
      ]
    },
    {
      "cell_type": "code",
      "execution_count": null,
      "metadata": {
        "colab": {
          "base_uri": "https://localhost:8080/"
        },
        "id": "IFAK951IYGBA",
        "outputId": "1e8b6839-52cd-41bc-a73a-8b93cca0a104"
      },
      "outputs": [
        {
          "output_type": "stream",
          "name": "stdout",
          "text": [
            "Collecting konlpy\n",
            "  Downloading konlpy-0.6.0-py2.py3-none-any.whl (19.4 MB)\n",
            "\u001b[2K     \u001b[90m━━━━━━━━━━━━━━━━━━━━━━━━━━━━━━━━━━━━━━━━\u001b[0m \u001b[32m19.4/19.4 MB\u001b[0m \u001b[31m55.5 MB/s\u001b[0m eta \u001b[36m0:00:00\u001b[0m\n",
            "\u001b[?25hCollecting JPype1>=0.7.0 (from konlpy)\n",
            "  Downloading JPype1-1.4.1-cp310-cp310-manylinux_2_12_x86_64.manylinux2010_x86_64.whl (465 kB)\n",
            "\u001b[2K     \u001b[90m━━━━━━━━━━━━━━━━━━━━━━━━━━━━━━━━━━━━━━\u001b[0m \u001b[32m465.3/465.3 kB\u001b[0m \u001b[31m41.0 MB/s\u001b[0m eta \u001b[36m0:00:00\u001b[0m\n",
            "\u001b[?25hRequirement already satisfied: lxml>=4.1.0 in /usr/local/lib/python3.10/dist-packages (from konlpy) (4.9.2)\n",
            "Requirement already satisfied: numpy>=1.6 in /usr/local/lib/python3.10/dist-packages (from konlpy) (1.22.4)\n",
            "Requirement already satisfied: packaging in /usr/local/lib/python3.10/dist-packages (from JPype1>=0.7.0->konlpy) (23.1)\n",
            "Installing collected packages: JPype1, konlpy\n",
            "Successfully installed JPype1-1.4.1 konlpy-0.6.0\n"
          ]
        }
      ],
      "source": [
        "!pip install konlpy"
      ]
    },
    {
      "cell_type": "code",
      "source": [
        "from konlpy.tag import Kkma, Okt\n",
        "import re"
      ],
      "metadata": {
        "id": "TnByz2pIYIit"
      },
      "execution_count": null,
      "outputs": []
    },
    {
      "cell_type": "code",
      "source": [
        "k = Kkma()\n",
        "o =Okt()"
      ],
      "metadata": {
        "id": "dANq7aiuYMsL"
      },
      "execution_count": null,
      "outputs": []
    },
    {
      "cell_type": "code",
      "source": [
        "import pandas as pd\n",
        "import numpy as np\n",
        "\n",
        "data = pd.read_excel('//content/drive/MyDrive/영가/police_book_data_unique.xlsx')"
      ],
      "metadata": {
        "id": "Y3ARuIkG_8zD"
      },
      "execution_count": null,
      "outputs": []
    },
    {
      "cell_type": "code",
      "source": [
        "t = data['main_title']\n",
        "r = data['book_review']\n",
        "i = data['book_info']\n",
        "c = data['isbn']"
      ],
      "metadata": {
        "id": "nVPHu6nkAOIf"
      },
      "execution_count": null,
      "outputs": []
    },
    {
      "cell_type": "code",
      "source": [
        "s = data['sub_title']"
      ],
      "metadata": {
        "id": "C6xBqRMvnYfc"
      },
      "execution_count": null,
      "outputs": []
    },
    {
      "cell_type": "code",
      "source": [
        "subject = ['형법', '헌법', '형사법', '경찰행정학', '형사소송법', '경찰학', '경찰실무']\n",
        "sub = ['형법', '헌법', '형사법', '경찰행정학', '형사소송법', '경찰학', '경찰실무', '경찰행정법','주관식', '형사소송법', '경찰실무종합', '한국사',\\\n",
        "       '영어', '세법개론', '정보보호론', '범죄학', '회계학', '시스템', '행정법', '행정학', '민법총칙', '상법총칙', '경제학', '통계학', '재정학', '시스템',\\\n",
        "       '네트워크보안', '데이터베이스론', '통신이론', '소프트웨어공학']\n",
        "\n",
        "detail = ['순경공채', '경행경채', '간부후보', '세무회계','일반','사이버','경찰승진', '경장경사', '경위', '경감', '경정', '9급', '6급','5급']"
      ],
      "metadata": {
        "id": "Fre5_QKqZTP6"
      },
      "execution_count": null,
      "outputs": []
    },
    {
      "cell_type": "code",
      "source": [
        "detail = ['순경공채', '경행경채', '간부후보', '세무회계','일반','사이버','경찰승진', '경장경사', '경위', '경감', '경정', '9급', '6급','5급', '순경','경행','경장','경사','경채','공채','간부']"
      ],
      "metadata": {
        "id": "tAHPO1ZyvenZ"
      },
      "execution_count": null,
      "outputs": []
    },
    {
      "cell_type": "code",
      "source": [
        "code, title, rsubj, rdet, isubj, idet, tsubj, sdet  = [],[],[],[],[],[],[],[]"
      ],
      "metadata": {
        "id": "aayi9kxsB8Rk"
      },
      "execution_count": null,
      "outputs": []
    },
    {
      "cell_type": "code",
      "source": [
        "#### kkms 명사\n",
        "for l in range(len(t)):\n",
        "    try:\n",
        "        if len(t[l]) > 0:\n",
        "            tit = k.nouns(t[l])\n",
        "            tt = []\n",
        "            for pl in tit:\n",
        "                if pl in sub:\n",
        "                    tt.append(pl)\n",
        "                # elif pl in detail:\n",
        "                #     ti.append(pl)\n",
        "        tsubj.append(tt)\n",
        "        # tdet.append(ti)\n",
        "    except:\n",
        "        tsubj.append(['1'])\n",
        "        # tdet.append(['1'])\n",
        "    try:\n",
        "        if len(s[l]) > 0:\n",
        "            sit = k.nouns(s[l])\n",
        "            st = []\n",
        "            for pl in sit:\n",
        "                if pl in detail:\n",
        "                    st.append(pl)\n",
        "                # elif pl in detail:\n",
        "                #     ti.append(pl)\n",
        "        sdet.append(st)\n",
        "    except:\n",
        "        # tsubj.append(['1'])\n",
        "        sdet.append(['1'])\n",
        "    try:\n",
        "        if len(r[l]) > 0:\n",
        "            rv = k.nouns(r[l])\n",
        "            rr, ri = [], []\n",
        "            for ii in rv:\n",
        "                if ii in sub:\n",
        "                    rr.append(ii)\n",
        "                elif ii in detail:\n",
        "                    ri.append(ii)\n",
        "            rsubj.append(rr)\n",
        "            rdet.append(ri)\n",
        "    except:\n",
        "        rsubj.append(['1'])\n",
        "        rdet.append(['1'])\n",
        "    try:\n",
        "        if len(i[l]) > 0:\n",
        "            intro = k.nouns(i[l])\n",
        "            inr, nri = [],[]\n",
        "            for dl in intro:\n",
        "                if dl in sub:\n",
        "                    inr.append(dl)\n",
        "                elif dl in detail:\n",
        "                    nri.append(dl)\n",
        "            isubj.append(inr)\n",
        "            idet.append(nri)\n",
        "    except:\n",
        "        isubj.append(['1'])\n",
        "        idet.append(['1'])\n",
        "    title.append(t[l])\n",
        "    code.append(c[l])\n"
      ],
      "metadata": {
        "id": "ujqFN5W9CL5Z"
      },
      "execution_count": null,
      "outputs": []
    },
    {
      "cell_type": "code",
      "source": [
        " #### kkma morphs\n",
        "for l in range(len(t)):\n",
        "    try:\n",
        "        if len(t[l]) > 0:\n",
        "            tit = k.morphs(t[l])\n",
        "            tt = []\n",
        "            for pl in tit:\n",
        "                if pl in sub:\n",
        "                    tt.append(pl)\n",
        "                # elif pl in detail:\n",
        "                #     ti.append(pl)\n",
        "        tsubj.append(list(set(tt)))\n",
        "        # tdet.append(ti)\n",
        "    except:\n",
        "        tsubj.append(['1'])\n",
        "        # tdet.append(['1'])\n",
        "    try:\n",
        "        if len(s[l]) > 0:\n",
        "            sit = k.morphs(s[l])\n",
        "            st = []\n",
        "            for pl in sit:\n",
        "                if pl in detail:\n",
        "                    st.append(pl)\n",
        "                # elif pl in detail:\n",
        "                #     ti.append(pl)\n",
        "        sdet.append(list(set(st)))\n",
        "    except:\n",
        "        # tsubj.append(['1'])\n",
        "        sdet.append(['1'])\n",
        "    try:\n",
        "        if len(r[l]) > 0:\n",
        "            rv = k.morphs(r[l])\n",
        "            rr, ri = [], []\n",
        "            for ii in rv:\n",
        "                if ii in sub:\n",
        "                    rr.append(ii)\n",
        "                elif ii in detail:\n",
        "                    ri.append(ii)\n",
        "            rsubj.append(list(set(rr)))\n",
        "            rdet.append(list(set(ri)))\n",
        "    except:\n",
        "        rsubj.append(['1'])\n",
        "        rdet.append(['1'])\n",
        "    try:\n",
        "        if len(i[l]) > 0:\n",
        "            intro = k.morphs(i[l])\n",
        "            inr, nri = [],[]\n",
        "            for dl in intro:\n",
        "                if dl in sub:\n",
        "                    inr.append(dl)\n",
        "                elif dl in detail:\n",
        "                    nri.append(dl)\n",
        "            isubj.append(list(set(inr)))\n",
        "            idet.append(list(set(nri)))\n",
        "    except:\n",
        "        isubj.append(['1'])\n",
        "        idet.append(['1'])\n",
        "    title.append(t[l])"
      ],
      "metadata": {
        "id": "CxY590-YcmMF"
      },
      "execution_count": null,
      "outputs": []
    },
    {
      "cell_type": "code",
      "source": [
        "test = {'isbn':code, '교재명':title, '과목-교재명':tsubj, '과목-서평':rsubj,'과목-소개':isubj,'시험분야-부제목':sdet, '시험분야-서평':rdet,'시험분야-소개':idet}\n",
        "test = pd.DataFrame(test)\n",
        "test.to_excel('/content/drive/MyDrive/new_kkma_n3.xlsx',encoding = 'utf-8-sig', index=False) # detail keyword add"
      ],
      "metadata": {
        "colab": {
          "base_uri": "https://localhost:8080/"
        },
        "id": "Knac2f8kKc6A",
        "outputId": "75ffa6e5-ae18-45e0-b5a7-7e5dc41b87f7"
      },
      "execution_count": null,
      "outputs": [
        {
          "output_type": "stream",
          "name": "stderr",
          "text": [
            "/usr/local/lib/python3.10/dist-packages/pandas/util/_decorators.py:211: FutureWarning: the 'encoding' keyword is deprecated and will be removed in a future version. Please take steps to stop the use of 'encoding'\n",
            "  return func(*args, **kwargs)\n"
          ]
        }
      ]
    },
    {
      "cell_type": "code",
      "source": [
        "rsubj = [clear_ls(r) for r in rsubj]\n",
        "rdet = [clear_ls(r) for r in rdet]\n",
        "isubj = [clear_ls(r) for r in isubj]\n",
        "idet = [clear_ls(r) for r in idet]\n",
        "tsubj = [clear_ls(r) for r in tsubj]\n",
        "sdet = [clear_ls(r) for r in sdet]"
      ],
      "metadata": {
        "id": "hwRjRzLZKbgJ"
      },
      "execution_count": null,
      "outputs": []
    },
    {
      "cell_type": "code",
      "source": [
        "test = {'교재명':title, '과목-교재명':tsubj, '과목-서평':rsubj,'과목-소개':isubj,'시험분야-부제목':sdet, '시험분야-서평':rdet,'시험분야-소개':idet}\n",
        "test = pd.DataFrame(test)\n",
        "test.to_excel('/content/drive/MyDrive/new_kkma_m.xlsx',encoding = 'utf-8-sig', index=False)"
      ],
      "metadata": {
        "colab": {
          "base_uri": "https://localhost:8080/"
        },
        "id": "EIo6VexMc3gB",
        "outputId": "2afa230d-7db0-4454-9508-f2ad52361672"
      },
      "execution_count": null,
      "outputs": [
        {
          "output_type": "stream",
          "name": "stderr",
          "text": [
            "/usr/local/lib/python3.10/dist-packages/pandas/util/_decorators.py:211: FutureWarning: the 'encoding' keyword is deprecated and will be removed in a future version. Please take steps to stop the use of 'encoding'\n",
            "  return func(*args, **kwargs)\n"
          ]
        }
      ]
    },
    {
      "cell_type": "code",
      "source": [
        "# for l in range(len(t)):\n",
        "#     try:\n",
        "#         if len(t[l]) > 0:\n",
        "#             p = k.nouns(t[l])\n",
        "#             pp, pi = []  # 튜플은 값 추가가 안되잖아\n",
        "#             for pl in p:\n",
        "#                 if pl in sub:\n",
        "#                     pp.append(pl)\n",
        "#                 elif pl in detail: # 이건 저장 제외\n",
        "#                     pi.append(pl)\n",
        "#         tsubj.append(pp)\n",
        "#         tdet.append(pi)\n",
        "#     except:\n",
        "#         tsubj.append(1)\n",
        "#         tdet.append(1)\n",
        "#     try:\n",
        "#         if len(r[l]) > 0:\n",
        "#             s = k.nouns(r[l])\n",
        "#             ss, si = (), ()\n",
        "#             for ii in s:\n",
        "#                 if ii in sub:\n",
        "#                     ss.append(ii)\n",
        "#                 elif ii in detail:\n",
        "#                     si.append(ii)\n",
        "#             rsubj.append(ss)\n",
        "#             rdet.append(si)\n",
        "#     except:\n",
        "#         rsubj.append(1)\n",
        "#         rdet.append(1)\n",
        "#     try:\n",
        "#         if len(i[l]) > 0:\n",
        "#             d = k.nouns(i[l])\n",
        "#             dd, di = (), ()\n",
        "#             for dl in d:\n",
        "#                 if dl in sub:\n",
        "#                     dd.append(dl)\n",
        "#                 elif dl in detail:\n",
        "#                     di.append(dl)\n",
        "#             isubj.append(dd)\n",
        "#             idet.append(di)\n",
        "#     except:\n",
        "#         isubj.append(1)\n",
        "#         idet.append(1)\n",
        "#     title.append(t[l])\n"
      ],
      "metadata": {
        "id": "Or3CHaulVL4H"
      },
      "execution_count": null,
      "outputs": []
    },
    {
      "cell_type": "code",
      "source": [
        "ls = ['ekji', 'fiejfi']\n",
        "ls = [clear_ls(l) for l in ls]\n",
        "ls"
      ],
      "metadata": {
        "colab": {
          "base_uri": "https://localhost:8080/"
        },
        "id": "D8PPvJIeUWod",
        "outputId": "328a664a-8f70-4db4-a0c7-a59d3a3598b3"
      },
      "execution_count": null,
      "outputs": [
        {
          "output_type": "execute_result",
          "data": {
            "text/plain": [
              "['ekji', 'fiejfi']"
            ]
          },
          "metadata": {},
          "execution_count": 39
        }
      ]
    },
    {
      "cell_type": "code",
      "source": [
        "def clear_text(sentence):  # 목차 내용 정제 함수\n",
        "    pattern = r'[\\w가-힣]+'\n",
        "    extracted = re.findall(pattern, sentence)\n",
        "    result = ' '.join(extracted)\n",
        "    return result\n",
        "\n",
        "def clear_ls(ls):\n",
        "    if ls == []:\n",
        "        ls = np.NaN\n",
        "    elif ls == ['1']:\n",
        "        ls = 0  # 어떻게 표시할지 고민중\n",
        "    else:\n",
        "        ls = ', '.join([clear_text(l) for l in ls])\n",
        "    return ls"
      ],
      "metadata": {
        "id": "EdPN5ZHVDl-D"
      },
      "execution_count": null,
      "outputs": []
    },
    {
      "cell_type": "code",
      "source": [
        "rsubj = [clear_ls(r) for r in rsubj]\n",
        "rdet = [clear_ls(r) for r in rdet]\n",
        "isubj = [clear_ls(r) for r in isubj]\n",
        "idet = [clear_ls(r) for r in idet]\n",
        "tsubj = [clear_ls(r) for r in tsubj]\n",
        "tdet = [clear_ls(r) for r in tdet]"
      ],
      "metadata": {
        "id": "EBop3nhuTVQ3"
      },
      "execution_count": null,
      "outputs": []
    },
    {
      "cell_type": "code",
      "source": [
        "test = {'title':title, 'tdet':tdet} # 'tsubj':tsubj, 'rsubj':rsubj,'isubj':isubj,'rdet':rdet,\n",
        "test = pd.DataFrame(test)\n",
        "test.to_excel('/content/drive/MyDrive/subject_ex4.xlsx',encoding = 'utf-8-sig', index=False)"
      ],
      "metadata": {
        "id": "vMoblTF__Qhe",
        "colab": {
          "base_uri": "https://localhost:8080/"
        },
        "outputId": "19e2c9b4-0fbc-4d67-8934-7a0cfdd1e251"
      },
      "execution_count": null,
      "outputs": [
        {
          "output_type": "stream",
          "name": "stderr",
          "text": [
            "/usr/local/lib/python3.10/dist-packages/pandas/util/_decorators.py:211: FutureWarning: the 'encoding' keyword is deprecated and will be removed in a future version. Please take steps to stop the use of 'encoding'\n",
            "  return func(*args, **kwargs)\n"
          ]
        }
      ]
    },
    {
      "cell_type": "code",
      "source": [
        "test = {'title':title, 'tsubj':tsubj, 'rsubj':rsubj,'isubj':isubj,'rdet':rdet,'idet':idet}\n",
        "test = pd.DataFrame(test)\n",
        "test"
      ],
      "metadata": {
        "id": "8s9CndqRGvyx",
        "outputId": "4402a23c-9c1a-4de0-b7ed-9d34b5a0406e",
        "colab": {
          "base_uri": "https://localhost:8080/",
          "height": 424
        }
      },
      "execution_count": null,
      "outputs": [
        {
          "output_type": "execute_result",
          "data": {
            "text/plain": [
              "                                          title         tsubj  \\\n",
              "0                             2023 경찰 헌법집중 기출해설          [헌법]   \n",
              "1                          한 권으로 끝내는 경찰범죄학(기본서)            []   \n",
              "2                  박문각 경찰 박용증 아두스 경찰학 실전동형 10회분         [경찰학]   \n",
              "3      신간2024 최근 14년간 형법 + 형사소송법 기출총정리 세트 - 전2권   [형법, 형사소송법]   \n",
              "4                    신간2024 최근 14년간 형사소송법 기출총정리       [형사소송법]   \n",
              "..                                          ...           ...   \n",
              "213                2023 해커스경찰 박철한 경찰헌법 실전동형모의고사          [헌법]   \n",
              "214                2023 해커스경찰 박철한 경찰헌법 실전동형모의고사          [헌법]   \n",
              "215  2023 해커스경찰 갓대환 형사법 진도별 문제풀이 1000제 1차 시험 대비         [형사법]   \n",
              "216                2023 해커스경찰 갓대환 형사법 기본서 1: 형법     [형사법, 형법]   \n",
              "217      2023 해커스경찰 갓대환 형사법 기본서 2: 형사소송법 수사와 증거  [형사법, 형사소송법]   \n",
              "\n",
              "                   rsubj         isubj              rdet              idet  \n",
              "0                   [헌법]          [헌법]          [일반, 경정]                []  \n",
              "1    [범죄학, 형사법, 경찰학, 헌법]         [범죄학]              [경위]                []  \n",
              "2                  [경찰학]         [경찰학]  [순경공채, 경위, 경찰승진]  [순경공채, 경위, 경찰승진]  \n",
              "3                  [형사법]            []        [경찰승진, 경위]                []  \n",
              "4                  [형사법]            []        [경찰승진, 경위]                []  \n",
              "..                   ...           ...               ...               ...  \n",
              "213                   []          [헌법]                []                []  \n",
              "214                   []          [헌법]                []                []  \n",
              "215                [형사법]         [형사법]                []                []  \n",
              "216            [형사법, 형법]     [형사법, 형법]                []                []  \n",
              "217                [형사법]  [형사법, 형사소송법]                []                []  \n",
              "\n",
              "[218 rows x 6 columns]"
            ],
            "text/html": [
              "\n",
              "  <div id=\"df-97ba19a8-0acd-4e0c-8694-588418d8f67b\">\n",
              "    <div class=\"colab-df-container\">\n",
              "      <div>\n",
              "<style scoped>\n",
              "    .dataframe tbody tr th:only-of-type {\n",
              "        vertical-align: middle;\n",
              "    }\n",
              "\n",
              "    .dataframe tbody tr th {\n",
              "        vertical-align: top;\n",
              "    }\n",
              "\n",
              "    .dataframe thead th {\n",
              "        text-align: right;\n",
              "    }\n",
              "</style>\n",
              "<table border=\"1\" class=\"dataframe\">\n",
              "  <thead>\n",
              "    <tr style=\"text-align: right;\">\n",
              "      <th></th>\n",
              "      <th>title</th>\n",
              "      <th>tsubj</th>\n",
              "      <th>rsubj</th>\n",
              "      <th>isubj</th>\n",
              "      <th>rdet</th>\n",
              "      <th>idet</th>\n",
              "    </tr>\n",
              "  </thead>\n",
              "  <tbody>\n",
              "    <tr>\n",
              "      <th>0</th>\n",
              "      <td>2023 경찰 헌법집중 기출해설</td>\n",
              "      <td>[헌법]</td>\n",
              "      <td>[헌법]</td>\n",
              "      <td>[헌법]</td>\n",
              "      <td>[일반, 경정]</td>\n",
              "      <td>[]</td>\n",
              "    </tr>\n",
              "    <tr>\n",
              "      <th>1</th>\n",
              "      <td>한 권으로 끝내는 경찰범죄학(기본서)</td>\n",
              "      <td>[]</td>\n",
              "      <td>[범죄학, 형사법, 경찰학, 헌법]</td>\n",
              "      <td>[범죄학]</td>\n",
              "      <td>[경위]</td>\n",
              "      <td>[]</td>\n",
              "    </tr>\n",
              "    <tr>\n",
              "      <th>2</th>\n",
              "      <td>박문각 경찰 박용증 아두스 경찰학 실전동형 10회분</td>\n",
              "      <td>[경찰학]</td>\n",
              "      <td>[경찰학]</td>\n",
              "      <td>[경찰학]</td>\n",
              "      <td>[순경공채, 경위, 경찰승진]</td>\n",
              "      <td>[순경공채, 경위, 경찰승진]</td>\n",
              "    </tr>\n",
              "    <tr>\n",
              "      <th>3</th>\n",
              "      <td>신간2024 최근 14년간 형법 + 형사소송법 기출총정리 세트 - 전2권</td>\n",
              "      <td>[형법, 형사소송법]</td>\n",
              "      <td>[형사법]</td>\n",
              "      <td>[]</td>\n",
              "      <td>[경찰승진, 경위]</td>\n",
              "      <td>[]</td>\n",
              "    </tr>\n",
              "    <tr>\n",
              "      <th>4</th>\n",
              "      <td>신간2024 최근 14년간 형사소송법 기출총정리</td>\n",
              "      <td>[형사소송법]</td>\n",
              "      <td>[형사법]</td>\n",
              "      <td>[]</td>\n",
              "      <td>[경찰승진, 경위]</td>\n",
              "      <td>[]</td>\n",
              "    </tr>\n",
              "    <tr>\n",
              "      <th>...</th>\n",
              "      <td>...</td>\n",
              "      <td>...</td>\n",
              "      <td>...</td>\n",
              "      <td>...</td>\n",
              "      <td>...</td>\n",
              "      <td>...</td>\n",
              "    </tr>\n",
              "    <tr>\n",
              "      <th>213</th>\n",
              "      <td>2023 해커스경찰 박철한 경찰헌법 실전동형모의고사</td>\n",
              "      <td>[헌법]</td>\n",
              "      <td>[]</td>\n",
              "      <td>[헌법]</td>\n",
              "      <td>[]</td>\n",
              "      <td>[]</td>\n",
              "    </tr>\n",
              "    <tr>\n",
              "      <th>214</th>\n",
              "      <td>2023 해커스경찰 박철한 경찰헌법 실전동형모의고사</td>\n",
              "      <td>[헌법]</td>\n",
              "      <td>[]</td>\n",
              "      <td>[헌법]</td>\n",
              "      <td>[]</td>\n",
              "      <td>[]</td>\n",
              "    </tr>\n",
              "    <tr>\n",
              "      <th>215</th>\n",
              "      <td>2023 해커스경찰 갓대환 형사법 진도별 문제풀이 1000제 1차 시험 대비</td>\n",
              "      <td>[형사법]</td>\n",
              "      <td>[형사법]</td>\n",
              "      <td>[형사법]</td>\n",
              "      <td>[]</td>\n",
              "      <td>[]</td>\n",
              "    </tr>\n",
              "    <tr>\n",
              "      <th>216</th>\n",
              "      <td>2023 해커스경찰 갓대환 형사법 기본서 1: 형법</td>\n",
              "      <td>[형사법, 형법]</td>\n",
              "      <td>[형사법, 형법]</td>\n",
              "      <td>[형사법, 형법]</td>\n",
              "      <td>[]</td>\n",
              "      <td>[]</td>\n",
              "    </tr>\n",
              "    <tr>\n",
              "      <th>217</th>\n",
              "      <td>2023 해커스경찰 갓대환 형사법 기본서 2: 형사소송법 수사와 증거</td>\n",
              "      <td>[형사법, 형사소송법]</td>\n",
              "      <td>[형사법]</td>\n",
              "      <td>[형사법, 형사소송법]</td>\n",
              "      <td>[]</td>\n",
              "      <td>[]</td>\n",
              "    </tr>\n",
              "  </tbody>\n",
              "</table>\n",
              "<p>218 rows × 6 columns</p>\n",
              "</div>\n",
              "      <button class=\"colab-df-convert\" onclick=\"convertToInteractive('df-97ba19a8-0acd-4e0c-8694-588418d8f67b')\"\n",
              "              title=\"Convert this dataframe to an interactive table.\"\n",
              "              style=\"display:none;\">\n",
              "        \n",
              "  <svg xmlns=\"http://www.w3.org/2000/svg\" height=\"24px\"viewBox=\"0 0 24 24\"\n",
              "       width=\"24px\">\n",
              "    <path d=\"M0 0h24v24H0V0z\" fill=\"none\"/>\n",
              "    <path d=\"M18.56 5.44l.94 2.06.94-2.06 2.06-.94-2.06-.94-.94-2.06-.94 2.06-2.06.94zm-11 1L8.5 8.5l.94-2.06 2.06-.94-2.06-.94L8.5 2.5l-.94 2.06-2.06.94zm10 10l.94 2.06.94-2.06 2.06-.94-2.06-.94-.94-2.06-.94 2.06-2.06.94z\"/><path d=\"M17.41 7.96l-1.37-1.37c-.4-.4-.92-.59-1.43-.59-.52 0-1.04.2-1.43.59L10.3 9.45l-7.72 7.72c-.78.78-.78 2.05 0 2.83L4 21.41c.39.39.9.59 1.41.59.51 0 1.02-.2 1.41-.59l7.78-7.78 2.81-2.81c.8-.78.8-2.07 0-2.86zM5.41 20L4 18.59l7.72-7.72 1.47 1.35L5.41 20z\"/>\n",
              "  </svg>\n",
              "      </button>\n",
              "      \n",
              "  <style>\n",
              "    .colab-df-container {\n",
              "      display:flex;\n",
              "      flex-wrap:wrap;\n",
              "      gap: 12px;\n",
              "    }\n",
              "\n",
              "    .colab-df-convert {\n",
              "      background-color: #E8F0FE;\n",
              "      border: none;\n",
              "      border-radius: 50%;\n",
              "      cursor: pointer;\n",
              "      display: none;\n",
              "      fill: #1967D2;\n",
              "      height: 32px;\n",
              "      padding: 0 0 0 0;\n",
              "      width: 32px;\n",
              "    }\n",
              "\n",
              "    .colab-df-convert:hover {\n",
              "      background-color: #E2EBFA;\n",
              "      box-shadow: 0px 1px 2px rgba(60, 64, 67, 0.3), 0px 1px 3px 1px rgba(60, 64, 67, 0.15);\n",
              "      fill: #174EA6;\n",
              "    }\n",
              "\n",
              "    [theme=dark] .colab-df-convert {\n",
              "      background-color: #3B4455;\n",
              "      fill: #D2E3FC;\n",
              "    }\n",
              "\n",
              "    [theme=dark] .colab-df-convert:hover {\n",
              "      background-color: #434B5C;\n",
              "      box-shadow: 0px 1px 3px 1px rgba(0, 0, 0, 0.15);\n",
              "      filter: drop-shadow(0px 1px 2px rgba(0, 0, 0, 0.3));\n",
              "      fill: #FFFFFF;\n",
              "    }\n",
              "  </style>\n",
              "\n",
              "      <script>\n",
              "        const buttonEl =\n",
              "          document.querySelector('#df-97ba19a8-0acd-4e0c-8694-588418d8f67b button.colab-df-convert');\n",
              "        buttonEl.style.display =\n",
              "          google.colab.kernel.accessAllowed ? 'block' : 'none';\n",
              "\n",
              "        async function convertToInteractive(key) {\n",
              "          const element = document.querySelector('#df-97ba19a8-0acd-4e0c-8694-588418d8f67b');\n",
              "          const dataTable =\n",
              "            await google.colab.kernel.invokeFunction('convertToInteractive',\n",
              "                                                     [key], {});\n",
              "          if (!dataTable) return;\n",
              "\n",
              "          const docLinkHtml = 'Like what you see? Visit the ' +\n",
              "            '<a target=\"_blank\" href=https://colab.research.google.com/notebooks/data_table.ipynb>data table notebook</a>'\n",
              "            + ' to learn more about interactive tables.';\n",
              "          element.innerHTML = '';\n",
              "          dataTable['output_type'] = 'display_data';\n",
              "          await google.colab.output.renderOutput(dataTable, element);\n",
              "          const docLink = document.createElement('div');\n",
              "          docLink.innerHTML = docLinkHtml;\n",
              "          element.appendChild(docLink);\n",
              "        }\n",
              "      </script>\n",
              "    </div>\n",
              "  </div>\n",
              "  "
            ]
          },
          "metadata": {},
          "execution_count": 46
        }
      ]
    },
    {
      "cell_type": "code",
      "source": [
        "o = Okt()"
      ],
      "metadata": {
        "id": "TFLaipAKr-Bs"
      },
      "execution_count": null,
      "outputs": []
    },
    {
      "cell_type": "markdown",
      "source": [
        "# okt 적용"
      ],
      "metadata": {
        "id": "ulhtzwE_vcJ7"
      }
    },
    {
      "cell_type": "code",
      "source": [
        "t = data['main_title']\n",
        "r = data['book_review']\n",
        "i = data['book_info']\n",
        "s = data['sub_title']"
      ],
      "metadata": {
        "id": "lb-ZwCuFsoyj"
      },
      "execution_count": null,
      "outputs": []
    },
    {
      "cell_type": "code",
      "source": [
        "title, rsubj, rdet, isubj, idet, tsubj, tdet, sdet  = [],[],[],[],[],[],[],[]"
      ],
      "metadata": {
        "id": "ntForsz6r91u"
      },
      "execution_count": null,
      "outputs": []
    },
    {
      "cell_type": "code",
      "source": [
        "for l in range(len(t)):\n",
        "    try:\n",
        "        if len(t[l]) > 0:\n",
        "            tit = o.phrases(t[l])\n",
        "            tt = []\n",
        "            for pl in tit:\n",
        "                if pl in sub:\n",
        "                    tt.append(pl)\n",
        "                # elif pl in detail:\n",
        "                #     ti.append(pl)\n",
        "        tsubj.append(tt)\n",
        "        # tdet.append(ti)\n",
        "    except:\n",
        "        tsubj.append(['1'])\n",
        "        # tdet.append(['1'])\n",
        "    try:\n",
        "        if len(t[l]) > 0:\n",
        "            sit = o.phrases(s[l])\n",
        "            st = []\n",
        "            for pl in sit:\n",
        "                if pl in detail:\n",
        "                    st.append(pl)\n",
        "                # elif pl in detail:\n",
        "                #     ti.append(pl)\n",
        "        sdet.append(ti)\n",
        "    except:\n",
        "        # tsubj.append(['1'])\n",
        "        sdet.append(['1'])\n",
        "    try:\n",
        "        if len(r[l]) > 0:\n",
        "            rv = o.phrases(r[l])\n",
        "            rr, ri = [], []\n",
        "            for ii in rv:\n",
        "                if ii in sub:\n",
        "                    rr.append(ii)\n",
        "                elif ii in detail:\n",
        "                    ri.append(ii)\n",
        "            rsubj.append(rr)\n",
        "            rdet.append(ri)\n",
        "    except:\n",
        "        rsubj.append(['1'])\n",
        "        rdet.append(['1'])\n",
        "    try:\n",
        "        if len(i[l]) > 0:\n",
        "            intro = o.phrases(i[l])\n",
        "            inr, nri = [],[]\n",
        "            for dl in intro:\n",
        "                if dl in sub:\n",
        "                    inr.append(dl)\n",
        "                elif dl in detail:\n",
        "                    nri.append(dl)\n",
        "            isubj.append(inr)\n",
        "            idet.append(nri)\n",
        "    except:\n",
        "        isubj.append(['1'])\n",
        "        idet.append(['1'])\n",
        "    title.append(t[l])"
      ],
      "metadata": {
        "id": "jgG_aUM7WzkX"
      },
      "execution_count": null,
      "outputs": []
    },
    {
      "cell_type": "code",
      "source": [
        "rsubj = [clear_ls(r) for r in rsubj]\n",
        "rdet = [clear_ls(r) for r in rdet]\n",
        "isubj = [clear_ls(r) for r in isubj]\n",
        "idet = [clear_ls(r) for r in idet]\n",
        "tsubj = [clear_ls(r) for r in tsubj]\n",
        "sdet = [clear_ls(r) for r in sdet]"
      ],
      "metadata": {
        "id": "UlY6Ark-sJXY"
      },
      "execution_count": null,
      "outputs": []
    },
    {
      "cell_type": "code",
      "source": [
        "test = {'title':title, 'tsubj':tsubj, 'rsubj':rsubj,'isubj':isubj,'sdet':sdet, 'rdet':rdet,'idet':idet}\n",
        "test = pd.DataFrame(test)\n",
        "test.to_excel('/content/drive/MyDrive/subject_oak2.xlsx',encoding = 'utf-8-sig', index=False)"
      ],
      "metadata": {
        "colab": {
          "base_uri": "https://localhost:8080/"
        },
        "id": "kmkqB8KCsLy3",
        "outputId": "73685ec7-85b0-4db6-b23e-09b79daa025e"
      },
      "execution_count": null,
      "outputs": [
        {
          "output_type": "stream",
          "name": "stderr",
          "text": [
            "/usr/local/lib/python3.10/dist-packages/pandas/util/_decorators.py:211: FutureWarning: the 'encoding' keyword is deprecated and will be removed in a future version. Please take steps to stop the use of 'encoding'\n",
            "  return func(*args, **kwargs)\n"
          ]
        }
      ]
    },
    {
      "cell_type": "markdown",
      "source": [
        "# 한나눔 적용"
      ],
      "metadata": {
        "id": "cb9TTH0CveiO"
      }
    },
    {
      "cell_type": "code",
      "source": [
        "from konlpy.tag import Hannanum,Komoran\n",
        "\n",
        "\n",
        "k = Komoran()\n",
        "h = Hannanum()"
      ],
      "metadata": {
        "id": "z5n4hSxHsLwX"
      },
      "execution_count": null,
      "outputs": []
    },
    {
      "cell_type": "code",
      "source": [
        "for l in range(len(t)):\n",
        "    try:\n",
        "        if len(t[l]) > 0:\n",
        "            tit = h.nouns(t[l])\n",
        "            tt = []\n",
        "            for pl in tit:\n",
        "                if pl in sub:\n",
        "                    tt.append(pl)\n",
        "                # elif pl in detail:\n",
        "                #     ti.append(pl)\n",
        "        tsubj.append(tt)\n",
        "        # tdet.append(ti)\n",
        "    except:\n",
        "        tsubj.append(['1'])\n",
        "        # tdet.append(['1'])\n",
        "    try:\n",
        "        if len(t[l]) > 0:\n",
        "            sit = h.nouns(s[l])\n",
        "            st = []\n",
        "            for pl in sit:\n",
        "                if pl in detail:\n",
        "                    st.append(pl)\n",
        "                # elif pl in detail:\n",
        "                #     ti.append(pl)\n",
        "        sdet.append(ti)\n",
        "    except:\n",
        "        # tsubj.append(['1'])\n",
        "        sdet.append(['1'])\n",
        "    try:\n",
        "        if len(r[l]) > 0:\n",
        "            rv = h.nouns(r[l])\n",
        "            rr, ri = [], []\n",
        "            for ii in rv:\n",
        "                if ii in sub:\n",
        "                    rr.append(ii)\n",
        "                elif ii in detail:\n",
        "                    ri.append(ii)\n",
        "            rsubj.append(rr)\n",
        "            rdet.append(ri)\n",
        "    except:\n",
        "        rsubj.append(['1'])\n",
        "        rdet.append(['1'])\n",
        "    try:\n",
        "        if len(i[l]) > 0:\n",
        "            intro = h.nouns(i[l])\n",
        "            inr, nri = [],[]\n",
        "            for dl in intro:\n",
        "                if dl in sub:\n",
        "                    inr.append(dl)\n",
        "                elif dl in detail:\n",
        "                    nri.append(dl)\n",
        "            isubj.append(inr)\n",
        "            idet.append(nri)\n",
        "    except:\n",
        "        isubj.append(['1'])\n",
        "        idet.append(['1'])\n",
        "    title.append(t[l])"
      ],
      "metadata": {
        "id": "qUHPfH1lsLt2"
      },
      "execution_count": null,
      "outputs": []
    },
    {
      "cell_type": "code",
      "source": [
        "rsubj = [clear_ls(r) for r in rsubj]\n",
        "rdet = [clear_ls(r) for r in rdet]\n",
        "isubj = [clear_ls(r) for r in isubj]\n",
        "idet = [clear_ls(r) for r in idet]\n",
        "tsubj = [clear_ls(r) for r in tsubj]\n",
        "sdet = [clear_ls(r) for r in sdet]"
      ],
      "metadata": {
        "id": "om_AFroyxIBo"
      },
      "execution_count": null,
      "outputs": []
    },
    {
      "cell_type": "code",
      "source": [
        "test = {'title':title, 'tsubj':tsubj, 'rsubj':rsubj,'isubj':isubj,'sdet':sdet, 'rdet':rdet,'idet':idet}\n",
        "test = pd.DataFrame(test)\n",
        "test.to_excel('/content/drive/MyDrive/subject_han.xlsx',encoding = 'utf-8-sig', index=False)"
      ],
      "metadata": {
        "colab": {
          "base_uri": "https://localhost:8080/"
        },
        "id": "FEyte5qPxH4M",
        "outputId": "83b1981d-62ac-4098-9d01-3fd4efe6dcf6"
      },
      "execution_count": null,
      "outputs": [
        {
          "output_type": "stream",
          "name": "stderr",
          "text": [
            "/usr/local/lib/python3.10/dist-packages/pandas/util/_decorators.py:211: FutureWarning: the 'encoding' keyword is deprecated and will be removed in a future version. Please take steps to stop the use of 'encoding'\n",
            "  return func(*args, **kwargs)\n"
          ]
        }
      ]
    },
    {
      "cell_type": "markdown",
      "source": [
        "# Komoran"
      ],
      "metadata": {
        "id": "V6_CGajWzzQE"
      }
    },
    {
      "cell_type": "code",
      "source": [
        "for l in range(len(t)):\n",
        "    try:\n",
        "        if len(t[l]) > 0:\n",
        "            tit = k.nouns(t[l])\n",
        "            tt = []\n",
        "            for pl in tit:\n",
        "                if pl in sub:\n",
        "                    tt.append(pl)\n",
        "                # elif pl in detail:\n",
        "                #     ti.append(pl)\n",
        "        tsubj.append(tt)\n",
        "        # tdet.append(ti)\n",
        "    except:\n",
        "        tsubj.append(['1'])\n",
        "        # tdet.append(['1'])\n",
        "    try:\n",
        "        if len(t[l]) > 0:\n",
        "            sit = k.nouns(s[l])\n",
        "            st = []\n",
        "            for pl in sit:\n",
        "                if pl in detail:\n",
        "                    st.append(pl)\n",
        "                # elif pl in detail:\n",
        "                #     ti.append(pl)\n",
        "        sdet.append(ti)\n",
        "    except:\n",
        "        # tsubj.append(['1'])\n",
        "        sdet.append(['1'])\n",
        "    try:\n",
        "        if len(r[l]) > 0:\n",
        "            rv = k.nouns(r[l])\n",
        "            rr, ri = [], []\n",
        "            for ii in rv:\n",
        "                if ii in sub:\n",
        "                    rr.append(ii)\n",
        "                elif ii in detail:\n",
        "                    ri.append(ii)\n",
        "            rsubj.append(rr)\n",
        "            rdet.append(ri)\n",
        "    except:\n",
        "        rsubj.append(['1'])\n",
        "        rdet.append(['1'])\n",
        "    try:\n",
        "        if len(i[l]) > 0:\n",
        "            intro = k.nouns(i[l])\n",
        "            inr, nri = [],[]\n",
        "            for dl in intro:\n",
        "                if dl in sub:\n",
        "                    inr.append(dl)\n",
        "                elif dl in detail:\n",
        "                    nri.append(dl)\n",
        "            isubj.append(inr)\n",
        "            idet.append(nri)\n",
        "    except:\n",
        "        isubj.append(['1'])\n",
        "        idet.append(['1'])\n",
        "    title.append(t[l])"
      ],
      "metadata": {
        "id": "zBZ6xE7hxH1y"
      },
      "execution_count": null,
      "outputs": []
    },
    {
      "cell_type": "code",
      "source": [
        "rsubj = [clear_ls(r) for r in rsubj]\n",
        "rdet = [clear_ls(r) for r in rdet]\n",
        "isubj = [clear_ls(r) for r in isubj]\n",
        "idet = [clear_ls(r) for r in idet]\n",
        "tsubj = [clear_ls(r) for r in tsubj]\n",
        "sdet = [clear_ls(r) for r in sdet]"
      ],
      "metadata": {
        "id": "78JzQ89Xz-YX"
      },
      "execution_count": null,
      "outputs": []
    },
    {
      "cell_type": "code",
      "source": [
        "test = {'title':title, 'tsubj':tsubj, 'rsubj':rsubj,'isubj':isubj,'sdet':sdet, 'rdet':rdet,'idet':idet}\n",
        "test = pd.DataFrame(test)\n",
        "test.to_excel('/content/drive/MyDrive/subject_komoran.xlsx',encoding = 'utf-8-sig', index=False)"
      ],
      "metadata": {
        "colab": {
          "base_uri": "https://localhost:8080/"
        },
        "id": "9HkpBFx1z-WB",
        "outputId": "25d0227d-d4b4-4e50-d40d-bc38ecd30f20"
      },
      "execution_count": null,
      "outputs": [
        {
          "output_type": "stream",
          "name": "stderr",
          "text": [
            "/usr/local/lib/python3.10/dist-packages/pandas/util/_decorators.py:211: FutureWarning: the 'encoding' keyword is deprecated and will be removed in a future version. Please take steps to stop the use of 'encoding'\n",
            "  return func(*args, **kwargs)\n"
          ]
        }
      ]
    },
    {
      "cell_type": "markdown",
      "source": [
        "# okt nouns 태그"
      ],
      "metadata": {
        "id": "yLGrWuBs0Lhf"
      }
    },
    {
      "cell_type": "code",
      "source": [
        "for l in range(len(t)):\n",
        "    try:\n",
        "        if len(t[l]) > 0:\n",
        "            tit = o.phrases(t[l])\n",
        "            tt = []\n",
        "            for pl in tit:\n",
        "                if pl in sub:\n",
        "                    tt.append(pl)\n",
        "                # elif pl in detail:\n",
        "                #     ti.append(pl)\n",
        "        tsubj.append(tt)\n",
        "        # tdet.append(ti)\n",
        "    except:\n",
        "        tsubj.append(['1'])\n",
        "        # tdet.append(['1'])\n",
        "    try:\n",
        "        if len(t[l]) > 0:\n",
        "            sit = o.phrases(s[l])\n",
        "            st = []\n",
        "            for pl in sit:\n",
        "                if pl in detail:\n",
        "                    st.append(pl)\n",
        "                # elif pl in detail:\n",
        "                #     ti.append(pl)\n",
        "        sdet.append(ti)\n",
        "    except:\n",
        "        # tsubj.append(['1'])\n",
        "        sdet.append(['1'])\n",
        "    try:\n",
        "        if len(r[l]) > 0:\n",
        "            rv = o.phrases(r[l])\n",
        "            rr, ri = [], []\n",
        "            for ii in rv:\n",
        "                if ii in sub:\n",
        "                    rr.append(ii)\n",
        "                elif ii in detail:\n",
        "                    ri.append(ii)\n",
        "            rsubj.append(rr)\n",
        "            rdet.append(ri)\n",
        "    except:\n",
        "        rsubj.append(['1'])\n",
        "        rdet.append(['1'])\n",
        "    try:\n",
        "        if len(i[l]) > 0:\n",
        "            intro = o.phrases(i[l])\n",
        "            inr, nri = [],[]\n",
        "            for dl in intro:\n",
        "                if dl in sub:\n",
        "                    inr.append(dl)\n",
        "                elif dl in detail:\n",
        "                    nri.append(dl)\n",
        "            isubj.append(inr)\n",
        "            idet.append(nri)\n",
        "    except:\n",
        "        isubj.append(['1'])\n",
        "        idet.append(['1'])\n",
        "    title.append(t[l])"
      ],
      "metadata": {
        "id": "wTrgt_Grz-TZ"
      },
      "execution_count": null,
      "outputs": []
    },
    {
      "cell_type": "code",
      "source": [
        "rsubj = [clear_ls(r) for r in rsubj]\n",
        "rdet = [clear_ls(r) for r in rdet]\n",
        "isubj = [clear_ls(r) for r in isubj]\n",
        "idet = [clear_ls(r) for r in idet]\n",
        "tsubj = [clear_ls(r) for r in tsubj]\n",
        "sdet = [clear_ls(r) for r in sdet]"
      ],
      "metadata": {
        "id": "QoVNLm4Jz-Qn"
      },
      "execution_count": null,
      "outputs": []
    },
    {
      "cell_type": "code",
      "source": [
        "test = {'title':title, 'tsubj':tsubj, 'rsubj':rsubj,'isubj':isubj,'sdet':sdet, 'rdet':rdet,'idet':idet}\n",
        "test = pd.DataFrame(test)\n",
        "test.to_excel('/content/drive/MyDrive/subject_okt_n.xlsx',encoding = 'utf-8-sig', index=False)"
      ],
      "metadata": {
        "colab": {
          "base_uri": "https://localhost:8080/"
        },
        "id": "yoJnasOcz-OI",
        "outputId": "09fc8875-f4a0-4ccd-b8a7-9bbdc5908f75"
      },
      "execution_count": null,
      "outputs": [
        {
          "output_type": "stream",
          "name": "stderr",
          "text": [
            "/usr/local/lib/python3.10/dist-packages/pandas/util/_decorators.py:211: FutureWarning: the 'encoding' keyword is deprecated and will be removed in a future version. Please take steps to stop the use of 'encoding'\n",
            "  return func(*args, **kwargs)\n"
          ]
        }
      ]
    },
    {
      "cell_type": "markdown",
      "source": [
        "# 함수 테스트"
      ],
      "metadata": {
        "id": "ld9ADduaS6hf"
      }
    },
    {
      "cell_type": "code",
      "source": [
        "def one_class(t, l, o, tsubj, sub):\n",
        "    try:\n",
        "        if len(t[l]) > 0:  # 어디서 가져오는지\n",
        "            tit = o.nouns(t[l])  # 어떤 테그 쓸건지\n",
        "            tt = []\n",
        "            for pl in tit:\n",
        "                if pl in sub:  # 여기 비교 리스트(과목, 상세)\n",
        "                    tt.append(pl)\n",
        "                # elif pl in detail:\n",
        "                #     ti.append(pl)\n",
        "        tsubj.append(tt)  # 저장 위치\n",
        "        # tdet.append(ti)\n",
        "    except:\n",
        "        tsubj.append(['1'])\n",
        "\n",
        "def two_class(r, l, o, subj, det):\n",
        "    try:\n",
        "        if len(r[l]) > 0:   # 어디서 가져오는지\n",
        "            rv = o.nouns(r[l])  # 어떤 테그 쓸건지\n",
        "            rr, ri = [], []\n",
        "            for ii in rv:\n",
        "                if ii in sub:\n",
        "                    rr.append(ii)\n",
        "                elif ii in detail:\n",
        "                    ri.append(ii)\n",
        "            subj.append(rr)    # 저장 위치\n",
        "            det.append(ri)    # 저장 위치\n",
        "    except:\n",
        "        subj.append(['1'])\n",
        "        det.append(['1'])"
      ],
      "metadata": {
        "id": "NU7AozQpz-Lh"
      },
      "execution_count": null,
      "outputs": []
    },
    {
      "cell_type": "code",
      "source": [
        "for l in range(len(t)):\n",
        "    one_class(t, l, o, tsubj, sub)\n",
        "    one_class(s, l, o, tdet, detail)\n",
        "    two_class(r, l, o, rsubj, rdet)\n",
        "    two_class(i, l, o, isubj, idet)\n",
        "    title.append(t[l])"
      ],
      "metadata": {
        "id": "b0xdkJORTLUx"
      },
      "execution_count": null,
      "outputs": []
    },
    {
      "cell_type": "code",
      "source": [
        "for l in range(len(t)):\n",
        "    try:\n",
        "        if len(t[l]) > 0:\n",
        "            tit = o.phrases(t[l])\n",
        "            tt = []\n",
        "            for pl in tit:\n",
        "                if pl in sub:\n",
        "                    tt.append(pl)\n",
        "                # elif pl in detail:\n",
        "                #     ti.append(pl)\n",
        "        tsubj.append(tt)\n",
        "        # tdet.append(ti)\n",
        "    except:\n",
        "        tsubj.append(['1'])\n",
        "        # tdet.append(['1'])\n",
        "    try:\n",
        "        if len(t[l]) > 0:\n",
        "            sit = o.phrases(s[l])\n",
        "            st = []\n",
        "            for pl in sit:\n",
        "                if pl in detail:\n",
        "                    st.append(pl)\n",
        "                # elif pl in detail:\n",
        "                #     ti.append(pl)\n",
        "        sdet.append(ti)\n",
        "    except:\n",
        "        # tsubj.append(['1'])\n",
        "        sdet.append(['1'])\n",
        "    try:\n",
        "        if len(r[l]) > 0:\n",
        "            rv = o.phrases(r[l])\n",
        "            rr, ri = [], []\n",
        "            for ii in rv:\n",
        "                if ii in sub:\n",
        "                    rr.append(ii)\n",
        "                elif ii in detail:\n",
        "                    ri.append(ii)\n",
        "            rsubj.append(rr)\n",
        "            rdet.append(ri)\n",
        "    except:\n",
        "        rsubj.append(['1'])\n",
        "        rdet.append(['1'])\n",
        "    try:\n",
        "        if len(i[l]) > 0:\n",
        "            intro = o.phrases(i[l])\n",
        "            inr, nri = [],[]\n",
        "            for dl in intro:\n",
        "                if dl in sub:\n",
        "                    inr.append(dl)\n",
        "                elif dl in detail:\n",
        "                    nri.append(dl)\n",
        "            isubj.append(inr)\n",
        "            idet.append(nri)\n",
        "    except:\n",
        "        isubj.append(['1'])\n",
        "        idet.append(['1'])\n",
        "    title.append(t[l])"
      ],
      "metadata": {
        "id": "BT6t6BHRz-I3"
      },
      "execution_count": null,
      "outputs": []
    },
    {
      "cell_type": "markdown",
      "source": [
        "## 어떻게 키워드가 나뉘는지 테스트"
      ],
      "metadata": {
        "id": "ZDZWny61loV5"
      }
    },
    {
      "cell_type": "code",
      "source": [
        "ex = '순경공채/경력채용/경위공채 시험대비'"
      ],
      "metadata": {
        "id": "ESKoLV_iln55"
      },
      "execution_count": null,
      "outputs": []
    },
    {
      "cell_type": "code",
      "source": [
        "print(k.nouns(ex))"
      ],
      "metadata": {
        "colab": {
          "base_uri": "https://localhost:8080/"
        },
        "id": "qElWlVvkln3I",
        "outputId": "d5153c50-2c5d-4421-8158-f0a248923cd5"
      },
      "execution_count": null,
      "outputs": [
        {
          "output_type": "stream",
          "name": "stdout",
          "text": [
            "['순경', '순경공채', '공채', '경행', '경행경채', '경채', '간부', '간부후보', '후보', '세무', '세무회계', '회계', '도움', '일반', '사이버', '사이버관련', '관련', '경찰', '경찰승진', '승진', '경장', '경장경사', '경사', '경위', '경감', '경감등', '등', '경정', '경정9급', '9', '급', '6', '6급', '5', '5급등', '다분야']\n"
          ]
        }
      ]
    },
    {
      "cell_type": "code",
      "source": [
        "순경공채, 경행경채, 간부후보,세무회계, 일반, 사이버,경찰승진, 경장경사"
      ],
      "metadata": {
        "id": "qUmaWGzEln0j"
      },
      "execution_count": null,
      "outputs": []
    },
    {
      "cell_type": "code",
      "source": [
        "ex= '순경공채, 경행경채 간부후보 세무회계도 도움이 될것임 일반 사이버관련한 경찰승진과 경장경사 경위 경감등 또한 경정9급, 6급, 5급등 다분야에 도움이됨'"
      ],
      "metadata": {
        "id": "lR_WjP_0lnrC"
      },
      "execution_count": null,
      "outputs": []
    },
    {
      "cell_type": "code",
      "source": [],
      "metadata": {
        "id": "ul0-PXpkxOmH"
      },
      "execution_count": null,
      "outputs": []
    }
  ]
}