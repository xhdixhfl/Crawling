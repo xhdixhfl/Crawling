{
 "cells": [
  {
   "cell_type": "markdown",
   "id": "df71f9b7",
   "metadata": {},
   "source": [
    "# 처음 작성 코드"
   ]
  },
  {
   "cell_type": "code",
   "execution_count": null,
   "id": "ab37c849",
   "metadata": {},
   "outputs": [],
   "source": [
    "# 4사 정보 크롤링\n",
    "kobo = []\n",
    "# driver.find_element(By.LINK_TEXT, '교보문고').click()\n",
    "driver.find_element(By.PARTIAL_LINK_TEXT, '교보').click()\n",
    "driver.implicitly_wait(3)\n",
    "\n",
    "# tap switch\n",
    "driver.switch_to.window(driver.window_handles[2]) \n",
    "\n",
    "# 원하는 작업\n",
    "cate = driver.find_element(By.CLASS_NAME, 'category_list_item').text\n",
    "time.sleep(2)\n",
    "kobo.append(cate) # 전체 카테\n",
    "kobo.append(cate.split(' ')[-1]) # 핵심 카테\n",
    "\n",
    "\n",
    "driver.close() # 종료\n",
    "driver.switch_to.window(driver.window_handles[1])"
   ]
  },
  {
   "cell_type": "code",
   "execution_count": 1,
   "id": "51a51868",
   "metadata": {},
   "outputs": [],
   "source": [
    "# 필수 라이브러리 로딩\n",
    "from selenium import webdriver\n",
    "from selenium.webdriver.chrome.service import Service\n",
    "from selenium.webdriver.common.keys import Keys\n",
    "from selenium.webdriver.common.by import By\n",
    "from selenium.webdriver import ActionChains # 스크롤\n",
    "from urllib import request # 이미지\n",
    "import csv\n",
    "import time\n",
    "# page로딩과 구조 로딩에 gab이 있어서 원하는 tag나올떄까지 기다리는거\n",
    "from selenium.webdriver.support.ui import WebDriverWait\n",
    "from selenium.webdriver.support import expected_conditions as EC\n",
    "\n",
    "import numpy as np # 결측값 삽입용\n",
    "import re # 정규표현식\n",
    "import pandas as pd"
   ]
  },
  {
   "cell_type": "code",
   "execution_count": null,
   "id": "56f5c24e",
   "metadata": {},
   "outputs": [],
   "source": [
    "for txt in ['교보문고','알라딘','']\n",
    "driver.find_element(By.PARTIAL_LINK_TEXT, '교보').click()\n",
    "driver.implicitly_wait(3)\n",
    "\n",
    "# tap switch\n",
    "driver.switch_to.window(driver.window_handles[2]) \n"
   ]
  },
  {
   "cell_type": "code",
   "execution_count": null,
   "id": "6b2f67a1",
   "metadata": {},
   "outputs": [],
   "source": [
    "# 알라딘\n",
    "driver.find_element(By.ID,'ulCategory').text # 키워드만 가져오기\n",
    "\n",
    "\n",
    "# yes24\n",
    "lis = []\n",
    "yes = driver.find_elements(By.CLASS_NAME, 'divi_cate bgYUI')\n",
    "for y in yes:\n",
    "    lis.append(y.text)\n",
    "yes_cate.append(lis)\n",
    "\n",
    "# yp\n",
    "yp = driver.find_element(By.ID, 'tabimage1').text\n",
    "yp_cate.append(yp.split('>'))"
   ]
  },
  {
   "cell_type": "code",
   "execution_count": 2,
   "id": "ab7761b2",
   "metadata": {},
   "outputs": [],
   "source": [
    "# 첫화면\n",
    "URL = 'https://search.shopping.naver.com/book/search/category?bookTabType=ALL&catId=50005981&pageIndex=1&pageSize=40&sort=DATE'\n",
    "ops = webdriver.ChromeOptions()\n",
    "ops.add_experimental_option('excludeSwitches', ['enable-logging'])\n",
    "\n",
    "sv = Service(executable_path= 'C:\\Data\\chromedriver')\n",
    "driver = webdriver.Chrome(service=sv, options=ops)\n",
    "\n",
    "driver.get(url=URL)"
   ]
  },
  {
   "cell_type": "code",
   "execution_count": 12,
   "id": "8a5448bd",
   "metadata": {},
   "outputs": [],
   "source": [
    "driver.switch_to.window(driver.window_handles[1])"
   ]
  },
  {
   "cell_type": "code",
   "execution_count": 4,
   "id": "041f3c8e",
   "metadata": {},
   "outputs": [],
   "source": [
    "driver.find_element(By.PARTIAL_LINK_TEXT, '알라').click()\n",
    "driver.switch_to.window(driver.window_handles[2])\n",
    "t = driver.find_element(By.ID,'ulCategory').text"
   ]
  },
  {
   "cell_type": "code",
   "execution_count": 13,
   "id": "b22dfdb3",
   "metadata": {},
   "outputs": [],
   "source": [
    "driver.find_element(By.PARTIAL_LINK_TEXT, '24').click()\n",
    "driver.switch_to.window(driver.window_handles[2])\n",
    "lis = []\n",
    "yes = driver.find_elements(By.CLASS_NAME, 'divi_cate bgYUI')\n",
    "for y in yes:\n",
    "    lis.append(y.text)\n",
    "test.append(lis)"
   ]
  },
  {
   "cell_type": "code",
   "execution_count": 10,
   "id": "58f219de",
   "metadata": {},
   "outputs": [],
   "source": [
    "a = t.split('>')\n",
    "test.append(t.split('>'))"
   ]
  },
  {
   "cell_type": "code",
   "execution_count": 9,
   "id": "4100af0f",
   "metadata": {},
   "outputs": [],
   "source": [
    "test= []"
   ]
  },
  {
   "cell_type": "code",
   "execution_count": 14,
   "id": "8165d073",
   "metadata": {},
   "outputs": [
    {
     "data": {
      "text/plain": [
       "[['국내도서 ', ' 수험서/자격증 ', ' 공무원 수험서 ', ' 경찰공무원(승진) ', ' 기타 과목'], []]"
      ]
     },
     "execution_count": 14,
     "metadata": {},
     "output_type": "execute_result"
    }
   ],
   "source": [
    "test"
   ]
  },
  {
   "cell_type": "code",
   "execution_count": 21,
   "id": "7ce4f6f0",
   "metadata": {},
   "outputs": [
    {
     "ename": "AttributeError",
     "evalue": "'list' object has no attribute 'split'",
     "output_type": "error",
     "traceback": [
      "\u001b[1;31m---------------------------------------------------------------------------\u001b[0m",
      "\u001b[1;31mAttributeError\u001b[0m                            Traceback (most recent call last)",
      "Cell \u001b[1;32mIn[21], line 3\u001b[0m\n\u001b[0;32m      1\u001b[0m d \u001b[38;5;241m=\u001b[39m driver\u001b[38;5;241m.\u001b[39mfind_element(By\u001b[38;5;241m.\u001b[39mCLASS_NAME, \u001b[38;5;124m'\u001b[39m\u001b[38;5;124myesAlertDl\u001b[39m\u001b[38;5;124m'\u001b[39m)\u001b[38;5;241m.\u001b[39mtext\n\u001b[0;32m      2\u001b[0m b \u001b[38;5;241m=\u001b[39m d\u001b[38;5;241m.\u001b[39msplit(\u001b[38;5;124m'\u001b[39m\u001b[38;5;124m>\u001b[39m\u001b[38;5;124m'\u001b[39m)\n\u001b[1;32m----> 3\u001b[0m b \u001b[38;5;241m=\u001b[39m \u001b[43mb\u001b[49m\u001b[38;5;241;43m.\u001b[39;49m\u001b[43msplit\u001b[49m(\u001b[38;5;124m'\u001b[39m\u001b[38;5;130;01m\\n\u001b[39;00m\u001b[38;5;124m'\u001b[39m)\n\u001b[0;32m      4\u001b[0m \u001b[38;5;28mset\u001b[39m(b)\n",
      "\u001b[1;31mAttributeError\u001b[0m: 'list' object has no attribute 'split'"
     ]
    }
   ],
   "source": [
    "d = driver.find_element(By.CLASS_NAME, 'yesAlertDl').text\n",
    "b = d.split('>')\n",
    "b = b.split('\\n')\n",
    "set(b)"
   ]
  },
  {
   "cell_type": "code",
   "execution_count": null,
   "id": "4e9bfca1",
   "metadata": {},
   "outputs": [],
   "source": [
    "# unique 확인"
   ]
  }
 ],
 "metadata": {
  "kernelspec": {
   "display_name": "Python 3 (ipykernel)",
   "language": "python",
   "name": "python3"
  },
  "language_info": {
   "codemirror_mode": {
    "name": "ipython",
    "version": 3
   },
   "file_extension": ".py",
   "mimetype": "text/x-python",
   "name": "python",
   "nbconvert_exporter": "python",
   "pygments_lexer": "ipython3",
   "version": "3.10.9"
  }
 },
 "nbformat": 4,
 "nbformat_minor": 5
}
