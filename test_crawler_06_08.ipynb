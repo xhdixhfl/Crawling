{
 "cells": [
  {
   "cell_type": "markdown",
   "id": "65f55ffa",
   "metadata": {},
   "source": [
    "# setting\n",
    "- 전문 서점 부분 제외 ver"
   ]
  },
  {
   "cell_type": "code",
   "execution_count": 1,
   "id": "644f4c59",
   "metadata": {},
   "outputs": [],
   "source": [
    "# 필수 라이브러리 로딩\n",
    "from selenium import webdriver\n",
    "from selenium.webdriver.chrome.service import Service\n",
    "from selenium.webdriver.common.keys import Keys\n",
    "from selenium.webdriver.common.by import By\n",
    "from selenium.webdriver import ActionChains # 스크롤\n",
    "from urllib import request # 이미지\n",
    "import csv\n",
    "import time\n",
    "\n",
    "import numpy as np # 결측값 삽입용\n",
    "import re # 정규표현식\n",
    "import pandas as pd"
   ]
  },
  {
   "cell_type": "code",
   "execution_count": 2,
   "id": "c38de8b1",
   "metadata": {},
   "outputs": [],
   "source": [
    "## 교재 테이블 리스트들 \n",
    "main_title = []  # 본제\n",
    "sub_title = []  # 부제\n",
    "author = []  # 저자\n",
    "publish = []  # 출판\n",
    "date = []  # 발행일\n",
    "cate = []  # 네이버 카테고리\n",
    "tot_page = []  # 전체 쪽수\n",
    "size = []  # 크기\n",
    "wei = []  # 무게\n",
    "img = [] # 이미지\n",
    "book_info = []  # 책소개\n",
    "book_review = []  # 책서평\n",
    "kobo_cate = []\n",
    "title_isbn = [] # isbn 교재명\n",
    "set_isbn = [] #set\n",
    "isbn = []\n",
    "book_type = [] #제본\n",
    "ver = []  # 판정보\n",
    "last_ver = []  # 이전 판 정보\n",
    "keyword = []  # 키워드\n",
    "price = []\n",
    "\n",
    "index = []\n",
    "idx_page = []"
   ]
  },
  {
   "cell_type": "markdown",
   "id": "42e0bb7b",
   "metadata": {},
   "source": [
    "# 바꾼 부분"
   ]
  },
  {
   "cell_type": "code",
   "execution_count": 3,
   "id": "3ae92694",
   "metadata": {},
   "outputs": [],
   "source": [
    "# # 함수 정의\n",
    "# def page(text,ls):\n",
    "#     x = text.split(' ')\n",
    "#     try:\n",
    "#         if x[-1].isnumeric() == True:\n",
    "#             ls.append(x[-1]) # sub_p\n",
    "#         else:\n",
    "#             ls.append(np.nan)\n",
    "#     except:\n",
    "#         ls.append(np.null)\n",
    "\n",
    "# def naver():\n",
    "#     # 창 전환\n",
    "#     driver.switch_to.window(driver.window_handles[1]) \n",
    "#     time,sleep(2)\n",
    "#     try: # 제목 수집\n",
    "#         main = driver.find_element(By.CLASS_NAME,f'bookTitle_book_name__JuBQ2').text # 본\n",
    "#         sub = driver.find_element(By.CLASS_NAME,f'bookTitle_sub_title__B0uMS').text # 부\n",
    "#     except:\n",
    "#         main = driver.find_element(By.CLASS_NAME,f'bookTitle_title_area__fspvB').text #부제랑 안나눠졌을시\n",
    "#         sub = np.nan\n",
    "    \n",
    "#     # 저자, 출판, 발행일 수집\n",
    "#     info = driver.find_elements(By.CLASS_NAME, \"bookTitle_inner_content__REoK1\")\n",
    "#     aut = info[0].text # 저자\n",
    "#     pub = info[1].text # 출판\n",
    "#     dat = info[2].text # 발행일\n",
    "\n",
    "#     # 책정보(카테고리, 쪽수, 무게 크기, ISBN) 수집\n",
    "#     sub1 = driver.find_elements(By.CLASS_NAME, \"bookBasicInfo_info_detail__I0Fx5\") # 카테고리, ISBN\n",
    "#     sub2 = driver.find_elements(By.CLASS_NAME, \"bookBasicInfo_spec__qmQ_N\") # 쪽수, 크기(무게)\n",
    "#     # cate\n",
    "#     nc = sub1[0].text\n",
    "#     # code\n",
    "#     code = sub1[2].text\n",
    "# #     isbn.append(code) 뒤에 isbn정보 수집떄 어펜드 하기\n",
    "#     # page\n",
    "#     tot_p = sub2[0].text\n",
    "#     # wei\n",
    "#     w = sub2[1].text\n",
    "#     # size\n",
    "#     s = sub2[2].text\n",
    "#     # image\n",
    "#     img_url = driver.find_element(By.XPATH, '//*[@id=\"container\"]/div[2]/div[1]/div[1]/div[1]/div[1]/div/img').get_attribute(\"src\")\n",
    "#     request.urlretrieve(img_url,f\"C:\\\\police_img\\\\{isbn}.jpg\")\n",
    "# #     img.append(f'{isbn}.jpg')\n",
    "#     # 소개\n",
    "#     try:\n",
    "#         text = driver.find_element(By.XPATH, '//*[@id=\"book_section-info\"]/div[3]/div[2]/div[1]').text.split('\\n')\n",
    "#         text = [t for t in text if t != '' ]\n",
    "#         book_info.append(text)\n",
    "#     except:\n",
    "#         book_info.append(np.nan)\n",
    "# #     try:  서평 \n",
    "# #         text = driver.find_element(By.XPATH, '//*[@id=\"book_section-info\"]/div[4]/div[2]/div[1]').text.split('\\n')\n",
    "# #         text = [t for t in text if t != '' ]\n",
    "# #         book_review.append(text)\n",
    "# #     except:\n",
    "# #         book_review.append(np.nan)\n",
    "        \n",
    "#     # 목차\n",
    "#     tee = driver.find_element(By.CSS_SELECTOR, '#book_section-info > div:nth-child(5) > div.infoItem_data_box__VwBf3.infoItem_expand__xBsGl > div.infoItem_data_text__bUgVI').text\n",
    "#     txts = tee.split('\\n')\n",
    "#     txts = [t for t in txts if t != '']\n",
    "#     for t in txts:\n",
    "#         page(t, idx_page)\n",
    "#         index.append(t)\n",
    "#     return isbn"
   ]
  },
  {
   "cell_type": "code",
   "execution_count": 4,
   "id": "9a870836",
   "metadata": {},
   "outputs": [],
   "source": [
    "# 함수 정의\n",
    "def page(text,ls):\n",
    "    x = text.split(' ')\n",
    "    try:\n",
    "        if x[-1].isnumeric() == True:\n",
    "            ls.append(x[-1]) # sub_p\n",
    "        else:\n",
    "            ls.append(np.NaN)\n",
    "    except:\n",
    "        ls.append(np.NaN)\n",
    "\n",
    "def naver():\n",
    "    # 창 전환\n",
    "    driver.switch_to.window(driver.window_handles[1]) \n",
    "    try: # 제목 수집\n",
    "        main_title.append(driver.find_element(By.CLASS_NAME,f'bookTitle_book_name__JuBQ2').text) # 본\n",
    "        sub_title.append(driver.find_element(By.CLASS_NAME,f'bookTitle_sub_title__B0uMS').text) # 부\n",
    "    except:\n",
    "        main_title.append(driver.find_element(By.CLASS_NAME,f'bookTitle_title_area__fspvB').text) #부제랑 안나눠졌을시\n",
    "        sub_title.append(np.NaN)\n",
    "    \n",
    "    # 저자, 출판, 발행일 수집\n",
    "    info = driver.find_elements(By.CLASS_NAME, \"bookTitle_inner_content__REoK1\")\n",
    "    author.append(info[0].text) # 저자\n",
    "    publish.append(info[1].text) # 출판\n",
    "    date.append(info[2].text) # 발행일\n",
    "\n",
    "    # 책정보(카테고리, 쪽수, 무게 크기, ISBN) 수집\n",
    "    sub1 = driver.find_elements(By.CLASS_NAME, \"bookBasicInfo_info_detail__I0Fx5\") # 카테고리, ISBN\n",
    "    sub2 = driver.find_elements(By.CLASS_NAME, \"bookBasicInfo_spec__qmQ_N\") # 쪽수, 크기(무게)\n",
    "    # cate\n",
    "    cate.append(sub1[0].text)\n",
    "    # code\n",
    "    code = sub1[2].text\n",
    "#     isbn.append(code) 뒤에 isbn정보 수집떄 어펜드 하기\n",
    "    # page\n",
    "    tot_page.append(sub2[0].text)\n",
    "    # wei\n",
    "    wei.append(sub2[1].text)\n",
    "    # size\n",
    "    size.append(sub2[2].text)\n",
    "    # image\n",
    "    img_url = driver.find_element(By.XPATH, '//*[@id=\"container\"]/div[2]/div[1]/div[1]/div[1]/div[1]/div/img').get_attribute(\"src\")\n",
    "    time.sleep(2)\n",
    "    request.urlretrieve(img_url,f\"C:\\\\police_img\\\\{code}.jpg\")\n",
    "    img.append(f'{code}.jpg')\n",
    "    # 소개\n",
    "    try:\n",
    "        text = driver.find_element(By.XPATH, '//*[@id=\"book_section-info\"]/div[3]/div[2]/div[1]').text.split('\\n')\n",
    "        text = [t for t in text if t != '' ]\n",
    "        book_info.append(text)\n",
    "    except:\n",
    "        book_info.append(np.NaN)\n",
    "    tag = driver.find_element(By.PARTIAL_LINK_TEXT,'목차')\n",
    "# somthing element까지 스크롤\n",
    "    action = ActionChains(driver)  # 수정한 부분\n",
    "    action.move_to_element(tag).perform()\n",
    "    tag.click()     # 수정한 부분\n",
    "    time.sleep(2)\n",
    "    tee = driver.find_element(By.CSS_SELECTOR, '#book_section-info > div:nth-child(5) > div.infoItem_data_box__VwBf3.infoItem_expand__xBsGl > div.infoItem_data_text__bUgVI').text\n",
    "    txts = tee.split('\\n')\n",
    "    txts = [t for t in txts if t != '']\n",
    "    for t in txts:\n",
    "        page(t, idx_page)\n",
    "        index.append(t)\n",
    "        \n",
    "    return code"
   ]
  },
  {
   "cell_type": "code",
   "execution_count": 5,
   "id": "b883c74d",
   "metadata": {},
   "outputs": [],
   "source": [
    "# 교보문고 함수\n",
    "def kobo():\n",
    "    driver.find_element(By.PARTIAL_LINK_TEXT, '교보').click()\n",
    "    time.sleep(3)\n",
    "\n",
    "    # tap switch\n",
    "    driver.switch_to.window(driver.window_handles[2]) \n",
    "\n",
    "    # 원하는 작업\n",
    "    cate = driver.find_element(By.CLASS_NAME, 'category_list_item').text\n",
    "    tot_cate.append(cate) # 전체 카테\n",
    "    key_cate.append(cate.split(' ')[-1]) # 핵심 카테\n",
    "    time.sleep(2)\n",
    "\n",
    "    driver.close() # 종료\n",
    "    driver.switch_to.window(driver.window_handles[1])"
   ]
  },
  {
   "cell_type": "markdown",
   "id": "b7b4e302",
   "metadata": {},
   "source": [
    "- ISBN은 세트랑 세트가 아닌것이 불리되어야 하니깐, 해당페이지 들어가자 마자\n",
    "resultData의 개수를 카운트해서 하나면 단일 하나 이상이면 세트 권으로 파악을 하자\n",
    "re.sub(r'[^0-9]', '', string)"
   ]
  },
  {
   "cell_type": "code",
   "execution_count": 6,
   "id": "29e5ba80",
   "metadata": {},
   "outputs": [],
   "source": [
    "# def one_isbn():\n",
    "#     # 가격\n",
    "#     pr = driver.find_element(By.XPATH, '//*[@id=\"resultList_div\"]/form/div/div/div/ul/li[6]').text\n",
    "#     price.append(pr.split(' ')[-1])\n",
    "#     driver.find_element(By.XPATH, f'//*[@id=\"resultList_div\"]/form/div[{1}]/div/div/div/a').click()\n",
    "#     time.sleep(3)\n",
    "#     num = driver.find_elements(By.XPATH, '//*[@id=\"contents\"]/div/div[1]/div[2]/div[2]/ul/li/div')\n",
    "#     xpath = driver.find_element(By.XPATH, f'//*[@id=\"contents\"]/div/div[1]/div[2]/div[2]/ul/li[{n}]/strong').text\n",
    "#     for n in range(1, len(num)+1):\n",
    "#         if  xpath == 'ISBN':\n",
    "#             one = driver.find_element(By.XPATH, f'//*[@id=\"contents\"]/div/div[1]/div[2]/div[2]/ul/li[{n}]/div').text\n",
    "#             isbn.append(re.sub(r'[^0-9]', '', one.split(' ')[0]))\n",
    "#         elif xpath == '제본형식':\n",
    "#             book_type.append(driver.find_element(By.XPATH, f'//*[@id=\"contents\"]/div/div[1]/div[2]/div[2]/ul/li[{n}]/div').text)\n",
    "#         elif xpath == '판사항':\n",
    "            \n",
    "#         elif xpath == '이전판 정보':\n",
    "            \n",
    "#         elif xpath == '키워드':\n",
    "            \n",
    "#         elif xpath == '판사항':\n",
    "        \n",
    "            \n",
    "            \n",
    "    \n",
    "#     if len(num) == 11: \n",
    "#     # title\n",
    "#         title_isbn.append(driver.find_element(By.CLASS_NAME, 'themeFC').text)\n",
    "#         # 단일코드\n",
    "#         one = driver.find_element(By.XPATH, '//*[@id=\"contents\"]/div/div[1]/div[2]/div[2]/ul/li[1]/div').text\n",
    "#         isbn.append(re.sub(r'[^0-9]', '', one.split(' ')[0]))\n",
    "#         # 제본\n",
    "#         book_type.append(driver.find_element(By.XPATH, '//*[@id=\"contents\"]/div/div[1]/div[2]/div[2]/ul/li[3]/div').text)\n",
    "#         # 판정보\n",
    "#         ver.append(driver.find_element(By.XPATH, '//*[@id=\"contents\"]/div/div[1]/div[2]/div[2]/ul/li[4]/div').text)\n",
    "#         # 이전판 정보\n",
    "#         last = driver.find_element(By.XPATH, '//*[@id=\"contents\"]/div/div[1]/div[2]/div[2]/ul/li[5]/div').text\n",
    "#         last_ver.append(re.sub(r'[^0-9]', '', last.split(' ')[-1]))\n",
    "#         # 키워드\n",
    "#         keyword.append(driver.find_element(By.XPATH, '//*[@id=\"contents\"]/div/div[1]/div[2]/div[2]/ul/li[11]/div').text)\n",
    "#         # 세트 코드\n",
    "#         set_isbn.append(np.NaN)\n",
    "#     else:\n",
    "        \n",
    "#     driver.close() # 종료\n",
    "#     driver.switch_to.window(driver.window_handles[0])  # 다시 본화면 전환\n"
   ]
  },
  {
   "cell_type": "code",
   "execution_count": 7,
   "id": "3f17c4e7",
   "metadata": {},
   "outputs": [],
   "source": [
    "def one_isbn():\n",
    "    # 가격\n",
    "    pr = driver.find_element(By.XPATH, '//*[@id=\"resultList_div\"]/form/div/div/div/ul/li[6]').text\n",
    "    price.append(pr.split(' ')[-1])\n",
    "    driver.find_element(By.XPATH, f'//*[@id=\"resultList_div\"]/form/div[{1}]/div/div/div/a').click()\n",
    "    time.sleep(3)\n",
    "    num = driver.find_elements(By.XPATH, '//*[@id=\"contents\"]/div/div[1]/div[2]/div[2]/ul/li/div')\n",
    "    if len(num) == 11: \n",
    "    # title\n",
    "        title_isbn.append(driver.find_element(By.XPATH, ' //*[@id=\"contents\"]/div/div[1]/div[1]/text()').text)\n",
    "        # 단일코드\n",
    "        one = driver.find_element(By.XPATH, '//*[@id=\"contents\"]/div/div[1]/div[2]/div[2]/ul/li[1]/div').text\n",
    "        isbn.append(re.sub(r'[^0-9]', '', one.split(' ')[0]))\n",
    "        # 제본\n",
    "        book_type.append(driver.find_element(By.XPATH, '//*[@id=\"contents\"]/div/div[1]/div[2]/div[2]/ul/li[3]/div').text)\n",
    "        # 판정보\n",
    "        ver.append(driver.find_element(By.XPATH, '//*[@id=\"contents\"]/div/div[1]/div[2]/div[2]/ul/li[4]/div').text)\n",
    "        # 이전판 정보\n",
    "        last = driver.find_element(By.XPATH, '//*[@id=\"contents\"]/div/div[1]/div[2]/div[2]/ul/li[5]/div').text\n",
    "        last_ver.append(re.sub(r'[^0-9]', '', last.split(' ')[-1]))\n",
    "        # 키워드\n",
    "        keyword.append(driver.find_element(By.XPATH, '//*[@id=\"contents\"]/div/div[1]/div[2]/div[2]/ul/li[11]/div').text)\n",
    "        # 세트 코드\n",
    "        set_isbn.append(np.NaN)\n",
    "    else:\n",
    "        title_isbn.append(driver.find_element(By.XPATH, ' //*[@id=\"contents\"]/div/div[1]/div[1]/text()').text)\n",
    "        # 단일코드\n",
    "        one = driver.find_element(By.XPATH, '//*[@id=\"contents\"]/div/div[1]/div[2]/div[2]/ul/li[1]/div').text\n",
    "        isbn.append(re.sub(r'[^0-9]', '', one.split(' ')[0]))\n",
    "        set_isbn.append(np.NaN)\n",
    "        for x in [book_type, ver, last_ver, keyword]:\n",
    "            x.append(np.NaN)\n",
    "    # //*[@id=\"contents\"]/div/div[1]/div[2]/div[2]/ul/li[2]/strong\n",
    "    driver.close() # 종료\n",
    "    driver.switch_to.window(driver.window_handles[0])  # 다시 본화면 전환\n"
   ]
  },
  {
   "cell_type": "code",
   "execution_count": 8,
   "id": "f077cd19",
   "metadata": {},
   "outputs": [],
   "source": [
    "def set_code(code):\n",
    "    # 가격\n",
    "    prs = driver.find_elements(By.CLASS_NAME, 'dot-list')\n",
    "    for i in range(len(prs), 0, -1):\n",
    "        # 상품 선택\n",
    "        driver.find_element(By.XPATH, f'//*[@id=\"resultList_div\"]/form/div[{i}]/div/div/div/a').click()\n",
    "        time.sleep(3)\n",
    "        # 안에 정보 수 세기\n",
    "        num = driver.find_elements(By.XPATH, '//*[@id=\"contents\"]/div/div[1]/div[2]/div[2]/ul/li/div')\n",
    "        if len(num) != 12: # 세트 권( 바로 앞에서 네이버 정보를 수집해서 따로 더할 필요 없)\n",
    "            price.append(prs[-1].text.split(' ')[-1])\n",
    "            title_isbn.append(driver.find_element(By.XPATH, ' //*[@id=\"contents\"]/div/div[1]/div[1]/text()').text)\n",
    "            isbn.append(code)\n",
    "            set_isbn.append(code)\n",
    "            for x in [book_type, ver, last_ver, keyword]:\n",
    "                x.append(np.NaN) # 나머지 항목들은 널값처리\n",
    "        else:\n",
    "            one = driver.find_element(By.XPATH, '//*[@id=\"contents\"]/div/div[1]/div[2]/div[2]/ul/li[1]/div').text\n",
    "            isbn_code.append(re.sub(r'[^0-9]', '', one.split(' ')[0]))\n",
    "#             s = driver.find_element(By.XPATH, '//*[@id=\"contents\"]/div/div[1]/div[2]/div[2]/ul/li[2]/div').text\n",
    "            set_isbn.append(code)  # 네이버에서 수집한거\n",
    "            title_isbn.append(driver.find_element(By.XPATH, ' //*[@id=\"contents\"]/div/div[1]/div[1]/text()').text)\n",
    "            # 제본\n",
    "            book_type.append(driver.find_element(By.XPATH, '//*[@id=\"contents\"]/div/div[1]/div[2]/div[2]/ul/li[4]/div').text)\n",
    "            # 판정보\n",
    "            ver.append(driver.find_element(By.XPATH, '//*[@id=\"contents\"]/div/div[1]/div[2]/div[2]/ul/li[5]/div').text)\n",
    "            # 이전판 정보\n",
    "            last = driver.find_element(By.XPATH, '//*[@id=\"contents\"]/div/div[1]/div[2]/div[2]/ul/li[6]/div').text\n",
    "            last_ver.append(re.sub(r'[^0-9]', '', last.split(' ')[-1]))\n",
    "            # 키워드\n",
    "            keyword.append(driver.find_element(By.XPATH, '//*[@id=\"contents\"]/div/div[1]/div[2]/div[2]/ul/li[12]/div').text)\n",
    "            # 가격 외 기타 정보 널값\n",
    "            for x in [price,main_title, sub_title, author,publish,date,cate,tot_page, wei, size,\\\n",
    "                      img, book_info, index, idx_page]:\n",
    "                x.append(np.NaN)\n",
    "            time.sleep(3)\n",
    "        driver.back()  \n",
    "        \n",
    "    driver.close() # 종료\n",
    "    driver.switch_to.window(driver.window_handles[0])  # 다시 본화면 전환"
   ]
  },
  {
   "cell_type": "code",
   "execution_count": 9,
   "id": "8943bc77",
   "metadata": {},
   "outputs": [],
   "source": [
    "#  if len(num) == 12:  # 개별권\n",
    "#             # 마지막이 안일정해서\n",
    "#             one = driver.find_element(By.XPATH, '//*[@id=\"contents\"]/div/div[1]/div[2]/div[2]/ul/li[1]/div').text\n",
    "#             isbn_code.append(re.sub(r'[^0-9]', '', one.split(' ')[0]))\n",
    "# #             s = driver.find_element(By.XPATH, '//*[@id=\"contents\"]/div/div[1]/div[2]/div[2]/ul/li[2]/div').text\n",
    "#             set_isbn.append(code)  # 네이버에서 수집한거\n",
    "#             # 제본\n",
    "#             book_type.append(driver.find_element(By.XPATH, '//*[@id=\"contents\"]/div/div[1]/div[2]/div[2]/ul/li[4]/div').text)\n",
    "#             # 판정보\n",
    "#             ver.append(driver.find_element(By.XPATH, '//*[@id=\"contents\"]/div/div[1]/div[2]/div[2]/ul/li[5]/div').text)\n",
    "#             # 이전판 정보\n",
    "#             last = driver.find_element(By.XPATH, '//*[@id=\"contents\"]/div/div[1]/div[2]/div[2]/ul/li[6]/div').text\n",
    "#             last_ver.append(re.sub(r'[^0-9]', '', last.split(' ')[-1]))\n",
    "#             # 키워드\n",
    "#             keyword.append(driver.find_element(By.XPATH, '//*[@id=\"contents\"]/div/div[1]/div[2]/div[2]/ul/li[12]/div').text)\n",
    "#             # 가격 외 기타 정보 널값\n",
    "#             for x in [price, book_type, ver, last_ver,keyword]:\n",
    "#                 x.append(np.nan)\n",
    "#             time.sleep(2)\n",
    "#         else:  # 세트\n",
    "#             price.append(prs[-1].text.split(' ')[-1])\n",
    "#             one = driver.find_element(By.XPATH, '//*[@id=\"contents\"]/div/div[1]/div[2]/div[2]/ul/li[1]/div').text\n",
    "#             set_isbn.append(re.sub(r'[^0-9]', '', one.split(' ')[0]))  # 여기선 이게 세트\n",
    "#             for x in [isbn_code, book_type, ver, last_ver,keyword]:\n",
    "#                 x.append(np.nan) # 나머지 항목들은 널값처리"
   ]
  },
  {
   "cell_type": "code",
   "execution_count": 10,
   "id": "7e587de6",
   "metadata": {},
   "outputs": [],
   "source": [
    "def search_isbn(code): \n",
    "    driver.get(f'https://www.nl.go.kr/seoji/contents/S80100000000.do?schType=simple&schStr={code}')\n",
    "    time.sleep(3)\n",
    "    num = driver.find_elements(By.CLASS_NAME, 'resultData')\n",
    "    if len(num) == 1: # 단일 경우 함수\n",
    "        one_isbn()\n",
    "    else:\n",
    "        set_code(code)"
   ]
  },
  {
   "cell_type": "code",
   "execution_count": 11,
   "id": "eab102ba",
   "metadata": {},
   "outputs": [],
   "source": [
    "# 첫화면\n",
    "URL = 'https://search.shopping.naver.com/book/search/category?bookTabType=ALL&catId=50005981&pageIndex=1&pageSize=40&sort=DATE'\n",
    "ops = webdriver.ChromeOptions()\n",
    "ops.add_experimental_option('excludeSwitches', ['enable-logging'])\n",
    "\n",
    "sv = Service(executable_path= 'C:\\Data\\chromedriver')\n",
    "driver = webdriver.Chrome(service=sv, options=ops)\n",
    "\n",
    "driver.get(url=URL)"
   ]
  },
  {
   "cell_type": "code",
   "execution_count": 12,
   "id": "e9b757dd",
   "metadata": {},
   "outputs": [],
   "source": [
    "global n\n",
    "n = 2\n",
    "\n",
    "def find():\n",
    "    # 상품 찾는 함수\n",
    "    tag = driver.find_element(By.CLASS_NAME,'style_footer__DaTQt')\n",
    "# somthing element까지 스크롤\n",
    "    action = ActionChains(driver)\n",
    "    action.move_to_element(tag).perform()\n",
    "    time.sleep(2)\n",
    "    elements = driver.find_elements(By.CLASS_NAME,f'bookListItem_vendor__d_xBD')\n",
    "    for i,ele in enumerate(elements):\n",
    "        ele.click()\n",
    "        # 네이버 함수\n",
    "        isbn = naver()\n",
    "        search_isbn(isbn)\n",
    "\n",
    "# 페이지 넘김\n",
    "def action(n):\n",
    "#     driver.get(url=URL)\n",
    "    find()\n",
    "    try:\n",
    "        driver.find_element(By.LINK_TEXT,f'{n}').click()\n",
    "        n += 1\n",
    "        return action(n)\n",
    "        \n",
    "    except:\n",
    "        driver.close()"
   ]
  },
  {
   "cell_type": "code",
   "execution_count": null,
   "id": "0ef641b2",
   "metadata": {},
   "outputs": [],
   "source": [
    "try:\n",
    "    for n in range(2,50):\n",
    "        find()\n",
    "        driver.find_element(By.LINK_TEXT,f'{n}').click()\n",
    "    driver.close()\n",
    "except:\n",
    "    driver.close()\n",
    "        "
   ]
  },
  {
   "cell_type": "code",
   "execution_count": 13,
   "id": "a8e9f9b5",
   "metadata": {},
   "outputs": [],
   "source": [
    "\n",
    "# test_book = pd.DataFrame({'main_title': main_title, 'sub_title':sub_title,'author':author, \\\n",
    "#                           'publish':publish, ,'date':date,'cate':cate, 'isbn':isbn,'tot_page':tot_page\\\n",
    "#                          'size':size, ,'wei':wei,'img':img, ,'book_info':book_info,\\\n",
    "#                          'book_review':book_review, ,'tot_cate':tot_cate,'key_cate':key_cate})\n",
    "# test_isbn = pd.DataFrame({'set_isbn ': set_isbn , 'isbn_code':isbn_code,'book_type':book_type,\\\n",
    "#                           'ver':ver,'last_ver':last_ver,'keyword':keyword, 'price':price})\n",
    "# test_index = pd.DataFrame({'main_title ': main_title , 'isbn':isbn,'idx_page':idx_page,'index':index})\n",
    "\n",
    "\n",
    "# test_book.to_csv('C:/police_img/test_book.xlsx',encoding = 'utf-8-sig', index=False)\n",
    "# test_isbn.to_csv('C:/police_img/test_isbn.xlsx',encoding = 'utf-8-sig', index=False)\n",
    "# test_index.to_csv('C:/police_img/test_index.xlsx',encoding = 'utf-8-sig', index=False)"
   ]
  },
  {
   "cell_type": "code",
   "execution_count": 14,
   "id": "9548f591",
   "metadata": {},
   "outputs": [],
   "source": [
    "action(n)"
   ]
  },
  {
   "cell_type": "code",
   "execution_count": 15,
   "id": "f04a7baa",
   "metadata": {},
   "outputs": [
    {
     "data": {
      "text/plain": [
       "['경찰직', '경찰직', '경찰직', '경찰직', '경찰직']"
      ]
     },
     "execution_count": 15,
     "metadata": {},
     "output_type": "execute_result"
    }
   ],
   "source": [
    "cate"
   ]
  },
  {
   "cell_type": "code",
   "execution_count": 16,
   "id": "59994502",
   "metadata": {},
   "outputs": [
    {
     "ename": "ValueError",
     "evalue": "All arrays must be of the same length",
     "output_type": "error",
     "traceback": [
      "\u001b[1;31m---------------------------------------------------------------------------\u001b[0m",
      "\u001b[1;31mValueError\u001b[0m                                Traceback (most recent call last)",
      "Cell \u001b[1;32mIn[16], line 1\u001b[0m\n\u001b[1;32m----> 1\u001b[0m test \u001b[38;5;241m=\u001b[39m \u001b[43mpd\u001b[49m\u001b[38;5;241;43m.\u001b[39;49m\u001b[43mDataFrame\u001b[49m\u001b[43m(\u001b[49m\u001b[43m{\u001b[49m\u001b[38;5;124;43m'\u001b[39;49m\u001b[38;5;124;43mmain_title\u001b[39;49m\u001b[38;5;124;43m'\u001b[39;49m\u001b[43m:\u001b[49m\u001b[43m \u001b[49m\u001b[43mmain_title\u001b[49m\u001b[43m,\u001b[49m\u001b[43m \u001b[49m\u001b[38;5;124;43m'\u001b[39;49m\u001b[38;5;124;43msub_title\u001b[39;49m\u001b[38;5;124;43m'\u001b[39;49m\u001b[43m:\u001b[49m\u001b[43msub_title\u001b[49m\u001b[43m,\u001b[49m\u001b[38;5;124;43m'\u001b[39;49m\u001b[38;5;124;43mauthor\u001b[39;49m\u001b[38;5;124;43m'\u001b[39;49m\u001b[43m:\u001b[49m\u001b[43mauthor\u001b[49m\u001b[43m,\u001b[49m\u001b[38;5;124;43m'\u001b[39;49m\u001b[38;5;124;43mpublish\u001b[39;49m\u001b[38;5;124;43m'\u001b[39;49m\u001b[43m:\u001b[49m\u001b[43mpublish\u001b[49m\u001b[43m,\u001b[49m\u001b[43m\\\u001b[49m\n\u001b[0;32m      2\u001b[0m \u001b[43m                        \u001b[49m\u001b[38;5;124;43m'\u001b[39;49m\u001b[38;5;124;43mdate\u001b[39;49m\u001b[38;5;124;43m'\u001b[39;49m\u001b[43m:\u001b[49m\u001b[43mdate\u001b[49m\u001b[43m,\u001b[49m\u001b[38;5;124;43m'\u001b[39;49m\u001b[38;5;124;43mcate\u001b[39;49m\u001b[38;5;124;43m'\u001b[39;49m\u001b[43m:\u001b[49m\u001b[43mcate\u001b[49m\u001b[43m,\u001b[49m\u001b[43m \u001b[49m\u001b[38;5;124;43m'\u001b[39;49m\u001b[38;5;124;43mtot_page\u001b[39;49m\u001b[38;5;124;43m'\u001b[39;49m\u001b[43m:\u001b[49m\u001b[43mtot_page\u001b[49m\u001b[43m,\u001b[49m\u001b[38;5;124;43m'\u001b[39;49m\u001b[38;5;124;43msize\u001b[39;49m\u001b[38;5;124;43m'\u001b[39;49m\u001b[43m:\u001b[49m\u001b[43msize\u001b[49m\u001b[43m,\u001b[49m\u001b[43m \u001b[49m\u001b[38;5;124;43m'\u001b[39;49m\u001b[38;5;124;43mwei\u001b[39;49m\u001b[38;5;124;43m'\u001b[39;49m\u001b[43m:\u001b[49m\u001b[43mwei\u001b[49m\u001b[43m,\u001b[49m\u001b[43m\\\u001b[49m\n\u001b[0;32m      3\u001b[0m \u001b[43m                         \u001b[49m\u001b[38;5;124;43m'\u001b[39;49m\u001b[38;5;124;43mimg\u001b[39;49m\u001b[38;5;124;43m'\u001b[39;49m\u001b[43m:\u001b[49m\u001b[43mimg\u001b[49m\u001b[43m,\u001b[49m\u001b[43m \u001b[49m\u001b[38;5;124;43m'\u001b[39;49m\u001b[38;5;124;43mbook_info\u001b[39;49m\u001b[38;5;124;43m'\u001b[39;49m\u001b[43m:\u001b[49m\u001b[43mbook_info\u001b[49m\u001b[43m,\u001b[49m\u001b[43m\\\u001b[49m\n\u001b[0;32m      4\u001b[0m \u001b[43m                         \u001b[49m\u001b[38;5;124;43m'\u001b[39;49m\u001b[38;5;124;43mset_isbn\u001b[39;49m\u001b[38;5;124;43m'\u001b[39;49m\u001b[43m:\u001b[49m\u001b[43mset_isbn\u001b[49m\u001b[43m,\u001b[49m\u001b[43m \u001b[49m\u001b[38;5;124;43m'\u001b[39;49m\u001b[38;5;124;43misbn\u001b[39;49m\u001b[38;5;124;43m'\u001b[39;49m\u001b[43m:\u001b[49m\u001b[43misbn\u001b[49m\u001b[43m,\u001b[49m\u001b[38;5;124;43m'\u001b[39;49m\u001b[38;5;124;43mtitle_isbn\u001b[39;49m\u001b[38;5;124;43m'\u001b[39;49m\u001b[43m:\u001b[49m\u001b[43mtitle_isbn\u001b[49m\u001b[43m,\u001b[49m\u001b[38;5;124;43m'\u001b[39;49m\u001b[38;5;124;43mprice\u001b[39;49m\u001b[38;5;124;43m'\u001b[39;49m\u001b[43m:\u001b[49m\u001b[43mprice\u001b[49m\u001b[43m,\u001b[49m\u001b[43m\\\u001b[49m\n\u001b[0;32m      5\u001b[0m \u001b[43m                    \u001b[49m\u001b[38;5;124;43m'\u001b[39;49m\u001b[38;5;124;43mbook_type\u001b[39;49m\u001b[38;5;124;43m'\u001b[39;49m\u001b[43m:\u001b[49m\u001b[43mbook_type\u001b[49m\u001b[43m,\u001b[49m\u001b[43m \u001b[49m\u001b[38;5;124;43m'\u001b[39;49m\u001b[38;5;124;43mver\u001b[39;49m\u001b[38;5;124;43m'\u001b[39;49m\u001b[43m:\u001b[49m\u001b[43mver\u001b[49m\u001b[43m,\u001b[49m\u001b[38;5;124;43m'\u001b[39;49m\u001b[38;5;124;43mlast_ver\u001b[39;49m\u001b[38;5;124;43m'\u001b[39;49m\u001b[43m:\u001b[49m\u001b[43mlast_ver\u001b[49m\u001b[43m,\u001b[49m\u001b[38;5;124;43m'\u001b[39;49m\u001b[38;5;124;43mkeyword\u001b[39;49m\u001b[38;5;124;43m'\u001b[39;49m\u001b[43m:\u001b[49m\u001b[43mkeyword\u001b[49m\u001b[43m}\u001b[49m\u001b[43m)\u001b[49m\n\u001b[0;32m      6\u001b[0m test\u001b[38;5;241m.\u001b[39mto_excel(\u001b[38;5;124m'\u001b[39m\u001b[38;5;124mC:/police_data/test.xlsx\u001b[39m\u001b[38;5;124m'\u001b[39m,encoding \u001b[38;5;241m=\u001b[39m \u001b[38;5;124m'\u001b[39m\u001b[38;5;124mutf-8-sig\u001b[39m\u001b[38;5;124m'\u001b[39m, index\u001b[38;5;241m=\u001b[39m\u001b[38;5;28;01mFalse\u001b[39;00m)\n",
      "File \u001b[1;32mC:\\Data\\conda\\lib\\site-packages\\pandas\\core\\frame.py:664\u001b[0m, in \u001b[0;36mDataFrame.__init__\u001b[1;34m(self, data, index, columns, dtype, copy)\u001b[0m\n\u001b[0;32m    658\u001b[0m     mgr \u001b[38;5;241m=\u001b[39m \u001b[38;5;28mself\u001b[39m\u001b[38;5;241m.\u001b[39m_init_mgr(\n\u001b[0;32m    659\u001b[0m         data, axes\u001b[38;5;241m=\u001b[39m{\u001b[38;5;124m\"\u001b[39m\u001b[38;5;124mindex\u001b[39m\u001b[38;5;124m\"\u001b[39m: index, \u001b[38;5;124m\"\u001b[39m\u001b[38;5;124mcolumns\u001b[39m\u001b[38;5;124m\"\u001b[39m: columns}, dtype\u001b[38;5;241m=\u001b[39mdtype, copy\u001b[38;5;241m=\u001b[39mcopy\n\u001b[0;32m    660\u001b[0m     )\n\u001b[0;32m    662\u001b[0m \u001b[38;5;28;01melif\u001b[39;00m \u001b[38;5;28misinstance\u001b[39m(data, \u001b[38;5;28mdict\u001b[39m):\n\u001b[0;32m    663\u001b[0m     \u001b[38;5;66;03m# GH#38939 de facto copy defaults to False only in non-dict cases\u001b[39;00m\n\u001b[1;32m--> 664\u001b[0m     mgr \u001b[38;5;241m=\u001b[39m \u001b[43mdict_to_mgr\u001b[49m\u001b[43m(\u001b[49m\u001b[43mdata\u001b[49m\u001b[43m,\u001b[49m\u001b[43m \u001b[49m\u001b[43mindex\u001b[49m\u001b[43m,\u001b[49m\u001b[43m \u001b[49m\u001b[43mcolumns\u001b[49m\u001b[43m,\u001b[49m\u001b[43m \u001b[49m\u001b[43mdtype\u001b[49m\u001b[38;5;241;43m=\u001b[39;49m\u001b[43mdtype\u001b[49m\u001b[43m,\u001b[49m\u001b[43m \u001b[49m\u001b[43mcopy\u001b[49m\u001b[38;5;241;43m=\u001b[39;49m\u001b[43mcopy\u001b[49m\u001b[43m,\u001b[49m\u001b[43m \u001b[49m\u001b[43mtyp\u001b[49m\u001b[38;5;241;43m=\u001b[39;49m\u001b[43mmanager\u001b[49m\u001b[43m)\u001b[49m\n\u001b[0;32m    665\u001b[0m \u001b[38;5;28;01melif\u001b[39;00m \u001b[38;5;28misinstance\u001b[39m(data, ma\u001b[38;5;241m.\u001b[39mMaskedArray):\n\u001b[0;32m    666\u001b[0m     \u001b[38;5;28;01mimport\u001b[39;00m \u001b[38;5;21;01mnumpy\u001b[39;00m\u001b[38;5;21;01m.\u001b[39;00m\u001b[38;5;21;01mma\u001b[39;00m\u001b[38;5;21;01m.\u001b[39;00m\u001b[38;5;21;01mmrecords\u001b[39;00m \u001b[38;5;28;01mas\u001b[39;00m \u001b[38;5;21;01mmrecords\u001b[39;00m\n",
      "File \u001b[1;32mC:\\Data\\conda\\lib\\site-packages\\pandas\\core\\internals\\construction.py:493\u001b[0m, in \u001b[0;36mdict_to_mgr\u001b[1;34m(data, index, columns, dtype, typ, copy)\u001b[0m\n\u001b[0;32m    489\u001b[0m     \u001b[38;5;28;01melse\u001b[39;00m:\n\u001b[0;32m    490\u001b[0m         \u001b[38;5;66;03m# dtype check to exclude e.g. range objects, scalars\u001b[39;00m\n\u001b[0;32m    491\u001b[0m         arrays \u001b[38;5;241m=\u001b[39m [x\u001b[38;5;241m.\u001b[39mcopy() \u001b[38;5;28;01mif\u001b[39;00m \u001b[38;5;28mhasattr\u001b[39m(x, \u001b[38;5;124m\"\u001b[39m\u001b[38;5;124mdtype\u001b[39m\u001b[38;5;124m\"\u001b[39m) \u001b[38;5;28;01melse\u001b[39;00m x \u001b[38;5;28;01mfor\u001b[39;00m x \u001b[38;5;129;01min\u001b[39;00m arrays]\n\u001b[1;32m--> 493\u001b[0m \u001b[38;5;28;01mreturn\u001b[39;00m \u001b[43marrays_to_mgr\u001b[49m\u001b[43m(\u001b[49m\u001b[43marrays\u001b[49m\u001b[43m,\u001b[49m\u001b[43m \u001b[49m\u001b[43mcolumns\u001b[49m\u001b[43m,\u001b[49m\u001b[43m \u001b[49m\u001b[43mindex\u001b[49m\u001b[43m,\u001b[49m\u001b[43m \u001b[49m\u001b[43mdtype\u001b[49m\u001b[38;5;241;43m=\u001b[39;49m\u001b[43mdtype\u001b[49m\u001b[43m,\u001b[49m\u001b[43m \u001b[49m\u001b[43mtyp\u001b[49m\u001b[38;5;241;43m=\u001b[39;49m\u001b[43mtyp\u001b[49m\u001b[43m,\u001b[49m\u001b[43m \u001b[49m\u001b[43mconsolidate\u001b[49m\u001b[38;5;241;43m=\u001b[39;49m\u001b[43mcopy\u001b[49m\u001b[43m)\u001b[49m\n",
      "File \u001b[1;32mC:\\Data\\conda\\lib\\site-packages\\pandas\\core\\internals\\construction.py:118\u001b[0m, in \u001b[0;36marrays_to_mgr\u001b[1;34m(arrays, columns, index, dtype, verify_integrity, typ, consolidate)\u001b[0m\n\u001b[0;32m    115\u001b[0m \u001b[38;5;28;01mif\u001b[39;00m verify_integrity:\n\u001b[0;32m    116\u001b[0m     \u001b[38;5;66;03m# figure out the index, if necessary\u001b[39;00m\n\u001b[0;32m    117\u001b[0m     \u001b[38;5;28;01mif\u001b[39;00m index \u001b[38;5;129;01mis\u001b[39;00m \u001b[38;5;28;01mNone\u001b[39;00m:\n\u001b[1;32m--> 118\u001b[0m         index \u001b[38;5;241m=\u001b[39m \u001b[43m_extract_index\u001b[49m\u001b[43m(\u001b[49m\u001b[43marrays\u001b[49m\u001b[43m)\u001b[49m\n\u001b[0;32m    119\u001b[0m     \u001b[38;5;28;01melse\u001b[39;00m:\n\u001b[0;32m    120\u001b[0m         index \u001b[38;5;241m=\u001b[39m ensure_index(index)\n",
      "File \u001b[1;32mC:\\Data\\conda\\lib\\site-packages\\pandas\\core\\internals\\construction.py:666\u001b[0m, in \u001b[0;36m_extract_index\u001b[1;34m(data)\u001b[0m\n\u001b[0;32m    664\u001b[0m lengths \u001b[38;5;241m=\u001b[39m \u001b[38;5;28mlist\u001b[39m(\u001b[38;5;28mset\u001b[39m(raw_lengths))\n\u001b[0;32m    665\u001b[0m \u001b[38;5;28;01mif\u001b[39;00m \u001b[38;5;28mlen\u001b[39m(lengths) \u001b[38;5;241m>\u001b[39m \u001b[38;5;241m1\u001b[39m:\n\u001b[1;32m--> 666\u001b[0m     \u001b[38;5;28;01mraise\u001b[39;00m \u001b[38;5;167;01mValueError\u001b[39;00m(\u001b[38;5;124m\"\u001b[39m\u001b[38;5;124mAll arrays must be of the same length\u001b[39m\u001b[38;5;124m\"\u001b[39m)\n\u001b[0;32m    668\u001b[0m \u001b[38;5;28;01mif\u001b[39;00m have_dicts:\n\u001b[0;32m    669\u001b[0m     \u001b[38;5;28;01mraise\u001b[39;00m \u001b[38;5;167;01mValueError\u001b[39;00m(\n\u001b[0;32m    670\u001b[0m         \u001b[38;5;124m\"\u001b[39m\u001b[38;5;124mMixing dicts with non-Series may lead to ambiguous ordering.\u001b[39m\u001b[38;5;124m\"\u001b[39m\n\u001b[0;32m    671\u001b[0m     )\n",
      "\u001b[1;31mValueError\u001b[0m: All arrays must be of the same length"
     ]
    }
   ],
   "source": [
    "test = pd.DataFrame({'main_title': main_title, 'sub_title':sub_title,'author':author,'publish':publish,\\\n",
    "                        'date':date,'cate':cate, 'tot_page':tot_page,'size':size, 'wei':wei,\\\n",
    "                         'img':img, 'book_info':book_info,\\\n",
    "                         'set_isbn':set_isbn, 'isbn':isbn,'title_isbn':title_isbn,'price':price,\\\n",
    "                    'book_type':book_type, 'ver':ver,'last_ver':last_ver,'keyword':keyword})\n",
    "test.to_excel('C:/police_data/test.xlsx',encoding = 'utf-8-sig', index=False)"
   ]
  },
  {
   "cell_type": "code",
   "execution_count": 21,
   "id": "ed6d6c65",
   "metadata": {},
   "outputs": [
    {
     "data": {
      "text/plain": [
       "(['2023 경찰 헌법집중 기출해설',\n",
       "  '한 권으로 끝내는 경찰범죄학(기본서)',\n",
       "  '2023 전효진 경찰헌법 8421 문제집 : 2차 시험 대비',\n",
       "  '2023 ACL 김춘환 경찰 민법총칙 예상적중문제선',\n",
       "  '2024 김승봉 형사소송법 서브노트'],\n",
       " ['9791166184604', '9791197865367', '9791167930927', '9791165234331'],\n",
       " ['종이책 - 무선제본', nan, nan, nan],\n",
       " ['경찰간부 일반경찰 시험 대비',\n",
       "  '기본서',\n",
       "  '경험에서 나오는 합격 멘토링',\n",
       "  '합격을 위한 마지막 60일',\n",
       "  '경찰승진, 7·9급 국가직, 교정직 대비'])"
      ]
     },
     "execution_count": 21,
     "metadata": {},
     "output_type": "execute_result"
    }
   ],
   "source": [
    "main_title, isbn,book_type,sub_title"
   ]
  },
  {
   "cell_type": "code",
   "execution_count": 18,
   "id": "5fcff055",
   "metadata": {},
   "outputs": [
    {
     "data": {
      "text/plain": [
       "[nan, nan, nan, nan]"
      ]
     },
     "execution_count": 18,
     "metadata": {},
     "output_type": "execute_result"
    }
   ],
   "source": [
    "set_isbn"
   ]
  },
  {
   "cell_type": "code",
   "execution_count": 19,
   "id": "9e8ceff4",
   "metadata": {},
   "outputs": [
    {
     "data": {
      "text/plain": [
       "(['737g', '0g', '0g', '0g', '188*257*20mm'],\n",
       " ['190*260*16mm', '188*257*30mm', '215*297*20mm', '190*260*15mm'],\n",
       " ['388쪽', '444쪽', '224쪽', '84쪽', '220쪽'])"
      ]
     },
     "execution_count": 19,
     "metadata": {},
     "output_type": "execute_result"
    }
   ],
   "source": [
    "wei,size, tot_page"
   ]
  },
  {
   "cell_type": "code",
   "execution_count": 20,
   "id": "4bb6c218",
   "metadata": {},
   "outputs": [
    {
     "data": {
      "text/plain": [
       "['[종이책]', '[종이책]', '[종이책]', '[종이책]']"
      ]
     },
     "execution_count": 20,
     "metadata": {},
     "output_type": "execute_result"
    }
   ],
   "source": [
    "title_isbn"
   ]
  },
  {
   "cell_type": "code",
   "execution_count": null,
   "id": "00db0b8e",
   "metadata": {},
   "outputs": [],
   "source": [
    "tag = driver.find_element(By.CLASS_NAME,'style_footer__DaTQt')\n",
    "# somthing element까지 스크롤\n",
    "action = ActionChains(driver)\n",
    "action.move_to_element(tag).perform()\n",
    "time.sleep(2)\n",
    "elements = driver.find_elements(By.CLASS_NAME,f'bookListItem_vendor__d_xBD')\n",
    "for i,ele in enumerate(elements):\n",
    "    ele.click()\n",
    "        # 네이버 함수\n",
    "    isbn = naver()\n",
    "    print(isbn)\n",
    "    search_isbn(isbn)"
   ]
  },
  {
   "cell_type": "code",
   "execution_count": null,
   "id": "4bd6d62d",
   "metadata": {},
   "outputs": [],
   "source": []
  }
 ],
 "metadata": {
  "kernelspec": {
   "display_name": "Python 3 (ipykernel)",
   "language": "python",
   "name": "python3"
  },
  "language_info": {
   "codemirror_mode": {
    "name": "ipython",
    "version": 3
   },
   "file_extension": ".py",
   "mimetype": "text/x-python",
   "name": "python",
   "nbconvert_exporter": "python",
   "pygments_lexer": "ipython3",
   "version": "3.10.9"
  }
 },
 "nbformat": 4,
 "nbformat_minor": 5
}
