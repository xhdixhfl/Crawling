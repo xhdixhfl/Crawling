{
 "cells": [
  {
   "cell_type": "code",
   "execution_count": 134,
   "id": "8efc343e",
   "metadata": {},
   "outputs": [],
   "source": [
    "# 필수 라이브러리 로딩\n",
    "from selenium import webdriver\n",
    "from selenium.webdriver.chrome.service import Service\n",
    "from selenium.webdriver.common.keys import Keys\n",
    "from selenium.webdriver.common.by import By\n",
    "from urllib import request # 이미지\n",
    "import csv\n",
    "import time\n",
    "\n",
    "import numpy as np # 결측값 삽입용"
   ]
  },
  {
   "cell_type": "code",
   "execution_count": 1,
   "id": "5f78a155",
   "metadata": {},
   "outputs": [
    {
     "ename": "NameError",
     "evalue": "name 'webdriver' is not defined",
     "output_type": "error",
     "traceback": [
      "\u001b[1;31m---------------------------------------------------------------------------\u001b[0m",
      "\u001b[1;31mNameError\u001b[0m                                 Traceback (most recent call last)",
      "Cell \u001b[1;32mIn[1], line 4\u001b[0m\n\u001b[0;32m      1\u001b[0m \u001b[38;5;66;03m# driver 설정\u001b[39;00m\n\u001b[0;32m      2\u001b[0m \u001b[38;5;66;03m## 첫화면\u001b[39;00m\n\u001b[0;32m      3\u001b[0m URL \u001b[38;5;241m=\u001b[39m \u001b[38;5;124m'\u001b[39m\u001b[38;5;124mhttps://search.shopping.naver.com/book/search/category?bookTabType=ALL&catId=50005981&pageIndex=1&pageSize=40&sort=DATE\u001b[39m\u001b[38;5;124m'\u001b[39m\n\u001b[1;32m----> 4\u001b[0m ops \u001b[38;5;241m=\u001b[39m \u001b[43mwebdriver\u001b[49m\u001b[38;5;241m.\u001b[39mChromeOptions()\n\u001b[0;32m      5\u001b[0m ops\u001b[38;5;241m.\u001b[39madd_experimental_option(\u001b[38;5;124m'\u001b[39m\u001b[38;5;124mexcludeSwitches\u001b[39m\u001b[38;5;124m'\u001b[39m, [\u001b[38;5;124m'\u001b[39m\u001b[38;5;124menable-logging\u001b[39m\u001b[38;5;124m'\u001b[39m])\n\u001b[0;32m      7\u001b[0m sv \u001b[38;5;241m=\u001b[39m Service(executable_path\u001b[38;5;241m=\u001b[39m \u001b[38;5;124m'\u001b[39m\u001b[38;5;124mC:\u001b[39m\u001b[38;5;124m\\\u001b[39m\u001b[38;5;124mData\u001b[39m\u001b[38;5;124m\\\u001b[39m\u001b[38;5;124mchromedriver\u001b[39m\u001b[38;5;124m'\u001b[39m)\n",
      "\u001b[1;31mNameError\u001b[0m: name 'webdriver' is not defined"
     ]
    }
   ],
   "source": [
    "# driver 설정\n",
    "## 첫화면\n",
    "URL = 'https://search.shopping.naver.com/book/search/category?bookTabType=ALL&catId=50005981&pageIndex=1&pageSize=40&sort=DATE'\n",
    "ops = webdriver.ChromeOptions()\n",
    "ops.add_experimental_option('excludeSwitches', ['enable-logging'])\n",
    "\n",
    "sv = Service(executable_path= 'C:\\Data\\chromedriver')\n",
    "driver = webdriver.Chrome(service=sv, options=ops)\n",
    "\n",
    "driver.get(url=URL)"
   ]
  },
  {
   "cell_type": "code",
   "execution_count": 4,
   "id": "26f8dec7",
   "metadata": {},
   "outputs": [],
   "source": [
    "# 상품 선택, 셀렉터\n",
    "driver.find_element(By.CSS_SELECTOR,f'#book_list > ul > li:nth-child(1) > div > div > div > a > div.bookListItem_vendor__d_xBD').click() "
   ]
  },
  {
   "cell_type": "markdown",
   "id": "24112da8",
   "metadata": {},
   "source": [
    "## 타깃 상품들만 선택\n",
    "- 상품들을 ele로 넣어서 클릭시 개별 페이지들이 선택되어 출력됨\n",
    "- 조건 : 스크롤로 이미 확인한 페이지여야함\n"
   ]
  },
  {
   "cell_type": "code",
   "execution_count": 8,
   "id": "f27aee43",
   "metadata": {
    "scrolled": true
   },
   "outputs": [
    {
     "name": "stdout",
     "output_type": "stream",
     "text": [
      "0번쨰\n",
      "1번쨰\n",
      "2번쨰\n",
      "3번쨰\n",
      "4번쨰\n"
     ]
    }
   ],
   "source": [
    "# 상품 선택, 클래스 명\n",
    "elements = driver.find_elements(By.CLASS_NAME,f'bookListItem_vendor__d_xBD')\n",
    "for i,ele in enumerate(elements):\n",
    "    ele.click()\n",
    "    print(f'{i}번쨰')"
   ]
  },
  {
   "cell_type": "code",
   "execution_count": 15,
   "id": "69021de6",
   "metadata": {
    "scrolled": true
   },
   "outputs": [
    {
     "name": "stdout",
     "output_type": "stream",
     "text": [
      "3\n",
      "0번쨰\n",
      "1번쨰\n",
      "2번쨰\n",
      "3번쨰\n",
      "4번쨰\n"
     ]
    }
   ],
   "source": [
    "# 그럼 밑단 요소를 찾은 후 셀렉 하면 되지 않을까?\n",
    "# 2페이지에서 체크해봄\n",
    "# driver.find_element(By.CLASS_NAME,f'Paginator_list_paging__OTDcR') # 밑단 페이지 번호 찾기\n",
    "x = driver.find_element(By.CLASS_NAME,f'Paginator_active__EWE51').text\n",
    "print(x)\n",
    "# 요소 확인\n",
    "elements = driver.find_elements(By.CLASS_NAME,f'bookListItem_vendor__d_xBD')\n",
    "for i,ele in enumerate(elements):\n",
    "    ele.click()\n",
    "    print(f'{i}번쨰')"
   ]
  },
  {
   "cell_type": "markdown",
   "id": "79da817a",
   "metadata": {},
   "source": [
    "- 위 방법은 전체로 못가져옴"
   ]
  },
  {
   "cell_type": "code",
   "execution_count": 28,
   "id": "4ee88dab",
   "metadata": {},
   "outputs": [],
   "source": [
    "# 페이지 스크롤 내린후 해보기\n",
    "body = driver.find_element(By.CSS_SELECTOR, 'body') \n",
    "for i in range(10):\n",
    "    body.send_keys(Keys.PAGE_DOWN) # 페이지 다운\n",
    "    time.sleep(1)\n",
    "\n",
    "# 요소 확인\n",
    "elements = driver.find_elements(By.CLASS_NAME,f'bookListItem_vendor__d_xBD')\n",
    "for i,ele in enumerate(elements):\n",
    "    ele.text\n",
    "    print(f'{i}번쨰')"
   ]
  },
  {
   "cell_type": "markdown",
   "id": "f5e0f15e",
   "metadata": {},
   "source": [
    "- 9번 스크롤 다운하면 하단 페이지까지 옴\n",
    "- 모든 판매처 확인 가능"
   ]
  },
  {
   "cell_type": "markdown",
   "id": "fd7d165e",
   "metadata": {},
   "source": [
    "# 해당 페이지에 필요한 요소 선택\n",
    "## 제목"
   ]
  },
  {
   "cell_type": "code",
   "execution_count": 35,
   "id": "1ea56e38",
   "metadata": {
    "scrolled": true
   },
   "outputs": [
    {
     "name": "stdout",
     "output_type": "stream",
     "text": [
      "2023 경찰 헌법집중 기출해설 (경찰간부 일반경찰 시험 대비)\n"
     ]
    }
   ],
   "source": [
    "x = driver.find_element(By.CLASS_NAME,f'bookListItem_text__bglOw').text\n",
    "print(x)\n"
   ]
  },
  {
   "cell_type": "markdown",
   "id": "fa9c76ab",
   "metadata": {},
   "source": [
    "- 흠 클릭한 화면에서의 서치는 안됐고, 본문에서는 수집이 가능함\n",
    "- 그러면 내부 클릭후 바로 찾으면 되려나?"
   ]
  },
  {
   "cell_type": "code",
   "execution_count": 37,
   "id": "511809c7",
   "metadata": {},
   "outputs": [
    {
     "ename": "NoSuchElementException",
     "evalue": "Message: no such element: Unable to locate element: {\"method\":\"css selector\",\"selector\":\".bookTitle_book_name__JuBQ2\"}\n  (Session info: chrome=114.0.5735.91)\nStacktrace:\nBacktrace:\n\tGetHandleVerifier [0x0062A813+48355]\n\t(No symbol) [0x005BC4B1]\n\t(No symbol) [0x004C5358]\n\t(No symbol) [0x004F09A5]\n\t(No symbol) [0x004F0B3B]\n\t(No symbol) [0x0051E232]\n\t(No symbol) [0x0050A784]\n\t(No symbol) [0x0051C922]\n\t(No symbol) [0x0050A536]\n\t(No symbol) [0x004E82DC]\n\t(No symbol) [0x004E93DD]\n\tGetHandleVerifier [0x0088AABD+2539405]\n\tGetHandleVerifier [0x008CA78F+2800735]\n\tGetHandleVerifier [0x008C456C+2775612]\n\tGetHandleVerifier [0x006B51E0+616112]\n\t(No symbol) [0x005C5F8C]\n\t(No symbol) [0x005C2328]\n\t(No symbol) [0x005C240B]\n\t(No symbol) [0x005B4FF7]\n\tBaseThreadInitThunk [0x756E7D59+25]\n\tRtlInitializeExceptionChain [0x76F9B74B+107]\n\tRtlClearBits [0x76F9B6CF+191]\n",
     "output_type": "error",
     "traceback": [
      "\u001b[1;31m---------------------------------------------------------------------------\u001b[0m",
      "\u001b[1;31mNoSuchElementException\u001b[0m                    Traceback (most recent call last)",
      "Cell \u001b[1;32mIn[37], line 2\u001b[0m\n\u001b[0;32m      1\u001b[0m driver\u001b[38;5;241m.\u001b[39mfind_element(By\u001b[38;5;241m.\u001b[39mCLASS_NAME,\u001b[38;5;124mf\u001b[39m\u001b[38;5;124m'\u001b[39m\u001b[38;5;124mbookListItem_vendor__d_xBD\u001b[39m\u001b[38;5;124m'\u001b[39m)\u001b[38;5;241m.\u001b[39mclick()\n\u001b[1;32m----> 2\u001b[0m x \u001b[38;5;241m=\u001b[39m \u001b[43mdriver\u001b[49m\u001b[38;5;241;43m.\u001b[39;49m\u001b[43mfind_element\u001b[49m\u001b[43m(\u001b[49m\u001b[43mBy\u001b[49m\u001b[38;5;241;43m.\u001b[39;49m\u001b[43mCLASS_NAME\u001b[49m\u001b[43m,\u001b[49m\u001b[38;5;124;43mf\u001b[39;49m\u001b[38;5;124;43m'\u001b[39;49m\u001b[38;5;124;43mbookTitle_book_name__JuBQ2\u001b[39;49m\u001b[38;5;124;43m'\u001b[39;49m\u001b[43m)\u001b[49m\u001b[38;5;241m.\u001b[39mtext\n\u001b[0;32m      3\u001b[0m \u001b[38;5;28mprint\u001b[39m(x)\n",
      "File \u001b[1;32mC:\\Data\\conda\\lib\\site-packages\\selenium\\webdriver\\remote\\webdriver.py:831\u001b[0m, in \u001b[0;36mWebDriver.find_element\u001b[1;34m(self, by, value)\u001b[0m\n\u001b[0;32m    828\u001b[0m     by \u001b[38;5;241m=\u001b[39m By\u001b[38;5;241m.\u001b[39mCSS_SELECTOR\n\u001b[0;32m    829\u001b[0m     value \u001b[38;5;241m=\u001b[39m \u001b[38;5;124mf\u001b[39m\u001b[38;5;124m'\u001b[39m\u001b[38;5;124m[name=\u001b[39m\u001b[38;5;124m\"\u001b[39m\u001b[38;5;132;01m{\u001b[39;00mvalue\u001b[38;5;132;01m}\u001b[39;00m\u001b[38;5;124m\"\u001b[39m\u001b[38;5;124m]\u001b[39m\u001b[38;5;124m'\u001b[39m\n\u001b[1;32m--> 831\u001b[0m \u001b[38;5;28;01mreturn\u001b[39;00m \u001b[38;5;28;43mself\u001b[39;49m\u001b[38;5;241;43m.\u001b[39;49m\u001b[43mexecute\u001b[49m\u001b[43m(\u001b[49m\u001b[43mCommand\u001b[49m\u001b[38;5;241;43m.\u001b[39;49m\u001b[43mFIND_ELEMENT\u001b[49m\u001b[43m,\u001b[49m\u001b[43m \u001b[49m\u001b[43m{\u001b[49m\u001b[38;5;124;43m\"\u001b[39;49m\u001b[38;5;124;43musing\u001b[39;49m\u001b[38;5;124;43m\"\u001b[39;49m\u001b[43m:\u001b[49m\u001b[43m \u001b[49m\u001b[43mby\u001b[49m\u001b[43m,\u001b[49m\u001b[43m \u001b[49m\u001b[38;5;124;43m\"\u001b[39;49m\u001b[38;5;124;43mvalue\u001b[39;49m\u001b[38;5;124;43m\"\u001b[39;49m\u001b[43m:\u001b[49m\u001b[43m \u001b[49m\u001b[43mvalue\u001b[49m\u001b[43m}\u001b[49m\u001b[43m)\u001b[49m[\u001b[38;5;124m\"\u001b[39m\u001b[38;5;124mvalue\u001b[39m\u001b[38;5;124m\"\u001b[39m]\n",
      "File \u001b[1;32mC:\\Data\\conda\\lib\\site-packages\\selenium\\webdriver\\remote\\webdriver.py:440\u001b[0m, in \u001b[0;36mWebDriver.execute\u001b[1;34m(self, driver_command, params)\u001b[0m\n\u001b[0;32m    438\u001b[0m response \u001b[38;5;241m=\u001b[39m \u001b[38;5;28mself\u001b[39m\u001b[38;5;241m.\u001b[39mcommand_executor\u001b[38;5;241m.\u001b[39mexecute(driver_command, params)\n\u001b[0;32m    439\u001b[0m \u001b[38;5;28;01mif\u001b[39;00m response:\n\u001b[1;32m--> 440\u001b[0m     \u001b[38;5;28;43mself\u001b[39;49m\u001b[38;5;241;43m.\u001b[39;49m\u001b[43merror_handler\u001b[49m\u001b[38;5;241;43m.\u001b[39;49m\u001b[43mcheck_response\u001b[49m\u001b[43m(\u001b[49m\u001b[43mresponse\u001b[49m\u001b[43m)\u001b[49m\n\u001b[0;32m    441\u001b[0m     response[\u001b[38;5;124m\"\u001b[39m\u001b[38;5;124mvalue\u001b[39m\u001b[38;5;124m\"\u001b[39m] \u001b[38;5;241m=\u001b[39m \u001b[38;5;28mself\u001b[39m\u001b[38;5;241m.\u001b[39m_unwrap_value(response\u001b[38;5;241m.\u001b[39mget(\u001b[38;5;124m\"\u001b[39m\u001b[38;5;124mvalue\u001b[39m\u001b[38;5;124m\"\u001b[39m, \u001b[38;5;28;01mNone\u001b[39;00m))\n\u001b[0;32m    442\u001b[0m     \u001b[38;5;28;01mreturn\u001b[39;00m response\n",
      "File \u001b[1;32mC:\\Data\\conda\\lib\\site-packages\\selenium\\webdriver\\remote\\errorhandler.py:245\u001b[0m, in \u001b[0;36mErrorHandler.check_response\u001b[1;34m(self, response)\u001b[0m\n\u001b[0;32m    243\u001b[0m         alert_text \u001b[38;5;241m=\u001b[39m value[\u001b[38;5;124m\"\u001b[39m\u001b[38;5;124malert\u001b[39m\u001b[38;5;124m\"\u001b[39m]\u001b[38;5;241m.\u001b[39mget(\u001b[38;5;124m\"\u001b[39m\u001b[38;5;124mtext\u001b[39m\u001b[38;5;124m\"\u001b[39m)\n\u001b[0;32m    244\u001b[0m     \u001b[38;5;28;01mraise\u001b[39;00m exception_class(message, screen, stacktrace, alert_text)  \u001b[38;5;66;03m# type: ignore[call-arg]  # mypy is not smart enough here\u001b[39;00m\n\u001b[1;32m--> 245\u001b[0m \u001b[38;5;28;01mraise\u001b[39;00m exception_class(message, screen, stacktrace)\n",
      "\u001b[1;31mNoSuchElementException\u001b[0m: Message: no such element: Unable to locate element: {\"method\":\"css selector\",\"selector\":\".bookTitle_book_name__JuBQ2\"}\n  (Session info: chrome=114.0.5735.91)\nStacktrace:\nBacktrace:\n\tGetHandleVerifier [0x0062A813+48355]\n\t(No symbol) [0x005BC4B1]\n\t(No symbol) [0x004C5358]\n\t(No symbol) [0x004F09A5]\n\t(No symbol) [0x004F0B3B]\n\t(No symbol) [0x0051E232]\n\t(No symbol) [0x0050A784]\n\t(No symbol) [0x0051C922]\n\t(No symbol) [0x0050A536]\n\t(No symbol) [0x004E82DC]\n\t(No symbol) [0x004E93DD]\n\tGetHandleVerifier [0x0088AABD+2539405]\n\tGetHandleVerifier [0x008CA78F+2800735]\n\tGetHandleVerifier [0x008C456C+2775612]\n\tGetHandleVerifier [0x006B51E0+616112]\n\t(No symbol) [0x005C5F8C]\n\t(No symbol) [0x005C2328]\n\t(No symbol) [0x005C240B]\n\t(No symbol) [0x005B4FF7]\n\tBaseThreadInitThunk [0x756E7D59+25]\n\tRtlInitializeExceptionChain [0x76F9B74B+107]\n\tRtlClearBits [0x76F9B6CF+191]\n"
     ]
    }
   ],
   "source": [
    "driver.find_element(By.CLASS_NAME,f'bookListItem_vendor__d_xBD').click()\n",
    "x = driver.find_element(By.CLASS_NAME,f'bookTitle_book_name__JuBQ2').text\n",
    "print(x)"
   ]
  },
  {
   "cell_type": "code",
   "execution_count": 38,
   "id": "17ec166a",
   "metadata": {
    "scrolled": false
   },
   "outputs": [
    {
     "ename": "InvalidArgumentException",
     "evalue": "Message: invalid argument: 'url' must be a string\n  (Session info: chrome=114.0.5735.91)\nStacktrace:\nBacktrace:\n\tGetHandleVerifier [0x0062A813+48355]\n\t(No symbol) [0x005BC4B1]\n\t(No symbol) [0x004C5358]\n\t(No symbol) [0x0051CF98]\n\t(No symbol) [0x0050A73C]\n\t(No symbol) [0x0051C922]\n\t(No symbol) [0x0050A536]\n\t(No symbol) [0x004E82DC]\n\t(No symbol) [0x004E93DD]\n\tGetHandleVerifier [0x0088AABD+2539405]\n\tGetHandleVerifier [0x008CA78F+2800735]\n\tGetHandleVerifier [0x008C456C+2775612]\n\tGetHandleVerifier [0x006B51E0+616112]\n\t(No symbol) [0x005C5F8C]\n\t(No symbol) [0x005C2328]\n\t(No symbol) [0x005C240B]\n\t(No symbol) [0x005B4FF7]\n\tBaseThreadInitThunk [0x756E7D59+25]\n\tRtlInitializeExceptionChain [0x76F9B74B+107]\n\tRtlClearBits [0x76F9B6CF+191]\n",
     "output_type": "error",
     "traceback": [
      "\u001b[1;31m---------------------------------------------------------------------------\u001b[0m",
      "\u001b[1;31mInvalidArgumentException\u001b[0m                  Traceback (most recent call last)",
      "Cell \u001b[1;32mIn[38], line 2\u001b[0m\n\u001b[0;32m      1\u001b[0m \u001b[38;5;66;03m# 겟으로 한번 도전\u001b[39;00m\n\u001b[1;32m----> 2\u001b[0m \u001b[43mdriver\u001b[49m\u001b[38;5;241;43m.\u001b[39;49m\u001b[43mget\u001b[49m\u001b[43m(\u001b[49m\u001b[43mdriver\u001b[49m\u001b[38;5;241;43m.\u001b[39;49m\u001b[43mfind_element\u001b[49m\u001b[43m(\u001b[49m\u001b[43mBy\u001b[49m\u001b[38;5;241;43m.\u001b[39;49m\u001b[43mCLASS_NAME\u001b[49m\u001b[43m,\u001b[49m\u001b[38;5;124;43mf\u001b[39;49m\u001b[38;5;124;43m'\u001b[39;49m\u001b[38;5;124;43mbookListItem_vendor__d_xBD\u001b[39;49m\u001b[38;5;124;43m'\u001b[39;49m\u001b[43m)\u001b[49m\u001b[38;5;241;43m.\u001b[39;49m\u001b[43mclick\u001b[49m\u001b[43m(\u001b[49m\u001b[43m)\u001b[49m\u001b[43m)\u001b[49m\n\u001b[0;32m      3\u001b[0m x \u001b[38;5;241m=\u001b[39m driver\u001b[38;5;241m.\u001b[39mfind_element(By\u001b[38;5;241m.\u001b[39mCLASS_NAME,\u001b[38;5;124mf\u001b[39m\u001b[38;5;124m'\u001b[39m\u001b[38;5;124mbookTitle_book_name__JuBQ2\u001b[39m\u001b[38;5;124m'\u001b[39m)\u001b[38;5;241m.\u001b[39mtext\n\u001b[0;32m      4\u001b[0m \u001b[38;5;28mprint\u001b[39m(x)\n",
      "File \u001b[1;32mC:\\Data\\conda\\lib\\site-packages\\selenium\\webdriver\\remote\\webdriver.py:449\u001b[0m, in \u001b[0;36mWebDriver.get\u001b[1;34m(self, url)\u001b[0m\n\u001b[0;32m    447\u001b[0m \u001b[38;5;28;01mdef\u001b[39;00m \u001b[38;5;21mget\u001b[39m(\u001b[38;5;28mself\u001b[39m, url: \u001b[38;5;28mstr\u001b[39m) \u001b[38;5;241m-\u001b[39m\u001b[38;5;241m>\u001b[39m \u001b[38;5;28;01mNone\u001b[39;00m:\n\u001b[0;32m    448\u001b[0m     \u001b[38;5;124;03m\"\"\"Loads a web page in the current browser session.\"\"\"\u001b[39;00m\n\u001b[1;32m--> 449\u001b[0m     \u001b[38;5;28;43mself\u001b[39;49m\u001b[38;5;241;43m.\u001b[39;49m\u001b[43mexecute\u001b[49m\u001b[43m(\u001b[49m\u001b[43mCommand\u001b[49m\u001b[38;5;241;43m.\u001b[39;49m\u001b[43mGET\u001b[49m\u001b[43m,\u001b[49m\u001b[43m \u001b[49m\u001b[43m{\u001b[49m\u001b[38;5;124;43m\"\u001b[39;49m\u001b[38;5;124;43murl\u001b[39;49m\u001b[38;5;124;43m\"\u001b[39;49m\u001b[43m:\u001b[49m\u001b[43m \u001b[49m\u001b[43murl\u001b[49m\u001b[43m}\u001b[49m\u001b[43m)\u001b[49m\n",
      "File \u001b[1;32mC:\\Data\\conda\\lib\\site-packages\\selenium\\webdriver\\remote\\webdriver.py:440\u001b[0m, in \u001b[0;36mWebDriver.execute\u001b[1;34m(self, driver_command, params)\u001b[0m\n\u001b[0;32m    438\u001b[0m response \u001b[38;5;241m=\u001b[39m \u001b[38;5;28mself\u001b[39m\u001b[38;5;241m.\u001b[39mcommand_executor\u001b[38;5;241m.\u001b[39mexecute(driver_command, params)\n\u001b[0;32m    439\u001b[0m \u001b[38;5;28;01mif\u001b[39;00m response:\n\u001b[1;32m--> 440\u001b[0m     \u001b[38;5;28;43mself\u001b[39;49m\u001b[38;5;241;43m.\u001b[39;49m\u001b[43merror_handler\u001b[49m\u001b[38;5;241;43m.\u001b[39;49m\u001b[43mcheck_response\u001b[49m\u001b[43m(\u001b[49m\u001b[43mresponse\u001b[49m\u001b[43m)\u001b[49m\n\u001b[0;32m    441\u001b[0m     response[\u001b[38;5;124m\"\u001b[39m\u001b[38;5;124mvalue\u001b[39m\u001b[38;5;124m\"\u001b[39m] \u001b[38;5;241m=\u001b[39m \u001b[38;5;28mself\u001b[39m\u001b[38;5;241m.\u001b[39m_unwrap_value(response\u001b[38;5;241m.\u001b[39mget(\u001b[38;5;124m\"\u001b[39m\u001b[38;5;124mvalue\u001b[39m\u001b[38;5;124m\"\u001b[39m, \u001b[38;5;28;01mNone\u001b[39;00m))\n\u001b[0;32m    442\u001b[0m     \u001b[38;5;28;01mreturn\u001b[39;00m response\n",
      "File \u001b[1;32mC:\\Data\\conda\\lib\\site-packages\\selenium\\webdriver\\remote\\errorhandler.py:245\u001b[0m, in \u001b[0;36mErrorHandler.check_response\u001b[1;34m(self, response)\u001b[0m\n\u001b[0;32m    243\u001b[0m         alert_text \u001b[38;5;241m=\u001b[39m value[\u001b[38;5;124m\"\u001b[39m\u001b[38;5;124malert\u001b[39m\u001b[38;5;124m\"\u001b[39m]\u001b[38;5;241m.\u001b[39mget(\u001b[38;5;124m\"\u001b[39m\u001b[38;5;124mtext\u001b[39m\u001b[38;5;124m\"\u001b[39m)\n\u001b[0;32m    244\u001b[0m     \u001b[38;5;28;01mraise\u001b[39;00m exception_class(message, screen, stacktrace, alert_text)  \u001b[38;5;66;03m# type: ignore[call-arg]  # mypy is not smart enough here\u001b[39;00m\n\u001b[1;32m--> 245\u001b[0m \u001b[38;5;28;01mraise\u001b[39;00m exception_class(message, screen, stacktrace)\n",
      "\u001b[1;31mInvalidArgumentException\u001b[0m: Message: invalid argument: 'url' must be a string\n  (Session info: chrome=114.0.5735.91)\nStacktrace:\nBacktrace:\n\tGetHandleVerifier [0x0062A813+48355]\n\t(No symbol) [0x005BC4B1]\n\t(No symbol) [0x004C5358]\n\t(No symbol) [0x0051CF98]\n\t(No symbol) [0x0050A73C]\n\t(No symbol) [0x0051C922]\n\t(No symbol) [0x0050A536]\n\t(No symbol) [0x004E82DC]\n\t(No symbol) [0x004E93DD]\n\tGetHandleVerifier [0x0088AABD+2539405]\n\tGetHandleVerifier [0x008CA78F+2800735]\n\tGetHandleVerifier [0x008C456C+2775612]\n\tGetHandleVerifier [0x006B51E0+616112]\n\t(No symbol) [0x005C5F8C]\n\t(No symbol) [0x005C2328]\n\t(No symbol) [0x005C240B]\n\t(No symbol) [0x005B4FF7]\n\tBaseThreadInitThunk [0x756E7D59+25]\n\tRtlInitializeExceptionChain [0x76F9B74B+107]\n\tRtlClearBits [0x76F9B6CF+191]\n"
     ]
    }
   ],
   "source": [
    "# 겟으로 한번 도전\n",
    "driver.get(driver.find_element(By.CLASS_NAME,f'bookListItem_vendor__d_xBD').click())\n",
    "x = driver.find_element(By.CLASS_NAME,f'bookTitle_book_name__JuBQ2').text\n",
    "print(x)\n",
    "# 주소가 아니라서  get불가"
   ]
  },
  {
   "cell_type": "markdown",
   "id": "b9ecd333",
   "metadata": {},
   "source": [
    "### 새창 전환"
   ]
  },
  {
   "cell_type": "code",
   "execution_count": 78,
   "id": "6d2d904a",
   "metadata": {},
   "outputs": [],
   "source": [
    "# 판매처 보유 도서 창 클릭\n",
    "driver.find_element(By.CLASS_NAME,f'bookListItem_vendor__d_xBD').click()"
   ]
  },
  {
   "cell_type": "code",
   "execution_count": 72,
   "id": "b2909843",
   "metadata": {},
   "outputs": [
    {
     "name": "stdout",
     "output_type": "stream",
     "text": [
      "['97B1234E8B07995879078E4AD679D003', '39664D277D2B77191731CBBB28CDA6F5']\n"
     ]
    }
   ],
   "source": [
    "# 현재 다루고 있는 창 목력 출력\n",
    "main = driver.window_handles\n",
    "print(main) \n",
    "# 위에서 클릭했기 때문에 총 2개가 뜨는것을 확인함 // 이건 굳이 필요없음"
   ]
  },
  {
   "cell_type": "code",
   "execution_count": 73,
   "id": "fc11bfee",
   "metadata": {
    "scrolled": true
   },
   "outputs": [
    {
     "name": "stdout",
     "output_type": "stream",
     "text": [
      "2023 경찰 헌법집중 기출해설 경찰간부 일반경찰 시험 대비\n",
      "2023 경찰 헌법집중 기출해설경찰간부 일반경찰 시험 대비\n"
     ]
    }
   ],
   "source": [
    "# driver.switch_to.frame(driver.window_handles[1]) # 창 화면 전환\n",
    "driver.switch_to.window(main[1]) \n",
    "\n",
    "x = driver.find_element(By.CLASS_NAME,f'bookTitle_book_name__JuBQ2').text\n",
    "y = driver.find_element(By.CLASS_NAME,f'bookTitle_sub_title__B0uMS').text\n",
    "t = driver.find_element(By.CLASS_NAME,f'bookTitle_title_area__fspvB').text\n",
    "print(x, y)\n",
    "print(t)\n",
    "# driver.close()\n",
    "\n",
    "# driver.switch_to.window(main[1]) \n",
    "\n",
    "# driver.to_switch(driver.window_handles[0]) # 모든 작업 후 꼭 전환을 해야함"
   ]
  },
  {
   "cell_type": "code",
   "execution_count": 84,
   "id": "cf1a3ca5",
   "metadata": {
    "scrolled": true
   },
   "outputs": [
    {
     "name": "stdout",
     "output_type": "stream",
     "text": [
      "2023 경찰 헌법집중 기출해설 경찰간부 일반경찰 시험 대비\n",
      "2023 경찰 헌법집중 기출해설경찰간부 일반경찰 시험 대비\n"
     ]
    }
   ],
   "source": [
    "# driver.switch_to.frame(driver.window_handles[1]) # 창 화면 전환\n",
    "driver.switch_to.window(driver.window_handles[1]) \n",
    "\n",
    "x = driver.find_element(By.CLASS_NAME,f'bookTitle_book_name__JuBQ2').text\n",
    "y = driver.find_element(By.CLASS_NAME,f'bookTitle_sub_title__B0uMS').text\n",
    "t = driver.find_element(By.CLASS_NAME,f'bookTitle_title_area__fspvB').text\n",
    "print(x, y)\n",
    "print(t)\n",
    "# driver.close()\n",
    "\n",
    "# driver.switch_to.window(main[1]) \n",
    "\n",
    "# driver.to_switch(driver.window_handles[0]) # 모든 작업 후 꼭 전환을 해야함"
   ]
  },
  {
   "cell_type": "code",
   "execution_count": 80,
   "id": "f17fa70a",
   "metadata": {},
   "outputs": [],
   "source": [
    "driver.close()"
   ]
  },
  {
   "cell_type": "code",
   "execution_count": 82,
   "id": "9f43d1f3",
   "metadata": {},
   "outputs": [],
   "source": [
    "driver.switch_to.window(driver.window_handles[0]) "
   ]
  },
  {
   "cell_type": "code",
   "execution_count": 83,
   "id": "20f2bc99",
   "metadata": {},
   "outputs": [
    {
     "data": {
      "text/plain": [
       "'2023 경찰 헌법집중 기출해설 (경찰간부 일반경찰 시험 대비)'"
      ]
     },
     "execution_count": 83,
     "metadata": {},
     "output_type": "execute_result"
    }
   ],
   "source": [
    "driver.find_element(By.CLASS_NAME,f'bookListItem_text__bglOw').text"
   ]
  },
  {
   "cell_type": "markdown",
   "id": "b10f96c1",
   "metadata": {},
   "source": [
    "#### 새창 전환 정리"
   ]
  },
  {
   "cell_type": "code",
   "execution_count": null,
   "id": "17c21f67",
   "metadata": {},
   "outputs": [],
   "source": [
    "driver.switch_to.window(driver.window_handles[1]) \n",
    "# 원하는 작업\n",
    "driver.close() # 종료\n",
    "driver.switch_to.window(driver.window_handles[0])  # 다시 본화면 전환"
   ]
  },
  {
   "cell_type": "markdown",
   "id": "ffb61550",
   "metadata": {},
   "source": [
    "### 이미지 가져오기"
   ]
  },
  {
   "cell_type": "code",
   "execution_count": 90,
   "id": "63e2452b",
   "metadata": {},
   "outputs": [
    {
     "ename": "URLError",
     "evalue": "<urlopen error unknown url type: c>",
     "output_type": "error",
     "traceback": [
      "\u001b[1;31m---------------------------------------------------------------------------\u001b[0m",
      "\u001b[1;31mURLError\u001b[0m                                  Traceback (most recent call last)",
      "Cell \u001b[1;32mIn[90], line 3\u001b[0m\n\u001b[0;32m      1\u001b[0m \u001b[38;5;66;03m# 새창 전환 후\u001b[39;00m\n\u001b[0;32m      2\u001b[0m test \u001b[38;5;241m=\u001b[39m driver\u001b[38;5;241m.\u001b[39mfind_element(By\u001b[38;5;241m.\u001b[39mCSS_SELECTOR,\u001b[38;5;124m'\u001b[39m\u001b[38;5;124m.bookImage_img_area__kiGb6\u001b[39m\u001b[38;5;124m'\u001b[39m)\u001b[38;5;241m.\u001b[39mget_attribute(\u001b[38;5;124m'\u001b[39m\u001b[38;5;124msrc\u001b[39m\u001b[38;5;124m'\u001b[39m)\n\u001b[1;32m----> 3\u001b[0m \u001b[43mrequest\u001b[49m\u001b[38;5;241;43m.\u001b[39;49m\u001b[43murlretrieve\u001b[49m\u001b[43m(\u001b[49m\u001b[38;5;124;43mf\u001b[39;49m\u001b[38;5;124;43m\"\u001b[39;49m\u001b[38;5;124;43mC://police_img//\u001b[39;49m\u001b[38;5;132;43;01m{\u001b[39;49;00m\u001b[43mt\u001b[49m\u001b[38;5;132;43;01m}\u001b[39;49;00m\u001b[38;5;124;43m.jpg\u001b[39;49m\u001b[38;5;124;43m\"\u001b[39;49m\u001b[43m)\u001b[49m\n",
      "File \u001b[1;32mC:\\Data\\conda\\lib\\urllib\\request.py:241\u001b[0m, in \u001b[0;36murlretrieve\u001b[1;34m(url, filename, reporthook, data)\u001b[0m\n\u001b[0;32m    224\u001b[0m \u001b[38;5;124;03m\"\"\"\u001b[39;00m\n\u001b[0;32m    225\u001b[0m \u001b[38;5;124;03mRetrieve a URL into a temporary location on disk.\u001b[39;00m\n\u001b[0;32m    226\u001b[0m \n\u001b[1;32m   (...)\u001b[0m\n\u001b[0;32m    237\u001b[0m \u001b[38;5;124;03mdata file as well as the resulting HTTPMessage object.\u001b[39;00m\n\u001b[0;32m    238\u001b[0m \u001b[38;5;124;03m\"\"\"\u001b[39;00m\n\u001b[0;32m    239\u001b[0m url_type, path \u001b[38;5;241m=\u001b[39m _splittype(url)\n\u001b[1;32m--> 241\u001b[0m \u001b[38;5;28;01mwith\u001b[39;00m contextlib\u001b[38;5;241m.\u001b[39mclosing(\u001b[43murlopen\u001b[49m\u001b[43m(\u001b[49m\u001b[43murl\u001b[49m\u001b[43m,\u001b[49m\u001b[43m \u001b[49m\u001b[43mdata\u001b[49m\u001b[43m)\u001b[49m) \u001b[38;5;28;01mas\u001b[39;00m fp:\n\u001b[0;32m    242\u001b[0m     headers \u001b[38;5;241m=\u001b[39m fp\u001b[38;5;241m.\u001b[39minfo()\n\u001b[0;32m    244\u001b[0m     \u001b[38;5;66;03m# Just return the local path and the \"headers\" for file://\u001b[39;00m\n\u001b[0;32m    245\u001b[0m     \u001b[38;5;66;03m# URLs. No sense in performing a copy unless requested.\u001b[39;00m\n",
      "File \u001b[1;32mC:\\Data\\conda\\lib\\urllib\\request.py:216\u001b[0m, in \u001b[0;36murlopen\u001b[1;34m(url, data, timeout, cafile, capath, cadefault, context)\u001b[0m\n\u001b[0;32m    214\u001b[0m \u001b[38;5;28;01melse\u001b[39;00m:\n\u001b[0;32m    215\u001b[0m     opener \u001b[38;5;241m=\u001b[39m _opener\n\u001b[1;32m--> 216\u001b[0m \u001b[38;5;28;01mreturn\u001b[39;00m \u001b[43mopener\u001b[49m\u001b[38;5;241;43m.\u001b[39;49m\u001b[43mopen\u001b[49m\u001b[43m(\u001b[49m\u001b[43murl\u001b[49m\u001b[43m,\u001b[49m\u001b[43m \u001b[49m\u001b[43mdata\u001b[49m\u001b[43m,\u001b[49m\u001b[43m \u001b[49m\u001b[43mtimeout\u001b[49m\u001b[43m)\u001b[49m\n",
      "File \u001b[1;32mC:\\Data\\conda\\lib\\urllib\\request.py:519\u001b[0m, in \u001b[0;36mOpenerDirector.open\u001b[1;34m(self, fullurl, data, timeout)\u001b[0m\n\u001b[0;32m    516\u001b[0m     req \u001b[38;5;241m=\u001b[39m meth(req)\n\u001b[0;32m    518\u001b[0m sys\u001b[38;5;241m.\u001b[39maudit(\u001b[38;5;124m'\u001b[39m\u001b[38;5;124murllib.Request\u001b[39m\u001b[38;5;124m'\u001b[39m, req\u001b[38;5;241m.\u001b[39mfull_url, req\u001b[38;5;241m.\u001b[39mdata, req\u001b[38;5;241m.\u001b[39mheaders, req\u001b[38;5;241m.\u001b[39mget_method())\n\u001b[1;32m--> 519\u001b[0m response \u001b[38;5;241m=\u001b[39m \u001b[38;5;28;43mself\u001b[39;49m\u001b[38;5;241;43m.\u001b[39;49m\u001b[43m_open\u001b[49m\u001b[43m(\u001b[49m\u001b[43mreq\u001b[49m\u001b[43m,\u001b[49m\u001b[43m \u001b[49m\u001b[43mdata\u001b[49m\u001b[43m)\u001b[49m\n\u001b[0;32m    521\u001b[0m \u001b[38;5;66;03m# post-process response\u001b[39;00m\n\u001b[0;32m    522\u001b[0m meth_name \u001b[38;5;241m=\u001b[39m protocol\u001b[38;5;241m+\u001b[39m\u001b[38;5;124m\"\u001b[39m\u001b[38;5;124m_response\u001b[39m\u001b[38;5;124m\"\u001b[39m\n",
      "File \u001b[1;32mC:\\Data\\conda\\lib\\urllib\\request.py:541\u001b[0m, in \u001b[0;36mOpenerDirector._open\u001b[1;34m(self, req, data)\u001b[0m\n\u001b[0;32m    538\u001b[0m \u001b[38;5;28;01mif\u001b[39;00m result:\n\u001b[0;32m    539\u001b[0m     \u001b[38;5;28;01mreturn\u001b[39;00m result\n\u001b[1;32m--> 541\u001b[0m \u001b[38;5;28;01mreturn\u001b[39;00m \u001b[38;5;28;43mself\u001b[39;49m\u001b[38;5;241;43m.\u001b[39;49m\u001b[43m_call_chain\u001b[49m\u001b[43m(\u001b[49m\u001b[38;5;28;43mself\u001b[39;49m\u001b[38;5;241;43m.\u001b[39;49m\u001b[43mhandle_open\u001b[49m\u001b[43m,\u001b[49m\u001b[43m \u001b[49m\u001b[38;5;124;43m'\u001b[39;49m\u001b[38;5;124;43munknown\u001b[39;49m\u001b[38;5;124;43m'\u001b[39;49m\u001b[43m,\u001b[49m\n\u001b[0;32m    542\u001b[0m \u001b[43m                        \u001b[49m\u001b[38;5;124;43m'\u001b[39;49m\u001b[38;5;124;43munknown_open\u001b[39;49m\u001b[38;5;124;43m'\u001b[39;49m\u001b[43m,\u001b[49m\u001b[43m \u001b[49m\u001b[43mreq\u001b[49m\u001b[43m)\u001b[49m\n",
      "File \u001b[1;32mC:\\Data\\conda\\lib\\urllib\\request.py:496\u001b[0m, in \u001b[0;36mOpenerDirector._call_chain\u001b[1;34m(self, chain, kind, meth_name, *args)\u001b[0m\n\u001b[0;32m    494\u001b[0m \u001b[38;5;28;01mfor\u001b[39;00m handler \u001b[38;5;129;01min\u001b[39;00m handlers:\n\u001b[0;32m    495\u001b[0m     func \u001b[38;5;241m=\u001b[39m \u001b[38;5;28mgetattr\u001b[39m(handler, meth_name)\n\u001b[1;32m--> 496\u001b[0m     result \u001b[38;5;241m=\u001b[39m \u001b[43mfunc\u001b[49m\u001b[43m(\u001b[49m\u001b[38;5;241;43m*\u001b[39;49m\u001b[43margs\u001b[49m\u001b[43m)\u001b[49m\n\u001b[0;32m    497\u001b[0m     \u001b[38;5;28;01mif\u001b[39;00m result \u001b[38;5;129;01mis\u001b[39;00m \u001b[38;5;129;01mnot\u001b[39;00m \u001b[38;5;28;01mNone\u001b[39;00m:\n\u001b[0;32m    498\u001b[0m         \u001b[38;5;28;01mreturn\u001b[39;00m result\n",
      "File \u001b[1;32mC:\\Data\\conda\\lib\\urllib\\request.py:1419\u001b[0m, in \u001b[0;36mUnknownHandler.unknown_open\u001b[1;34m(self, req)\u001b[0m\n\u001b[0;32m   1417\u001b[0m \u001b[38;5;28;01mdef\u001b[39;00m \u001b[38;5;21munknown_open\u001b[39m(\u001b[38;5;28mself\u001b[39m, req):\n\u001b[0;32m   1418\u001b[0m     \u001b[38;5;28mtype\u001b[39m \u001b[38;5;241m=\u001b[39m req\u001b[38;5;241m.\u001b[39mtype\n\u001b[1;32m-> 1419\u001b[0m     \u001b[38;5;28;01mraise\u001b[39;00m URLError(\u001b[38;5;124m'\u001b[39m\u001b[38;5;124munknown url type: \u001b[39m\u001b[38;5;132;01m%s\u001b[39;00m\u001b[38;5;124m'\u001b[39m \u001b[38;5;241m%\u001b[39m \u001b[38;5;28mtype\u001b[39m)\n",
      "\u001b[1;31mURLError\u001b[0m: <urlopen error unknown url type: c>"
     ]
    }
   ],
   "source": [
    "# 새창 전환 후\n",
    "test = driver.find_element(By.CSS_SELECTOR,'.bookImage_img_area__kiGb6').get_attribute('src')\n",
    "request.urlretrieve(f\"C://police_img//{t}.jpg\")"
   ]
  },
  {
   "cell_type": "code",
   "execution_count": 92,
   "id": "356598f1",
   "metadata": {
    "scrolled": false
   },
   "outputs": [
    {
     "data": {
      "text/plain": [
       "('C:\\\\police_img\\\\2023 경찰 헌법집중 기출해설경찰간부 일반경찰 시험 대비.jpg',\n",
       " <http.client.HTTPMessage at 0x16c98b2bf70>)"
      ]
     },
     "execution_count": 92,
     "metadata": {},
     "output_type": "execute_result"
    }
   ],
   "source": [
    "url = driver.find_element(By.XPATH, '//*[@id=\"container\"]/div[2]/div[1]/div[1]/div[1]/div[1]/div/img').get_attribute(\"src\")\n",
    "request.urlretrieve(url,f\"C:\\\\police_img\\\\{t}.jpg\")"
   ]
  },
  {
   "cell_type": "markdown",
   "id": "fbda0c64",
   "metadata": {},
   "source": [
    "### 저자, 출판, 발행일"
   ]
  },
  {
   "cell_type": "code",
   "execution_count": 98,
   "id": "b64b82f8",
   "metadata": {},
   "outputs": [
    {
     "name": "stdout",
     "output_type": "stream",
     "text": [
      "['선동주'] ['윌비스'] ['2023.11.10.']\n"
     ]
    }
   ],
   "source": [
    "# a,b,c 가 각 저자,출판, 발행일\n",
    "a,b,c = [],[],[]\n",
    "info = driver.find_elements(By.CLASS_NAME, \"bookTitle_inner_content__REoK1\")\n",
    "a.append(info[0].text)\n",
    "b.append(info[1].text)\n",
    "c.append(info[2].text)\n",
    "print(a,b,c)"
   ]
  },
  {
   "cell_type": "code",
   "execution_count": 99,
   "id": "6e5199d3",
   "metadata": {},
   "outputs": [],
   "source": [
    "driver.switch_to.window(driver.window_handles[1]) "
   ]
  },
  {
   "cell_type": "code",
   "execution_count": 100,
   "id": "36ca0e06",
   "metadata": {},
   "outputs": [
    {
     "name": "stdout",
     "output_type": "stream",
     "text": [
      "['선동주', '김옥현'] ['윌비스', '연(淵)'] ['2023.11.10.', '2023.09.20.']\n"
     ]
    }
   ],
   "source": [
    "info = driver.find_elements(By.CLASS_NAME, \"bookTitle_inner_content__REoK1\")\n",
    "a.append(info[0].text)\n",
    "b.append(info[1].text)\n",
    "c.append(info[2].text)\n",
    "print(a,b,c)"
   ]
  },
  {
   "cell_type": "markdown",
   "id": "8463f93d",
   "metadata": {},
   "source": [
    "### 책정보(카테고리, 쪽수, 무게 크기, ISBN)"
   ]
  },
  {
   "cell_type": "code",
   "execution_count": 105,
   "id": "8ee14722",
   "metadata": {},
   "outputs": [
    {
     "name": "stdout",
     "output_type": "stream",
     "text": [
      "['경찰직'] ['9791197865367'] ['444쪽'] ['188*257*30mm'] ['0g']\n"
     ]
    }
   ],
   "source": [
    "cate, page, size, code, wei = [], [], [], [], []\n",
    "sub1 = driver.find_elements(By.CLASS_NAME, \"bookBasicInfo_info_detail__I0Fx5\") # 카테고리, ISBN\n",
    "sub2 = driver.find_elements(By.CLASS_NAME, \"bookBasicInfo_spec__qmQ_N\") # 쪽수, 크기(무게)\n",
    "cate.append(sub1[0].text)\n",
    "code.append(sub1[2].text)\n",
    "page.append(sub2[0].text)\n",
    "wei.append(sub2[1].text)\n",
    "size.append(sub2[2].text)\n",
    "print(cate, code, page, size, wei)"
   ]
  },
  {
   "cell_type": "code",
   "execution_count": 102,
   "id": "cfbb3d89",
   "metadata": {},
   "outputs": [
    {
     "data": {
      "text/plain": [
       "['444쪽0g188*257*30mm', '9791197865367']"
      ]
     },
     "execution_count": 102,
     "metadata": {},
     "output_type": "execute_result"
    }
   ],
   "source": [
    "code.append(sub1[2].text)\n",
    "code"
   ]
  },
  {
   "cell_type": "code",
   "execution_count": 103,
   "id": "dcfba0b2",
   "metadata": {},
   "outputs": [
    {
     "data": {
      "text/plain": [
       "'444쪽0g188*257*30mm'"
      ]
     },
     "execution_count": 103,
     "metadata": {},
     "output_type": "execute_result"
    }
   ],
   "source": [
    "sub1[1].text"
   ]
  },
  {
   "cell_type": "markdown",
   "id": "12360124",
   "metadata": {},
   "source": [
    "### 목차\n",
    "- 목차펼치기 클릭후 목차 정보 수집"
   ]
  },
  {
   "cell_type": "code",
   "execution_count": 109,
   "id": "4948fc44",
   "metadata": {},
   "outputs": [],
   "source": [
    "driver.find_element(By.CSS_SELECTOR, \"#book_section-info > div:nth-child(5) > div.infoItem_data_box__VwBf3 > a\").click()\n",
    "time.sleep(1)\n",
    "\n",
    "tee = driver.find_element(By.XPATH, '//*[@id=\"book_section-info\"]/div[5]/div[2]/div[1]').text"
   ]
  },
  {
   "cell_type": "code",
   "execution_count": 110,
   "id": "82084582",
   "metadata": {},
   "outputs": [
    {
     "data": {
      "text/plain": [
       "'제1편 생물학적 범죄 이론\\n제1장 초기의 생물학적 이론\\n제1절 범죄생물학의 전개 23\\n제2절 전통적인 범죄생물학 이론 26\\n제2장 현대의 범죄생물학적 이론과 진화생물학적 범죄학\\n제1절 현대의 범죄생물학적 이론 38\\n제2절 진화심리학적 범죄학 51\\n제3절 생물학적 이론의 학문적 평가 53\\n제4절 생물학적 이론의 정책적 시사(示唆·suggestion) 54\\n\\n제2편 심리학적 범죄이론\\n제1장 지능과 범죄\\n제1절 지능에 관한 본성이론과 양육이론 57\\n제2절 범죄에 관한 인지발달이론 59\\n제3절 범죄에 관한 행동주의이론 66\\n제2장 성격(인성)이론(personality theory)\\n제1절 인성·성격과 범죄 개설 70\\n제2절 사이코패시(Psychopathy)와 범죄 75\\n제3장 정신(심리)분석학적 범죄이론\\n제1절 프로이트(S.Freud)의 정신분석학과 범죄 79\\n제2절 후속 정신분석학과 반사회적 일탈행동 84'"
      ]
     },
     "execution_count": 110,
     "metadata": {},
     "output_type": "execute_result"
    }
   ],
   "source": [
    "tee"
   ]
  },
  {
   "cell_type": "code",
   "execution_count": 139,
   "id": "2c0e6bcd",
   "metadata": {
    "scrolled": true
   },
   "outputs": [],
   "source": [
    "big, mid, small, tot, sub_p = [],[],[], [],[]\n",
    "txts = tee.split('\\n')\n",
    "if '' in txts:\n",
    "    txts.remove('')\n",
    "else:\n",
    "    pass\n",
    "\n",
    "try:\n",
    "    for t in txts:\n",
    "        if t[2] == '편':\n",
    "            big.append(t)\n",
    "        elif t[2] == '장':\n",
    "            mid.append(t)\n",
    "        elif t[2] == '절':\n",
    "            x = t.split(' ')\n",
    "            try:\n",
    "                if x[-1].isnumeric() == True:\n",
    "                    sub_p.append(x[-1])\n",
    "            except:\n",
    "                sub_p.append(np.null)\n",
    "            small.append(t)\n",
    "        else:\n",
    "            tot.append(t)\n",
    "except:\n",
    "    small.append(np.nan)\n",
    "    mid.append(np.nan)\n",
    "    big.append(np.nan)\n",
    "    tot.append(t)"
   ]
  },
  {
   "cell_type": "code",
   "execution_count": 140,
   "id": "b2547a79",
   "metadata": {},
   "outputs": [
    {
     "name": "stdout",
     "output_type": "stream",
     "text": [
      "['제1편 생물학적 범죄 이론', '제2편 심리학적 범죄이론'] ['제1장 초기의 생물학적 이론', '제2장 현대의 범죄생물학적 이론과 진화생물학적 범죄학', '제1장 지능과 범죄', '제2장 성격(인성)이론(personality theory)', '제3장 정신(심리)분석학적 범죄이론'] ['23', '26', '38', '51', '53', '54', '57', '59', '66', '70', '75', '79', '84']\n"
     ]
    }
   ],
   "source": [
    "print(big, mid, sub_p)"
   ]
  },
  {
   "cell_type": "markdown",
   "id": "8b08948c",
   "metadata": {},
   "source": [
    "- 다 좋은데 다들 같은 양식이라는 보장이 없음\n",
    "- 임의로 try, except구문으로 지정함"
   ]
  },
  {
   "cell_type": "markdown",
   "id": "a155fabc",
   "metadata": {},
   "source": [
    "### 교보문고 정보"
   ]
  },
  {
   "cell_type": "code",
   "execution_count": 146,
   "id": "20cd7e29",
   "metadata": {},
   "outputs": [
    {
     "name": "stdout",
     "output_type": "stream",
     "text": [
      "국내도서 > 취업/수험서 > 공무원 직군별 > 경찰직 > 경찰기타과목\n"
     ]
    }
   ],
   "source": [
    "# driver.find_element(By.LINK_TEXT, '교보문고').click()\n",
    "driver.find_element(By.CLASS_NAME, 'bookSeller_mall_name__S0crJ').click()\n",
    "time.sleep(3)\n",
    "\n",
    "# tap switch\n",
    "driver.switch_to.window(driver.window_handles[2]) \n",
    "\n",
    "# 원하는 작업\n",
    "cate = driver.find_element(By.CLASS_NAME, 'category_list_item').text\n",
    "print(cate)\n",
    "time.sleep(2)\n",
    "driver.close() # 종료\n",
    "driver.switch_to.window(driver.window_handles[0])  # 다시 본화면 전환"
   ]
  },
  {
   "cell_type": "code",
   "execution_count": 147,
   "id": "695a6847",
   "metadata": {},
   "outputs": [
    {
     "name": "stdout",
     "output_type": "stream",
     "text": [
      "경찰기타과목\n"
     ]
    }
   ],
   "source": [
    "cc = cate.split(' ')\n",
    "print(cc[-1])"
   ]
  },
  {
   "cell_type": "code",
   "execution_count": 148,
   "id": "5e2300b9",
   "metadata": {},
   "outputs": [
    {
     "name": "stdout",
     "output_type": "stream",
     "text": [
      "경찰기타과목\n"
     ]
    }
   ],
   "source": [
    "print(cate.split(' ')[-1])"
   ]
  },
  {
   "cell_type": "markdown",
   "id": "f9b346b5",
   "metadata": {},
   "source": [
    "### ISBN 수집\n",
    "- isbn(1), setisbn, 제본형식(3), 판사항(4), 이전판 정보(5), 키워드(11)"
   ]
  },
  {
   "cell_type": "code",
   "execution_count": 156,
   "id": "751433ac",
   "metadata": {
    "scrolled": true
   },
   "outputs": [
    {
     "ename": "NoSuchElementException",
     "evalue": "Message: no such element: Unable to locate element: {\"method\":\"css selector\",\"selector\":\"#resultList_div > form > div > div > div > div > a\"}\n  (Session info: chrome=114.0.5735.91)\nStacktrace:\nBacktrace:\n\tGetHandleVerifier [0x0062A813+48355]\n\t(No symbol) [0x005BC4B1]\n\t(No symbol) [0x004C5358]\n\t(No symbol) [0x004F09A5]\n\t(No symbol) [0x004F0B3B]\n\t(No symbol) [0x0051E232]\n\t(No symbol) [0x0050A784]\n\t(No symbol) [0x0051C922]\n\t(No symbol) [0x0050A536]\n\t(No symbol) [0x004E82DC]\n\t(No symbol) [0x004E93DD]\n\tGetHandleVerifier [0x0088AABD+2539405]\n\tGetHandleVerifier [0x008CA78F+2800735]\n\tGetHandleVerifier [0x008C456C+2775612]\n\tGetHandleVerifier [0x006B51E0+616112]\n\t(No symbol) [0x005C5F8C]\n\t(No symbol) [0x005C2328]\n\t(No symbol) [0x005C240B]\n\t(No symbol) [0x005B4FF7]\n\tBaseThreadInitThunk [0x756E7D59+25]\n\tRtlInitializeExceptionChain [0x76F9B74B+107]\n\tRtlClearBits [0x76F9B6CF+191]\n",
     "output_type": "error",
     "traceback": [
      "\u001b[1;31m---------------------------------------------------------------------------\u001b[0m",
      "\u001b[1;31mAttributeError\u001b[0m                            Traceback (most recent call last)",
      "Cell \u001b[1;32mIn[156], line 11\u001b[0m\n\u001b[0;32m     10\u001b[0m time\u001b[38;5;241m.\u001b[39msleep(\u001b[38;5;241m2\u001b[39m)\n\u001b[1;32m---> 11\u001b[0m \u001b[43mtest_l\u001b[49m\u001b[38;5;241;43m.\u001b[39;49m\u001b[43mappend\u001b[49m\u001b[43m(\u001b[49m\u001b[43mdriver\u001b[49m\u001b[38;5;241;43m.\u001b[39;49m\u001b[43mfind_element\u001b[49m\u001b[43m(\u001b[49m\u001b[43mBy\u001b[49m\u001b[38;5;241;43m.\u001b[39;49m\u001b[43mXPATH\u001b[49m\u001b[43m,\u001b[49m\u001b[43m \u001b[49m\u001b[38;5;124;43m'\u001b[39;49m\u001b[38;5;124;43m//*[@id=\u001b[39;49m\u001b[38;5;124;43m\"\u001b[39;49m\u001b[38;5;124;43mcontents\u001b[39;49m\u001b[38;5;124;43m\"\u001b[39;49m\u001b[38;5;124;43m]/div/div[1]/div[2]/div[2]/ul/li[1]/div\u001b[39;49m\u001b[38;5;124;43m'\u001b[39;49m\u001b[43m)\u001b[49m\u001b[43m)\u001b[49m\u001b[38;5;241;43m.\u001b[39;49m\u001b[43mtext\u001b[49m\n\u001b[0;32m     12\u001b[0m test_l\u001b[38;5;241m.\u001b[39mappend(driver\u001b[38;5;241m.\u001b[39mfind_element(By\u001b[38;5;241m.\u001b[39mXPATH, \u001b[38;5;124m'\u001b[39m\u001b[38;5;124m//*[@id=\u001b[39m\u001b[38;5;124m\"\u001b[39m\u001b[38;5;124mcontents\u001b[39m\u001b[38;5;124m\"\u001b[39m\u001b[38;5;124m]/div/div[1]/div[2]/div[2]/ul/li[2]/div\u001b[39m\u001b[38;5;124m'\u001b[39m))\u001b[38;5;241m.\u001b[39mtext\n",
      "\u001b[1;31mAttributeError\u001b[0m: 'NoneType' object has no attribute 'text'",
      "\nDuring handling of the above exception, another exception occurred:\n",
      "\u001b[1;31mNoSuchElementException\u001b[0m                    Traceback (most recent call last)",
      "Cell \u001b[1;32mIn[156], line 18\u001b[0m\n\u001b[0;32m     16\u001b[0m     test_l\u001b[38;5;241m.\u001b[39mappend(driver\u001b[38;5;241m.\u001b[39mfind_element(By\u001b[38;5;241m.\u001b[39mXPATH, \u001b[38;5;124m'\u001b[39m\u001b[38;5;124m//*[@id=\u001b[39m\u001b[38;5;124m\"\u001b[39m\u001b[38;5;124mcontents\u001b[39m\u001b[38;5;124m\"\u001b[39m\u001b[38;5;124m]/div/div[1]/div[2]/div[2]/ul/li[12]/div\u001b[39m\u001b[38;5;124m'\u001b[39m))\u001b[38;5;241m.\u001b[39mtext\n\u001b[0;32m     17\u001b[0m \u001b[38;5;28;01mexcept\u001b[39;00m: \u001b[38;5;66;03m# 단일권인 경우\u001b[39;00m\n\u001b[1;32m---> 18\u001b[0m     \u001b[43mdriver\u001b[49m\u001b[38;5;241;43m.\u001b[39;49m\u001b[43mfind_element\u001b[49m\u001b[43m(\u001b[49m\u001b[43mBy\u001b[49m\u001b[38;5;241;43m.\u001b[39;49m\u001b[43mCSS_SELECTOR\u001b[49m\u001b[43m,\u001b[49m\u001b[43m \u001b[49m\u001b[38;5;124;43m'\u001b[39;49m\u001b[38;5;124;43m#resultList_div > form > div > div > div > div > a\u001b[39;49m\u001b[38;5;124;43m'\u001b[39;49m\u001b[43m)\u001b[49m\u001b[38;5;241m.\u001b[39mclick()\n\u001b[0;32m     19\u001b[0m     time\u001b[38;5;241m.\u001b[39msleep(\u001b[38;5;241m3\u001b[39m)\n\u001b[0;32m     20\u001b[0m     test_l\u001b[38;5;241m.\u001b[39mappend(driver\u001b[38;5;241m.\u001b[39mfind_element(By\u001b[38;5;241m.\u001b[39mXPATH, \u001b[38;5;124m'\u001b[39m\u001b[38;5;124m//*[@id=\u001b[39m\u001b[38;5;124m\"\u001b[39m\u001b[38;5;124mcontents\u001b[39m\u001b[38;5;124m\"\u001b[39m\u001b[38;5;124m]/div/div[1]/div[2]/div[2]/ul/li[1]/div\u001b[39m\u001b[38;5;124m'\u001b[39m)\u001b[38;5;241m.\u001b[39mtext)\n",
      "File \u001b[1;32mC:\\Data\\conda\\lib\\site-packages\\selenium\\webdriver\\remote\\webdriver.py:831\u001b[0m, in \u001b[0;36mWebDriver.find_element\u001b[1;34m(self, by, value)\u001b[0m\n\u001b[0;32m    828\u001b[0m     by \u001b[38;5;241m=\u001b[39m By\u001b[38;5;241m.\u001b[39mCSS_SELECTOR\n\u001b[0;32m    829\u001b[0m     value \u001b[38;5;241m=\u001b[39m \u001b[38;5;124mf\u001b[39m\u001b[38;5;124m'\u001b[39m\u001b[38;5;124m[name=\u001b[39m\u001b[38;5;124m\"\u001b[39m\u001b[38;5;132;01m{\u001b[39;00mvalue\u001b[38;5;132;01m}\u001b[39;00m\u001b[38;5;124m\"\u001b[39m\u001b[38;5;124m]\u001b[39m\u001b[38;5;124m'\u001b[39m\n\u001b[1;32m--> 831\u001b[0m \u001b[38;5;28;01mreturn\u001b[39;00m \u001b[38;5;28;43mself\u001b[39;49m\u001b[38;5;241;43m.\u001b[39;49m\u001b[43mexecute\u001b[49m\u001b[43m(\u001b[49m\u001b[43mCommand\u001b[49m\u001b[38;5;241;43m.\u001b[39;49m\u001b[43mFIND_ELEMENT\u001b[49m\u001b[43m,\u001b[49m\u001b[43m \u001b[49m\u001b[43m{\u001b[49m\u001b[38;5;124;43m\"\u001b[39;49m\u001b[38;5;124;43musing\u001b[39;49m\u001b[38;5;124;43m\"\u001b[39;49m\u001b[43m:\u001b[49m\u001b[43m \u001b[49m\u001b[43mby\u001b[49m\u001b[43m,\u001b[49m\u001b[43m \u001b[49m\u001b[38;5;124;43m\"\u001b[39;49m\u001b[38;5;124;43mvalue\u001b[39;49m\u001b[38;5;124;43m\"\u001b[39;49m\u001b[43m:\u001b[49m\u001b[43m \u001b[49m\u001b[43mvalue\u001b[49m\u001b[43m}\u001b[49m\u001b[43m)\u001b[49m[\u001b[38;5;124m\"\u001b[39m\u001b[38;5;124mvalue\u001b[39m\u001b[38;5;124m\"\u001b[39m]\n",
      "File \u001b[1;32mC:\\Data\\conda\\lib\\site-packages\\selenium\\webdriver\\remote\\webdriver.py:440\u001b[0m, in \u001b[0;36mWebDriver.execute\u001b[1;34m(self, driver_command, params)\u001b[0m\n\u001b[0;32m    438\u001b[0m response \u001b[38;5;241m=\u001b[39m \u001b[38;5;28mself\u001b[39m\u001b[38;5;241m.\u001b[39mcommand_executor\u001b[38;5;241m.\u001b[39mexecute(driver_command, params)\n\u001b[0;32m    439\u001b[0m \u001b[38;5;28;01mif\u001b[39;00m response:\n\u001b[1;32m--> 440\u001b[0m     \u001b[38;5;28;43mself\u001b[39;49m\u001b[38;5;241;43m.\u001b[39;49m\u001b[43merror_handler\u001b[49m\u001b[38;5;241;43m.\u001b[39;49m\u001b[43mcheck_response\u001b[49m\u001b[43m(\u001b[49m\u001b[43mresponse\u001b[49m\u001b[43m)\u001b[49m\n\u001b[0;32m    441\u001b[0m     response[\u001b[38;5;124m\"\u001b[39m\u001b[38;5;124mvalue\u001b[39m\u001b[38;5;124m\"\u001b[39m] \u001b[38;5;241m=\u001b[39m \u001b[38;5;28mself\u001b[39m\u001b[38;5;241m.\u001b[39m_unwrap_value(response\u001b[38;5;241m.\u001b[39mget(\u001b[38;5;124m\"\u001b[39m\u001b[38;5;124mvalue\u001b[39m\u001b[38;5;124m\"\u001b[39m, \u001b[38;5;28;01mNone\u001b[39;00m))\n\u001b[0;32m    442\u001b[0m     \u001b[38;5;28;01mreturn\u001b[39;00m response\n",
      "File \u001b[1;32mC:\\Data\\conda\\lib\\site-packages\\selenium\\webdriver\\remote\\errorhandler.py:245\u001b[0m, in \u001b[0;36mErrorHandler.check_response\u001b[1;34m(self, response)\u001b[0m\n\u001b[0;32m    243\u001b[0m         alert_text \u001b[38;5;241m=\u001b[39m value[\u001b[38;5;124m\"\u001b[39m\u001b[38;5;124malert\u001b[39m\u001b[38;5;124m\"\u001b[39m]\u001b[38;5;241m.\u001b[39mget(\u001b[38;5;124m\"\u001b[39m\u001b[38;5;124mtext\u001b[39m\u001b[38;5;124m\"\u001b[39m)\n\u001b[0;32m    244\u001b[0m     \u001b[38;5;28;01mraise\u001b[39;00m exception_class(message, screen, stacktrace, alert_text)  \u001b[38;5;66;03m# type: ignore[call-arg]  # mypy is not smart enough here\u001b[39;00m\n\u001b[1;32m--> 245\u001b[0m \u001b[38;5;28;01mraise\u001b[39;00m exception_class(message, screen, stacktrace)\n",
      "\u001b[1;31mNoSuchElementException\u001b[0m: Message: no such element: Unable to locate element: {\"method\":\"css selector\",\"selector\":\"#resultList_div > form > div > div > div > div > a\"}\n  (Session info: chrome=114.0.5735.91)\nStacktrace:\nBacktrace:\n\tGetHandleVerifier [0x0062A813+48355]\n\t(No symbol) [0x005BC4B1]\n\t(No symbol) [0x004C5358]\n\t(No symbol) [0x004F09A5]\n\t(No symbol) [0x004F0B3B]\n\t(No symbol) [0x0051E232]\n\t(No symbol) [0x0050A784]\n\t(No symbol) [0x0051C922]\n\t(No symbol) [0x0050A536]\n\t(No symbol) [0x004E82DC]\n\t(No symbol) [0x004E93DD]\n\tGetHandleVerifier [0x0088AABD+2539405]\n\tGetHandleVerifier [0x008CA78F+2800735]\n\tGetHandleVerifier [0x008C456C+2775612]\n\tGetHandleVerifier [0x006B51E0+616112]\n\t(No symbol) [0x005C5F8C]\n\t(No symbol) [0x005C2328]\n\t(No symbol) [0x005C240B]\n\t(No symbol) [0x005B4FF7]\n\tBaseThreadInitThunk [0x756E7D59+25]\n\tRtlInitializeExceptionChain [0x76F9B74B+107]\n\tRtlClearBits [0x76F9B6CF+191]\n"
     ]
    }
   ],
   "source": [
    "driver.switch_to.window(driver.window_handles[1]) # switch // 나중엔 교보문고 페이지에서 수행할거임\n",
    "test_l =[]\n",
    "# 지금은 임시로 부여지만 나중에 함수 짤떄는 자동으로 파악하도록하기\n",
    "isbn = 9791166184604\n",
    "driver.get(f'https://www.nl.go.kr/seoji/contents/S80100000000.do?schType=simple&schStr={isbn}')\n",
    "try: # 세트인 경우\n",
    "    p = driver.find_element(By.XPATH, '//*[@id=\"resultList_div\"]/form/div[1]/div/div/ul/li[6]').text\n",
    "    test_l.append(p)\n",
    "    driver.find_element(By.XPATH, f'//*[@id=\"resultList_div\"]/form/div[{1}]/div/div/div/a').click()\n",
    "    time.sleep(2)\n",
    "    test_l.append(driver.find_element(By.XPATH, '//*[@id=\"contents\"]/div/div[1]/div[2]/div[2]/ul/li[1]/div')).text\n",
    "    test_l.append(driver.find_element(By.XPATH, '//*[@id=\"contents\"]/div/div[1]/div[2]/div[2]/ul/li[2]/div')).text\n",
    "    test_l.append(driver.find_element(By.XPATH, '//*[@id=\"contents\"]/div/div[1]/div[2]/div[2]/ul/li[4]/div')).text\n",
    "    test_l.append(driver.find_element(By.XPATH, '//*[@id=\"contents\"]/div/div[1]/div[2]/div[2]/ul/li[5]/div')).text\n",
    "    test_l.append(driver.find_element(By.XPATH, '//*[@id=\"contents\"]/div/div[1]/div[2]/div[2]/ul/li[6]/div')).text\n",
    "    test_l.append(driver.find_element(By.XPATH, '//*[@id=\"contents\"]/div/div[1]/div[2]/div[2]/ul/li[12]/div')).text\n",
    "except: # 단일권인 경우\n",
    "    driver.find_element(By.CSS_SELECTOR, '#resultList_div > form > div > div > div > div > a').click() \n",
    "    time.sleep(3)\n",
    "    test_l.append(driver.find_element(By.XPATH, '//*[@id=\"contents\"]/div/div[1]/div[2]/div[2]/ul/li[1]/div').text)\n",
    "    # setisbn null값으로 부여하기\n",
    "    test_l.append(driver.find_element(By.XPATH, '//*[@id=\"contents\"]/div/div[1]/div[2]/div[2]/ul/li[3]/div')).text\n",
    "    test_l.append(driver.find_element(By.XPATH, '//*[@id=\"contents\"]/div/div[1]/div[2]/div[2]/ul/li[4]/div')).text\n",
    "    test_l.append(driver.find_element(By.XPATH, '//*[@id=\"contents\"]/div/div[1]/div[2]/div[2]/ul/li[5]/div')).text\n",
    "    test_l.append(driver.find_element(By.XPATH, '//*[@id=\"contents\"]/div/div[1]/div[2]/div[2]/ul/li[11]/div')).text"
   ]
  },
  {
   "cell_type": "markdown",
   "id": "dde75527",
   "metadata": {},
   "source": [
    "- try구문시 위에서 [1]있는 세트권이랑 저게 없는 단일권이랑 같이 페이지가 적용됨\n",
    "-> 그래서 try에서 페이지가 이미 이동하였기 때문에 오류가 계속 발생함"
   ]
  },
  {
   "cell_type": "code",
   "execution_count": 158,
   "id": "bd564ce1",
   "metadata": {},
   "outputs": [],
   "source": [
    "\n",
    "driver.find_element(By.CSS_SELECTOR, '#resultList_div > form > div > div > div > div > a').click()\n",
    "time.sleep(3)\n",
    "test_l.append(driver.find_element(By.XPATH, '//*[@id=\"contents\"]/div/div[1]/div[2]/div[2]/ul/li[1]/div').text)"
   ]
  },
  {
   "cell_type": "code",
   "execution_count": 159,
   "id": "34225333",
   "metadata": {},
   "outputs": [
    {
     "data": {
      "text/plain": [
       "['가격: 25,000원',\n",
       " <selenium.webdriver.remote.webelement.WebElement (session=\"a436e1d760dfe27e714bb042101546a7\", element=\"D2D7D6A9977609D966EEFE36D8A93E89_element_220\")>,\n",
       " '979-11-6618-460-4 (13360)']"
      ]
     },
     "execution_count": 159,
     "metadata": {},
     "output_type": "execute_result"
    }
   ],
   "source": [
    "test_l"
   ]
  },
  {
   "cell_type": "code",
   "execution_count": 162,
   "id": "0830ef73",
   "metadata": {
    "scrolled": true
   },
   "outputs": [
    {
     "data": {
      "text/plain": [
       "'979-11-6618-460-4 (13360)'"
      ]
     },
     "execution_count": 162,
     "metadata": {},
     "output_type": "execute_result"
    }
   ],
   "source": [
    "driver.find_element(By.XPATH, f'//*[@id=\"resultList_div\"]/form/div[{1}]/div/div/div/a').click()\n",
    "time.sleep(3)\n",
    "driver.find_element(By.XPATH, '//*[@id=\"contents\"]/div/div[1]/div[2]/div[2]/ul/li[1]/div').text"
   ]
  },
  {
   "cell_type": "markdown",
   "id": "e8a5a123",
   "metadata": {},
   "source": [
    "#### 단일권 적용해보기"
   ]
  },
  {
   "cell_type": "code",
   "execution_count": 168,
   "id": "5e0a62c4",
   "metadata": {},
   "outputs": [
    {
     "data": {
      "text/plain": [
       "['979-11-6618-460-4 (13360)',\n",
       " '종이책 - 무선제본',\n",
       " '2023년판',\n",
       " '이전판 ISBN (979-11-6618-241-9)\\n정보확인',\n",
       " '경찰간부;일반경찰']"
      ]
     },
     "execution_count": 168,
     "metadata": {},
     "output_type": "execute_result"
    }
   ],
   "source": [
    "ls = [] # 결과물 담을 리스트\n",
    "\n",
    "driver.find_element(By.XPATH, f'//*[@id=\"resultList_div\"]/form/div[{1}]/div/div/div/a').click()\n",
    "time.sleep(3)\n",
    "ls.append(driver.find_element(By.XPATH, '//*[@id=\"contents\"]/div/div[1]/div[2]/div[2]/ul/li[1]/div').text)\n",
    "ls.append(driver.find_element(By.XPATH, '//*[@id=\"contents\"]/div/div[1]/div[2]/div[2]/ul/li[3]/div').text)\n",
    "ls.append(driver.find_element(By.XPATH, '//*[@id=\"contents\"]/div/div[1]/div[2]/div[2]/ul/li[4]/div').text)\n",
    "ls.append(driver.find_element(By.XPATH, '//*[@id=\"contents\"]/div/div[1]/div[2]/div[2]/ul/li[5]/div').text)\n",
    "ls.append(driver.find_element(By.XPATH, '//*[@id=\"contents\"]/div/div[1]/div[2]/div[2]/ul/li[11]/div').text)\n",
    "\n",
    "ls"
   ]
  },
  {
   "cell_type": "markdown",
   "id": "fcff965d",
   "metadata": {},
   "source": [
    "#### ISBN 코드 정리"
   ]
  },
  {
   "cell_type": "code",
   "execution_count": null,
   "id": "d4f24d43",
   "metadata": {},
   "outputs": [],
   "source": [
    "driver.find_elements(By.CLASS_NAME, 'resultData')\n",
    "if len(driver.find_elements(By.CLASS_NAME, 'resultData'))==1:\n",
    "    #단일권 함수\n",
    "else:\n",
    "    # 세트권 함수"
   ]
  }
 ],
 "metadata": {
  "kernelspec": {
   "display_name": "Python 3 (ipykernel)",
   "language": "python",
   "name": "python3"
  },
  "language_info": {
   "codemirror_mode": {
    "name": "ipython",
    "version": 3
   },
   "file_extension": ".py",
   "mimetype": "text/x-python",
   "name": "python",
   "nbconvert_exporter": "python",
   "pygments_lexer": "ipython3",
   "version": "3.10.9"
  }
 },
 "nbformat": 4,
 "nbformat_minor": 5
}
