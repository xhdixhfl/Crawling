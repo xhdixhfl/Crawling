{
 "cells": [
  {
   "cell_type": "markdown",
   "id": "a72092b2",
   "metadata": {},
   "source": [
    "<!-- 교재ID(PK)\n",
    "목차ID(PK)\n",
    "상위목차ID\n",
    "목차명\n",
    "시작페이지\n",
    "종료페이지\n",
    "목차학습연계여부\n",
    "depth\n",
    "입력날짜\n",
    "수정날짜 -->"
   ]
  },
  {
   "cell_type": "code",
   "execution_count": null,
   "id": "42d44ada",
   "metadata": {},
   "outputs": [],
   "source": [
    "# # 저장될 리스트\n",
    "# bookID, mokchaID, high_mokchaID, contents, learning, depth,etc= [],[],[],[],[],[],[]\n",
    "# start_pn, end_pn = [],[]\n",
    "\n",
    "## 사용할 변수\n",
    "# isbn\n",
    "# mid\n",
    "# hmid\n",
    "# cont\n",
    "# pn\n",
    "# learn\n",
    "# d\n",
    "# e"
   ]
  },
  {
   "cell_type": "code",
   "execution_count": 1,
   "id": "205fb6f0",
   "metadata": {},
   "outputs": [],
   "source": [
    "import pandas as pd\n",
    "import numpy as np\n",
    "import re"
   ]
  },
  {
   "cell_type": "code",
   "execution_count": 2,
   "id": "a7d692f3",
   "metadata": {},
   "outputs": [],
   "source": [
    "# 패턴을 이용하여 저장 값을 리스트로 되돌리는 함수\n",
    "def make_ls(c,i): # 인덱스 리스트와 순서를 받음\n",
    "    matches = re.findall(r\"'(.*?)'\", c[i])\n",
    "    return list(matches)\n",
    "\n",
    "def clear_text(sentence):  # 목차 내용 정제 함수\n",
    "    pattern = r'[\\w가-힣]+'\n",
    "    extracted = re.findall(pattern, sentence)\n",
    "    result = ' '.join(extracted)\n",
    "    return result\n",
    "    \n",
    "def delete_text(sentence):\n",
    "    pattern = r'u3000|u000|u00|uf0ab|u2005|'#목차 더보기'\n",
    "    result = re.sub(pattern, '', sentence)\n",
    "    return result\n",
    "\n",
    "def split_pn(line): # 페이지 분리 함수 |Ⅸ\n",
    "    l = line.split(' ')[-1]\n",
    "    a = re.sub(r'(?![ⅠⅡⅢⅣⅤⅥⅦⅧⅨⅩ])\\S', '', l).strip()\n",
    "    if l.isnumeric() == True and a == '':\n",
    "        page = l\n",
    "        line = ' '.join(line.split(' ')[:-1])\n",
    "        if len(page) > 3:\n",
    "            k = 'pn'\n",
    "        else:\n",
    "            k = 0\n",
    "    else:\n",
    "        page = np.NaN\n",
    "        k = 0\n",
    "    return line, page, k \n",
    "\n",
    "def plus_pandan(pd_l):\n",
    "    if '총' in pd_l and '각' in pd_l:\n",
    "        i = pd_l.index('총')\n",
    "        pd_l[i] = ['총', '각']\n",
    "        pd_l.remove('각')\n",
    "    elif '총론' in pd_l and '각론' in pd_l:\n",
    "        i = pd_l.index('총론')\n",
    "        pd_l[i] = ['총론', '각론']\n",
    "        pd_l.remove('각론')\n",
    "    elif '형법총론' in pd_l and '형법각론' in pd_l:\n",
    "        i = pd_l.index('형법총론')\n",
    "        pd_l[i] = ['형법총론', '형법각론']\n",
    "        pd_l.remove('형법각론')\n",
    "    elif '헌법총론' in pd_l and '헌법각론' in pd_l:\n",
    "        i = pd_l.index('헌법총론')\n",
    "        pd_l[i] = ['헌법총론', '헌법각론']\n",
    "        pd_l.remove('헌법각론')\n",
    "    else:\n",
    "        pass\n",
    "    return pd_l\n"
   ]
  },
  {
   "cell_type": "code",
   "execution_count": 3,
   "id": "de949127",
   "metadata": {},
   "outputs": [],
   "source": [
    "def classification_list2(text, ex): # 판별 요소 설정 함수\n",
    "    pd_l,ck_l, ck_ls = [],[],[]\n",
    "    for idx, line in enumerate(text):\n",
    "        a = re.sub(r'(?![ⅠⅡⅢⅣⅤⅥⅦⅧⅨⅩ])\\S', '', line).strip()\n",
    "        # 숫자 판별\n",
    "        if line[0].isnumeric() == True: \n",
    "            if a != '' and 'roma' not in pd_l: # 로마 숫자\n",
    "                ck_l.append(line) # 위치 저장\n",
    "                ck_ls.append('roma')\n",
    "                pd_l.append('roma')\n",
    "            elif a != '' and 'roma' in pd_l: # 로마 숫자\n",
    "                ck_l.append(line) # 위치 저장\n",
    "                ck_ls.append('roma')\n",
    "            elif a == '' and line[1] in ['부', '절','편','강'] and 'num' not in pd_l :\n",
    "                ck_l.append(line)\n",
    "                ck_ls.append('num')\n",
    "                pd_l.append('num') # 분류랑 숫자 결합\n",
    "            elif a == '' and line[1] in ['부', '절','편','강'] and 'num' in pd_l:\n",
    "                ck_l.append(line)\n",
    "                ck_ls.append('num')\n",
    "            elif a == '' and line[1] not in ['부', '절','편','강'] and 'ara' not in pd_l :\n",
    "                ck_l.append(line)\n",
    "                ck_ls.append('ara')\n",
    "                pd_l.append('ara') # 분류랑 숫자 결합\n",
    "            elif a == '' and line[1] not in ['부', '절','편','강'] and 'ara' in pd_l:\n",
    "                ck_l.append(line)\n",
    "                ck_ls.append('ara')\n",
    "        elif line[0].isnumeric() != True:   # 포함되는 리스트\n",
    "            t = re.sub(r'[^a-zA-Z가-힣]','',line.lower())  # 기록 시에는 line을 기록해야 함\n",
    "            b = ex.match(t)\n",
    "            if b and b.group() not in pd_l:\n",
    "                pd_l.append(b.group())\n",
    "                ck_l.append(line)\n",
    "                ck_ls.append(b.group())\n",
    "            elif b and b.group() in pd_l:\n",
    "                ck_l.append(line)\n",
    "                ck_ls.append(b.group())\n",
    "                pass\n",
    "            else:\n",
    "                pd_l.append('check')\n",
    "                \n",
    "    return pd_l, ck_l,ck_ls"
   ]
  },
  {
   "cell_type": "code",
   "execution_count": 15,
   "id": "f29b4559",
   "metadata": {},
   "outputs": [],
   "source": [
    "def clear_idx(isbn, tit, text, i, ex):\n",
    "    code = isbn[i] # isbn, main_title\n",
    "    title = tit[i]\n",
    "#     d1,d2,d3,d4 = 0,0,0,0  # 뎁스 채울 변수(초기화)\n",
    "    if '목차 더보기' in text: # 잘못 들어간 단어 삭제(틀 전체로 접근하다 보니 같이 달려옴)\n",
    "        text.remove('목차 더보기')\n",
    "    text = [clear_text(r) for r in text] # 이상한 문자 제거\n",
    "    text = [delete_text(r) for r in text]\n",
    "    pandan,ck_l, ck_ls = classification_list2(text,ex)\n",
    "    return ck_l\n",
    "\n"
   ]
  },
  {
   "cell_type": "code",
   "execution_count": 6,
   "id": "ca749a1a",
   "metadata": {
    "collapsed": true
   },
   "outputs": [
    {
     "ename": "SyntaxError",
     "evalue": "incomplete input (3248899620.py, line 46)",
     "output_type": "error",
     "traceback": [
      "\u001b[1;36m  Cell \u001b[1;32mIn[6], line 46\u001b[1;36m\u001b[0m\n\u001b[1;33m    \u001b[0m\n\u001b[1;37m    ^\u001b[0m\n\u001b[1;31mSyntaxError\u001b[0m\u001b[1;31m:\u001b[0m incomplete input\n"
     ]
    }
   ],
   "source": [
    "## 상위뎁스와 뎁스 그리고 이상치들의 판별이 필요함. \n",
    "def depth_pandan(pandan,ck_ls):\n",
    "    dic = {}\n",
    "    for i, v in enumerate(pandan):\n",
    "        dic[v] = i\n",
    "    for i in range(len(ck_ls)):\n",
    "        ck_ls[i] = dic[f'{ck_ls[i]}']\n",
    "        \n",
    "    return ck_ls # 순서로 변화된 리스트 출력,"
   ]
  },
  {
   "cell_type": "code",
   "execution_count": 39,
   "id": "9decac31",
   "metadata": {
    "scrolled": true
   },
   "outputs": [
    {
     "data": {
      "text/plain": [
       "[0, 6, 8, 13]"
      ]
     },
     "execution_count": 39,
     "metadata": {},
     "output_type": "execute_result"
    }
   ],
   "source": [
    "test = [1,2,2,2,3,4,1,2,1,2,3,4,5,1,3]\n",
    "tt = [i for i in range(len(test)) if test[i]==1]\n",
    "tt"
   ]
  },
  {
   "cell_type": "code",
   "execution_count": 50,
   "id": "4544ea6d",
   "metadata": {},
   "outputs": [
    {
     "name": "stdout",
     "output_type": "stream",
     "text": [
      "4\n",
      "2\n",
      "5\n",
      "3\n"
     ]
    }
   ],
   "source": [
    "for i in range(len(tt)):\n",
    "    if i != len(tt)-1:\n",
    "        print(np.unique(test[tt[i]:tt[i+1]])[-1])\n",
    "    else:\n",
    "        print(np.unique(test[tt[i]:])[-1])"
   ]
  },
  {
   "cell_type": "code",
   "execution_count": null,
   "id": "90253be1",
   "metadata": {},
   "outputs": [],
   "source": [
    "np.unique(test[tt[0]:tt[1]])[-1]"
   ]
  },
  {
   "cell_type": "markdown",
   "id": "1f41f1b5",
   "metadata": {},
   "source": [
    "- 위에 정리한걸 토대로 수험연계 판별하는거랑, 뎁스구조에 문제있는지 체크하는걸로 알아보고 싶어서 작성중이였음."
   ]
  },
  {
   "cell_type": "code",
   "execution_count": 8,
   "id": "e32a4337",
   "metadata": {},
   "outputs": [],
   "source": [
    "# raw data\n",
    "df1 = pd.read_excel(\"C:\\police_data\\police_idx(total)_07_10.xlsx\")\n",
    "df2 = pd.read_excel(\"C:\\police_data\\police_book(total)_07_10.xlsx\")"
   ]
  },
  {
   "cell_type": "code",
   "execution_count": 9,
   "id": "2e28fdbc",
   "metadata": {},
   "outputs": [],
   "source": [
    "df2 = df2.loc[df2['set_isbn'] == 0 ,('isbn')]\n",
    "df1 = df1.loc[:, ('isbn','main_title','index')]"
   ]
  },
  {
   "cell_type": "code",
   "execution_count": 10,
   "id": "913fcbc5",
   "metadata": {},
   "outputs": [
    {
     "data": {
      "text/html": [
       "<div>\n",
       "<style scoped>\n",
       "    .dataframe tbody tr th:only-of-type {\n",
       "        vertical-align: middle;\n",
       "    }\n",
       "\n",
       "    .dataframe tbody tr th {\n",
       "        vertical-align: top;\n",
       "    }\n",
       "\n",
       "    .dataframe thead th {\n",
       "        text-align: right;\n",
       "    }\n",
       "</style>\n",
       "<table border=\"1\" class=\"dataframe\">\n",
       "  <thead>\n",
       "    <tr style=\"text-align: right;\">\n",
       "      <th></th>\n",
       "      <th>isbn</th>\n",
       "      <th>main_title</th>\n",
       "      <th>index</th>\n",
       "    </tr>\n",
       "  </thead>\n",
       "  <tbody>\n",
       "    <tr>\n",
       "      <th>0</th>\n",
       "      <td>9791163485803</td>\n",
       "      <td>2024 장정훈오현웅 경찰실무종합</td>\n",
       "      <td>['제1장 경찰학 총설_4', '제1절 경찰의 개념과 임무 ·············...</td>\n",
       "    </tr>\n",
       "    <tr>\n",
       "      <th>1</th>\n",
       "      <td>9791169991803</td>\n",
       "      <td>2024 해커스경찰 조현 경찰학 기출문제집(경찰공무원)</td>\n",
       "      <td>['제1편 총론', '제1장 경찰의 의의', '제1절 대륙법계와 영미법계의 경찰',...</td>\n",
       "    </tr>\n",
       "    <tr>\n",
       "      <th>2</th>\n",
       "      <td>9791169993579</td>\n",
       "      <td>2024 해커스경찰 황남기 경찰헌법 기본서 (경찰공무원)</td>\n",
       "      <td>['제1편 헌법총론', '제1장 헌법의 의의와 기능', '제 1절 헌법의 의의 10...</td>\n",
       "    </tr>\n",
       "    <tr>\n",
       "      <th>3</th>\n",
       "      <td>9791169992695</td>\n",
       "      <td>2023 해커스경찰 갓대환 형사법 진도별 문제풀이 1000제2차 시험 대비(경찰공무원)</td>\n",
       "      <td>['제1편 형법 총론', '제2편 형법 각론', '제3편 형사소송법 수사', '제4...</td>\n",
       "    </tr>\n",
       "    <tr>\n",
       "      <th>4</th>\n",
       "      <td>9791169991797</td>\n",
       "      <td>2024 해커스경찰 조현 경찰학 기본서</td>\n",
       "      <td>['* 본문 중 중요한 내용을 목차에 표기하였으니, 이 점 참고해주시기 바랍니다.'...</td>\n",
       "    </tr>\n",
       "    <tr>\n",
       "      <th>...</th>\n",
       "      <td>...</td>\n",
       "      <td>...</td>\n",
       "      <td>...</td>\n",
       "    </tr>\n",
       "    <tr>\n",
       "      <th>181</th>\n",
       "      <td>9791169660174</td>\n",
       "      <td>2024 윤우혁 경찰헌법 기본서</td>\n",
       "      <td>['PART 01 헌법총론', 'CHAPTER 01 헌법과 헌법학', 'SECTIO...</td>\n",
       "    </tr>\n",
       "    <tr>\n",
       "      <th>182</th>\n",
       "      <td>9791192930039</td>\n",
       "      <td>2024 Bestlo 주관식 형사소송법</td>\n",
       "      <td>['Theme 1. 실체진실주의(경정91, 경간2018) ★ 1', 'Theme 2...</td>\n",
       "    </tr>\n",
       "    <tr>\n",
       "      <th>183</th>\n",
       "      <td>9791130343884</td>\n",
       "      <td>2023~2024 백광훈 통합 핵지총 OX 형사소송법의 수사와 증거</td>\n",
       "      <td>['형사소송법의 수사와 증거', 'CHAPTER 01 수사', '01 수사의 의의와...</td>\n",
       "    </tr>\n",
       "    <tr>\n",
       "      <th>184</th>\n",
       "      <td>9791167733191</td>\n",
       "      <td>2024 정인홍 경찰헌법 기본서</td>\n",
       "      <td>['제1편 헌법 총론과 대한민국헌법의 기본질서', '제1장 헌법 총론', '제1절 ...</td>\n",
       "    </tr>\n",
       "    <tr>\n",
       "      <th>185</th>\n",
       "      <td>9791165234188</td>\n",
       "      <td>2024 ACL 김중근 컴팩트 기출문제집 1 : 형법총론편</td>\n",
       "      <td>['PART 01 개인적 법익에 대한 죄', 'CHAPTER 01 생명과 신체에 대...</td>\n",
       "    </tr>\n",
       "  </tbody>\n",
       "</table>\n",
       "<p>186 rows × 3 columns</p>\n",
       "</div>"
      ],
      "text/plain": [
       "              isbn                                        main_title  \\\n",
       "0    9791163485803                                2024 장정훈오현웅 경찰실무종합   \n",
       "1    9791169991803                    2024 해커스경찰 조현 경찰학 기출문제집(경찰공무원)   \n",
       "2    9791169993579                   2024 해커스경찰 황남기 경찰헌법 기본서 (경찰공무원)   \n",
       "3    9791169992695  2023 해커스경찰 갓대환 형사법 진도별 문제풀이 1000제2차 시험 대비(경찰공무원)   \n",
       "4    9791169991797                             2024 해커스경찰 조현 경찰학 기본서   \n",
       "..             ...                                               ...   \n",
       "181  9791169660174                                 2024 윤우혁 경찰헌법 기본서   \n",
       "182  9791192930039                             2024 Bestlo 주관식 형사소송법   \n",
       "183  9791130343884             2023~2024 백광훈 통합 핵지총 OX 형사소송법의 수사와 증거   \n",
       "184  9791167733191                                 2024 정인홍 경찰헌법 기본서   \n",
       "185  9791165234188                  2024 ACL 김중근 컴팩트 기출문제집 1 : 형법총론편   \n",
       "\n",
       "                                                 index  \n",
       "0    ['제1장 경찰학 총설_4', '제1절 경찰의 개념과 임무 ·············...  \n",
       "1    ['제1편 총론', '제1장 경찰의 의의', '제1절 대륙법계와 영미법계의 경찰',...  \n",
       "2    ['제1편 헌법총론', '제1장 헌법의 의의와 기능', '제 1절 헌법의 의의 10...  \n",
       "3    ['제1편 형법 총론', '제2편 형법 각론', '제3편 형사소송법 수사', '제4...  \n",
       "4    ['* 본문 중 중요한 내용을 목차에 표기하였으니, 이 점 참고해주시기 바랍니다.'...  \n",
       "..                                                 ...  \n",
       "181  ['PART 01 헌법총론', 'CHAPTER 01 헌법과 헌법학', 'SECTIO...  \n",
       "182  ['Theme 1. 실체진실주의(경정91, 경간2018) ★ 1', 'Theme 2...  \n",
       "183  ['형사소송법의 수사와 증거', 'CHAPTER 01 수사', '01 수사의 의의와...  \n",
       "184  ['제1편 헌법 총론과 대한민국헌법의 기본질서', '제1장 헌법 총론', '제1절 ...  \n",
       "185  ['PART 01 개인적 법익에 대한 죄', 'CHAPTER 01 생명과 신체에 대...  \n",
       "\n",
       "[186 rows x 3 columns]"
      ]
     },
     "execution_count": 10,
     "metadata": {},
     "output_type": "execute_result"
    }
   ],
   "source": [
    "data = pd.merge(df1,df2)\n",
    "data"
   ]
  },
  {
   "cell_type": "code",
   "execution_count": 16,
   "id": "64ea2e36",
   "metadata": {},
   "outputs": [],
   "source": [
    "# 변수 설정\n",
    "isbn, tit, text = data['isbn'], data['main_title'], data['index']\n",
    "\n",
    "# 저장될 리스트\n",
    "isbn_ls, main_title, depth_1, depth_2, depth_3, depth_4, depth_5,depth_6= [],[],[],[],[],[],[],[]\n",
    "petc, oetc, etc, pages = [],[],[],[]\n",
    "# depth정보를 저장할 변수\n",
    "d1,d2,d3,d4,d5,d6 = '','','','','',''\n",
    "# 구분자 리스트\n",
    "pandan = []\n",
    "# 구분자, 교재명\n",
    "check, title = '',''\n",
    "# isbn, 페이지\n",
    "code, p = 0,0"
   ]
  },
  {
   "cell_type": "code",
   "execution_count": 17,
   "id": "485a393d",
   "metadata": {},
   "outputs": [],
   "source": [
    "# 지정 구분자\n",
    "ex = re.compile(\"제절|제편|제강|제항|제장|제회|제부|제과|제관|강|목|장|항|회|부|사례|총론|형법총론|헌법총론|각론|형법각론|헌법각론|부록|키워드|최근|실전|모의|문제|정답|해설|차례|전범위|기출|참고|판례|핵심|part|chapter|day|section|theme|case|keyword|point|q|question|contents\")"
   ]
  },
  {
   "cell_type": "code",
   "execution_count": 18,
   "id": "774f1f70",
   "metadata": {},
   "outputs": [],
   "source": [
    "# 실행\n",
    "for i in range(len(text)):\n",
    "    try:\n",
    "        tet = make_ls(text, i)\n",
    "        clear_idx(isbn, tit, tet, i, ex)\n",
    "    except:\n",
    "#         print('i')\n",
    "        isbn_ls.append(isbn[i])\n",
    "        main_title.append(tit[i])\n",
    "        etc.append(2)  # 데이터가 존재하지 않는 경우\n",
    "        petc.append(2)\n",
    "        oetc.append(2)\n",
    "        for k in [depth_1, depth_2,depth_3,depth_4,depth_5,depth_6,pages]:\n",
    "            k.append(np.NaN)"
   ]
  },
  {
   "cell_type": "code",
   "execution_count": 29,
   "id": "8ff52f4d",
   "metadata": {},
   "outputs": [
    {
     "data": {
      "text/plain": [
       "['제1편 서론',\n",
       " '제1장 형사소송법의 기초',\n",
       " '제1절 형사소송법의 의의와 성격',\n",
       " '제2절 형사소송법의 법원 法源 과 적용범위',\n",
       " '제2장 형사소송법의 기본이념',\n",
       " '제1절 형사소송법의 목적ㆍ이념',\n",
       " '제2절 형사소송의 기본구조',\n",
       " '제3절 형사소송의 기본개념정리',\n",
       " '제2편 수사',\n",
       " '제1장 수사의 기초',\n",
       " '제1절 서론',\n",
       " '제2절 수사의 단서',\n",
       " '제2장 수사의 개시',\n",
       " '제1절 수사의 일반원칙과 임의수사',\n",
       " '제2절 체포와 구속',\n",
       " '제3절 압수ㆍ수색ㆍ검증',\n",
       " '제4절 판사에 의한 강제처분',\n",
       " '제3장 수사의 종결',\n",
       " '제1절 검사의 수사의 종결',\n",
       " '제2절 불기소처분에 대한 불복',\n",
       " '제3절 공소제기 후의 수사',\n",
       " '제3편 증거',\n",
       " '제1절 증거의 의의와 종류',\n",
       " '제2절 증명의 기본원칙',\n",
       " '제3절 자백배제법칙',\n",
       " '제4절 위법수집증거배제법칙',\n",
       " '제5절 전문법칙 傳聞法則',\n",
       " '제6절 증거동의',\n",
       " '제7절 탄핵증거',\n",
       " '제8절 자백의 보강법칙',\n",
       " '제9절 공판조서의 증명력',\n",
       " '부록 공수처법']"
      ]
     },
     "execution_count": 29,
     "metadata": {},
     "output_type": "execute_result"
    }
   ],
   "source": [
    "ck_l"
   ]
  },
  {
   "cell_type": "code",
   "execution_count": 28,
   "id": "462e7876",
   "metadata": {},
   "outputs": [],
   "source": [
    "i = 8\n",
    "tet = make_ls(text, i)\n",
    "ck_l = clear_idx(isbn, tit, tet, i, ex)"
   ]
  },
  {
   "cell_type": "code",
   "execution_count": 27,
   "id": "0f4b9c9f",
   "metadata": {},
   "outputs": [
    {
     "data": {
      "text/plain": [
       "\"['제1편 서론', '제1장 형사소송법의 기초', '제1절 형사소송법의 의의와 성격', '제2절 형사소송법의 법원(法源)과 적용범위', '제2장 형사소송법의 기본이념', '제1절 형사소송법의 목적ㆍ이념', '제2절 형사소송의 기본구조', '제3절 형사소송의 기본개념정리', '제2편 수사', '제1장 수사의 기초', '제1절 서론', '제2절 수사의 단서', '제2장 수사의 개시', '제1절 수사의 일반원칙과 임의수사', '제2절 체포와 구속', '제3절 압수ㆍ수색ㆍ검증', '제4절 판사에 의한 강제처분', '제3장 수사의 종결', '제1절 검사의 수사의 종결', '제2절 불기소처분에 대한 불복', '제3절 공소제기 후의 수사', '제3편 증거', '제1절 증거의 의의와 종류', '제2절 증명의 기본원칙', '제3절 자백배제법칙', '제4절 위법수집증거배제법칙', '제5절 전문법칙(傳聞法則)', '제6절 증거동의', '제7절 탄핵증거', '제8절 자백의 보강법칙', '제9절 공판조서의 증명력', '부록 공수처법', '목차 더보기']\""
      ]
     },
     "execution_count": 27,
     "metadata": {},
     "output_type": "execute_result"
    }
   ],
   "source": [
    "text[8]"
   ]
  },
  {
   "cell_type": "code",
   "execution_count": null,
   "id": "d14bac63",
   "metadata": {},
   "outputs": [],
   "source": []
  }
 ],
 "metadata": {
  "kernelspec": {
   "display_name": "Python 3 (ipykernel)",
   "language": "python",
   "name": "python3"
  },
  "language_info": {
   "codemirror_mode": {
    "name": "ipython",
    "version": 3
   },
   "file_extension": ".py",
   "mimetype": "text/x-python",
   "name": "python",
   "nbconvert_exporter": "python",
   "pygments_lexer": "ipython3",
   "version": "3.10.9"
  }
 },
 "nbformat": 4,
 "nbformat_minor": 5
}
